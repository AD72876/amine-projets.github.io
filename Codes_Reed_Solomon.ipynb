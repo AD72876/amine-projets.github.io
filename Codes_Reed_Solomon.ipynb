{
 "cells": [
  {
   "cell_type": "markdown",
   "metadata": {
    "collapsed": false
   },
   "source": [
    "# TP noté\n",
    "\n",
    "\n",
    "**Ce TP est à rendre par email pour le vendredi 03 mai, dernier délai.**\n",
    "\n",
    "Vous pouvez rendre :\n",
    "- ou bien un fichier au format **.ipynb**, par exemple en téléchargeant puis en éditant ce sujet (voir icône de téléchargement en haut à droite), ou en créant votre propre fichier **.ipynb**\n",
    "- ou bien un fichier de script au format **.py** ou **.sage**\n",
    "\n",
    "## Présentation du sujet\n",
    "\n",
    "Dans ce TP, l'objectif est **d'implanter l'algorithme de décodage de Berlekamp-Welch** pour les **codes de Reed-Solomon**. Cet algorithme permet corriger un nombre d'erreurs allant jusqu'au rayon de décodage unique $\\lfloor \\frac{d-1}{2}\\rfloor$.\n",
    "\n",
    "Rappelons qu'un code de Reed-Solomon est défini par un ensemble de points d'évaluation deux à deux distincts ${\\bf a} = (a_1, a_2, \\dots, a_n) \\in \\mathbb{F}_q^2$ et par une dimension $k$, comme l'ensemble :\n",
    "\n",
    "$$\n",
    "{\\rm RS}_k({\\bf a}) = \\{ (f(a_1), f(a_2), \\dots, f(a_n)) \\mid f \\in \\mathbb{F}_q[x], {\\rm deg}(f) < k \\}\\,.\n",
    "$$\n",
    "\n",
    "Ces codes sont MDS, c'est-à-dire que la distance minimale du code atteint la borne de Singleton : $d = n-k+1$. Ainsi, le rayon de décodage unique d'un code de Reed-Solomon est $t := \\lfloor \\frac{d-1}{2}\\rfloor = \\lfloor \\frac{n-k}{2}\\rfloor$.\n",
    "\n",
    "**L'algorithme de Berlekamp-Welch** est le suivant :\n",
    "\n",
    "* **Entrée :** un mot de code bruité ${\\bf y} = {\\bf c} + {\\bf e} \\in \\mathbb{F}_q^n$, où ${\\bf c} \\in {\\rm RS}_k({\\bf a})$ et  ${\\bf e}  \\in \\mathbb{F}_q^n$ est de poids $\\le t$.\n",
    "* **Sortie :** le polynôme $f(x) \\in \\mathbb{F}_q[x]$ de degré $< k$ tel que  ${\\bf c} = (f(a_1), f(a_1), \\dots, f(a_n))$.\n",
    "\n",
    "1. Construire la matrice \n",
    "\n",
    "$$\n",
    "{\\bf M} =\n",
    "\\begin{pmatrix}\n",
    "y_1 & y_1 a_1 & y_1 a_1^2 & \\dots & y_1 a_1^t & -1 & - a_1 & -a_1^2 &  \\dots & -a_1^{k+t-1} \\\\\n",
    "y_2 & y_2 a_2 & y_2 a_2^2 & \\dots & y_2 a_2^t & -1 & - a_2 & -a_2^2 &  \\dots & -a_2^{k+t-1} \\\\\n",
    "y_3 & y_3 a_3 & y_3 a_3^2 & \\dots & y_3 a_3^t & -1 & - a_3 & -a_3^2 &  \\dots & -a_3^{k+t-1} \\\\\n",
    "\\vdots & \\vdots & \\vdots & & \\vdots & \\vdots & & \\vdots \\\\\n",
    "\\vdots & \\vdots & \\vdots & & \\vdots & \\vdots & & \\vdots \\\\\n",
    "\\vdots & \\vdots & \\vdots & & \\vdots & \\vdots & & \\vdots \\\\\n",
    "\\vdots & \\vdots & \\vdots & & \\vdots & \\vdots & & \\vdots \\\\\n",
    "y_n & y_n a_n & y_n a_n^2 & \\dots & y_n a_n^t & -1 & - a_n & -a_n^2 &  \\dots & -a_n^{k+t-1} \\\\\n",
    "\\end{pmatrix}\n",
    "$$\n",
    "\n",
    "2. Trouver une solution non-nulle ${\\bf s}$ au système ${\\bf M s} = {\\bf 0}$, formé de $n$ équations et $k+2t$ inconnues.\n",
    "\n",
    "3. Décomposer ${\\bf s} = ({\\bf u}, {\\bf v})$ en deux vecteurs de coefficients, où ${\\bf u} \\in \\mathbb{F}_q^{t+1}$ et ${\\bf v} \\in  \\mathbb{F}_q^{k+t}$.\n",
    "\n",
    "4. Construire les polynômes $U(x) = \\sum u_i x^i$ et $V(x) = \\sum v_i x^i$, et vérifier que $U(x)$ divise bien $V(x)$ (si ce n'est pas le cas, **retourner** une erreur).\n",
    "\n",
    "5. **Retourner** le polynôme $f(x) = \\frac{V(x)}{U(x)}$.\n",
    "\n",
    "\n",
    "Dans ce TP, pour simplifier les choses, nous allons choisir des paramètres relativement petits : le corps fini sera $\\mathbb{F}_{19}$, la longueur $n = 14$ et la dimension $k = 6$.\n",
    "\n",
    "## Partie 1. Construction d'un mot de code, ajout des erreurs\n",
    "\n",
    "\n",
    "\n",
    "**Question 1.-** Construire :\n",
    "- le corps fini $\\mathbb{F}_{19}$ et le stocker dans une variable `F`,\n",
    "- l'anneau de polynômes $\\mathbb{F}_{19}[X]$ et le stocker dans une variable `R`,\n",
    "- l'indéterminée $X$ de l'anneau $\\mathbb{F}_{19}[X]$ et la stocker dans une variable `X`,\n",
    "- deux entiers $n = 14$ et $k = 6$ et les stocker dans des variables du même nom,\n",
    "- la liste de points d'évaluation deux à deux distincts ${\\bf a} = (1, 2, 3, 4, \\dots, 12, 13, 14) \\in \\mathbb{F}_{19}^n$, et la stocker dans une variable `points`."
   ]
  },
  {
   "cell_type": "code",
   "execution_count": 257,
   "metadata": {
    "collapsed": false
   },
   "outputs": [
    {
     "name": "stdout",
     "output_type": "stream",
     "text": [
      "4\n"
     ]
    }
   ],
   "source": [
    "# Votre réponse ici\n",
    "\n",
    "\n",
    "F=GF(19)\n",
    "R = PolynomialRing(F, \"X\")\n",
    "X = R.gen()\n",
    "n=14\n",
    "k=6\n",
    "t=int(math.floor((n-k)/2))\n",
    "print(t)\n",
    "points=[i for i in range(1,15)]"
   ]
  },
  {
   "cell_type": "markdown",
   "metadata": {
    "collapsed": false
   },
   "source": [
    "**Question 2.-** Écrire une fonction `polynome_aleatoire()` qui retourne un polynôme tiré uniformément dans l'ensemble des polynômes de $\\mathbb{F}_{19}[X]$ de degré $< k$."
   ]
  },
  {
   "cell_type": "code",
   "execution_count": 258,
   "metadata": {
    "collapsed": false
   },
   "outputs": [
    {
     "data": {
      "text/plain": [
       "12*X^5 + 18*X^4 + 6*X^3 + 15*X^2 + 5*X + 1"
      ]
     },
     "execution_count": 258,
     "metadata": {
     },
     "output_type": "execute_result"
    }
   ],
   "source": [
    "# Votre réponse ici\n",
    "from random import choice\n",
    "\n",
    "def polynome_aleatoire():\n",
    "    L=[]\n",
    "    for i in range(0,k):\n",
    "        L.append(F.random_element())\n",
    "        \n",
    "    Polynome=0\n",
    "    for i in range(0,len(L)):\n",
    "        Polynome=Polynome+L[i]*X**i\n",
    "        \n",
    "    return Polynome\n",
    "\n",
    "\n",
    "polynome_aleatoire()"
   ]
  },
  {
   "cell_type": "markdown",
   "metadata": {
    "collapsed": false
   },
   "source": [
    "**Question 3.-** Écrire une fonction `encode(message)` qui prend en entrée un polynôme `message` de degré $< k$, et qui retourne le mot du code de Reed-Solomon ${\\rm RS}_k({\\bf a})$ associé. ce mot de code pourra être écrit comme une liste ou comme un élément de la classe `vector`."
   ]
  },
  {
   "cell_type": "code",
   "execution_count": 259,
   "metadata": {
    "collapsed": false
   },
   "outputs": [
    {
     "data": {
      "text/plain": [
       "[7, 15, 18, 18, 12, 7, 16, 16, 1, 16, 1, 15, 4, 6]"
      ]
     },
     "execution_count": 259,
     "metadata": {
     },
     "output_type": "execute_result"
    }
   ],
   "source": [
    "# Votre réponse ici\n",
    "def encode(message):\n",
    "    if message.degree()>k :\n",
    "        print(\"erreur\")\n",
    "    else:\n",
    "        L=message.coefficients(sparse=False)\n",
    "        liste_encode=[]\n",
    "        for i in range(0,len(points)):\n",
    "            somme=0\n",
    "            for j in range(0,len(L)):\n",
    "                           somme=somme+(points[i]**j)*L[j]\n",
    "            liste_encode.append(somme)\n",
    "            \n",
    "        return liste_encode\n",
    "\n",
    "\n",
    "exemple_mot_de_code=encode(polynome_aleatoire())\n",
    "exemple_mot_de_code\n",
    "    \n",
    "    "
   ]
  },
  {
   "cell_type": "markdown",
   "metadata": {
    "collapsed": false
   },
   "source": [
    "**Question 4.-** Écrire une fonction `interpole(mot)` qui prend en entrée un mot de code `mot` du code de Reed-Solomon ${\\rm RS}_k({\\bf a})$, et retrouve le polynôme qui a produit ce mot de code. En quelque sorte, votre fonction `interpole` doit être la fonction inverse de la fonction `encode` écrite à la question précédente.\n",
    "\n",
    "Pour répondre à cette question on pourra utiliser la méthode `lagrange_polynomial` de la classe `PolynomialRing`, dont la documentation est fournie [ici](https://doc.sagemath.org/html/en/reference/polynomial_rings/sage/rings/polynomial/polynomial_ring.html#sage.rings.polynomial.polynomial_ring.PolynomialRing_field.lagrange_polynomial)."
   ]
  },
  {
   "cell_type": "code",
   "execution_count": 260,
   "metadata": {
    "collapsed": false
   },
   "outputs": [
    {
     "data": {
      "text/plain": [
       "12*X^5 + 9*X^4 + 17*X^3 + 6*X^2 + 10*X + 10"
      ]
     },
     "execution_count": 260,
     "metadata": {
     },
     "output_type": "execute_result"
    }
   ],
   "source": [
    "# Votre réponse ici\n",
    "\n",
    "def interpole(mot):\n",
    "    couple = [[] for _ in range(len(mot))]\n",
    "    for i in range(0,len(mot)):\n",
    "        couple[i]=[points[i],mot[i]]\n",
    "    return R.lagrange_polynomial(couple)\n",
    "\n",
    "\n",
    "\n",
    "interpole(exemple_mot_de_code)\n",
    "    "
   ]
  },
  {
   "cell_type": "markdown",
   "metadata": {
    "collapsed": false
   },
   "source": [
    "**Question 5.-** Écrire une fonction `introduit_erreurs(mot, t)` qui prend en entrée un mot de code `mot` et un entier naturel `t`, et qui retourne une version bruitée du mot de code `mot` avec `t` erreurs.\n",
    "\n"
   ]
  },
  {
   "cell_type": "code",
   "execution_count": 261,
   "metadata": {
    "collapsed": false
   },
   "outputs": [
    {
     "name": "stdout",
     "output_type": "stream",
     "text": [
      "[7, 15, 18, 18, 12, 7, 16, 16, 1, 16, 1, 15, 4, 6]\n"
     ]
    },
    {
     "data": {
      "text/plain": [
       "[13, 15, 18, 18, 10, 7, 16, 16, 3, 16, 1, 11, 15, 6]"
      ]
     },
     "execution_count": 261,
     "metadata": {
     },
     "output_type": "execute_result"
    }
   ],
   "source": [
    "# Votre réponse ici\n",
    "from random import choice\n",
    "\n",
    "def introduit_erreurs(mot,t):\n",
    "    mot_bruite=[]\n",
    "    liste_localisation_erreur=[]\n",
    "    \n",
    "    while len((set(liste_localisation_erreur)))<t :\n",
    "        localisation_erreur=randint(0,len(mot)-1)\n",
    "        liste_localisation_erreur.append(localisation_erreur)\n",
    "        \n",
    "        #mot[localisation_erreur]=mot[localisation_erreur]+erreur \n",
    "        \n",
    "        #REMARQUE :J'ai peur que la ligne en commentaire ne fonctionne pas avec tous les exmeples, en effet de mémoire quand on remplace/change des élments d'une liste sans pop ou append c'est problématique.\n",
    "        \n",
    "        #Et a cause de ça je vais devoir faire un truc compliqué...\n",
    "        \n",
    "    liste_localisation_erreur= sorted(set(liste_localisation_erreur)) #Je trie dans l'ordre croissant parce que ça va m'aider pour mieux m' \n",
    "    \n",
    "    if len(liste_localisation_erreur)<len(mot):\n",
    "        i=0\n",
    "        while i < len(liste_localisation_erreur)-1:\n",
    "\n",
    "            difference = liste_localisation_erreur[i+1]-liste_localisation_erreur[i] #Je fais du \"padding\" avec des a entre les positions des erreurs qui ne sont pas conséqutives \n",
    "            if difference > 1:\n",
    "                liste_localisation_erreur[i+1:i+1] = [\"a\"]*(difference - 1) #exemple : [0,1,2,5]. Pour remplir à la position 3 et 4 avec des \"a\" je rempli pas à la position 2 mais a la position 2+1 d'où le [i+1 , et difference -1 parce qu'on rempli que entre 3 et 5, on ne veut pas toucher 5. On s'arrête un pas avant. \n",
    "   \n",
    "                i += difference-1 #Pour sauter les cases parce qu'on a la certitude de les avoir rendu conséqutives\n",
    "            i += 1\n",
    "        \n",
    "        if liste_localisation_erreur[0]!=0:\n",
    "            for i in range(0,liste_localisation_erreur[0]): #Cas où [3,4] pour transformer en [0,1,2]\n",
    "                liste_localisation_erreur.insert(0, \"a\")\n",
    "            \n",
    "        if liste_localisation_erreur[-1]<len(mot): \n",
    "            for i in range(0,(len(mot)-1)-liste_localisation_erreur[-1]):#Cas où le mot est [1,2,3,4,5] mais que l'erreur est [a,a,2]. On transforme en [a,a,2,a,a,a]. len(mot)-1 c'est parce que dernier_element=longueur_liste-1 pour toute les listes\n",
    "                liste_localisation_erreur.append(\"a\")\n",
    "    \n",
    "    for i in range(0,len(mot)):\n",
    "        \n",
    "        if i==liste_localisation_erreur[i] :\n",
    "            erreur=randint(1,18) #aucun interet de prendre une erreur à 0\n",
    "\n",
    "            mot_bruite.append(mot[i]+erreur) #A la positin i de l'erreur j'additionne une erreur.\n",
    "        else :\n",
    "            mot_bruite.append(mot[i])  #Sinon à la position i je copie l'élement \n",
    "    return mot_bruite\n",
    "            \n",
    "        \n",
    "print(exemple_mot_de_code)        \n",
    "introduit_erreurs(exemple_mot_de_code,5)\n",
    "        \n",
    "        \n",
    "    \n",
    "        "
   ]
  },
  {
   "cell_type": "markdown",
   "metadata": {
    "collapsed": false
   },
   "source": [
    "## Partie 2. L'algorithme de décodage\n",
    "\n",
    "\n",
    "\n",
    "**Question 6.-** Écrire une fonction `construit_matrice(y)` qui prend en entrée un mot bruité `y`, et qui construit la matrice ${\\bf M}$ du système linéaire de décodage (**étape 1** de l'algorithme)."
   ]
  },
  {
   "cell_type": "code",
   "execution_count": 262,
   "metadata": {
    "collapsed": false
   },
   "outputs": [
    {
     "data": {
      "text/plain": [
       "[17 17 17 17 18 18 18 18 18 18 18 18 18 18]\n",
       "[14  9 18 17 18 17 15 11  3  6 12  5 10  1]\n",
       "[17 13  1  3 18 16 10 11 14  4 12 17 13  1]\n",
       "[ 7  9 17 11 18 15  3 12 10  2  8 13 14 18]\n",
       "[ 2 10 12  3 18 14 13  8  2 10 12  3 15 18]\n",
       "[11  9 16  1 18 13  2 12 15 14  8 10  3 18]\n",
       "[ 7 11  1  7 18 12  8 18 12  8 18 12  8 18]\n",
       "[14 17  3  5 18 11 12  1  8  7 18 11 12  1]\n",
       "[ 4 17  1  9 18 10 14 12 13  3  8 15  2 18]\n",
       "[ 3 11 15 17 18  9 14  7 13 16  8  4  2  1]\n",
       "[ 7  1 11  7 18  8 12 18  8 12 18  8 12 18]\n",
       "[12 11 18  7 18  7  8  1 12 11 18  7  8  1]\n",
       "[ 6  2  7 15 18  6  2  7 15  5  8  9  3  1]\n",
       "[18  5 13 11 18  5 13 11  2  9 12 16 15  1]"
      ]
     },
     "execution_count": 262,
     "metadata": {
     },
     "output_type": "execute_result"
    }
   ],
   "source": [
    "\"\"\"# Votre réponse ici\n",
    "s=[1,2,3,4,5,6,7]\n",
    "premier=s[:2]\n",
    "print(premier)\n",
    "dernier= s[2:]\n",
    "print(dernier)\n",
    "\"\"\"\n",
    "# Votre réponse ici\n",
    "import math\n",
    "\n",
    "def construit_matrice(y) :\n",
    "    t=int(math.floor((n-k)/2))\n",
    "    Ligne=[[] for i in range(0,14)]\n",
    "    for i in range(0,n):\n",
    "        for j in range(0,t):\n",
    "            \n",
    "            Ligne[i].append(y[i]*(pow(points[i],j,19)))\n",
    "        for j in range(0,k+t):\n",
    "            Ligne[i].append(-(pow(points[i],j,19))) #\n",
    "            \n",
    "        Ligne[i]=vector(F, Ligne[i])\n",
    "        \n",
    "    #matrice = np.array(Ligne)\n",
    "    M= Matrix(Ligne)\n",
    "    return M\n",
    "\n",
    "y=encode(polynome_aleatoire())\n",
    "M=construit_matrice(y)\n",
    "M\n"
   ]
  },
  {
   "cell_type": "markdown",
   "metadata": {
    "collapsed": false
   },
   "source": [
    "**Question 7.-** Écrire une fonction `berlekamp_welch(y)` qui décode le mot buité `y` grâce à l'algorithme de Berlekamp-Welch. Cette fonction retournera donc un polynôme."
   ]
  },
  {
   "cell_type": "code",
   "execution_count": 263,
   "metadata": {
    "collapsed": false,
    "scrolled": true
   },
   "outputs": [
    {
     "name": "stdout",
     "output_type": "stream",
     "text": [
      "[8, 10, 15, 7, 0, 13, 2, 1, 15, 16, 17, 2, 1, 12]\n",
      "len 19\n",
      "1\n",
      "Le reste est: 6*X + 13\n",
      "2\n",
      "Le reste est: 6*X + 13\n",
      "3\n",
      "Le reste est: 12*X + 7\n",
      "4\n",
      "Le reste est: 18*X + 1\n",
      "5\n",
      "Le reste est: 5*X + 14\n",
      "6\n",
      "Le reste est: 11*X + 8\n",
      "7\n",
      "Le reste est: 17*X + 2\n",
      "8\n",
      "Le reste est: 4*X + 15\n",
      "9\n",
      "Le reste est: 10*X + 9\n",
      "10\n",
      "Le reste est: 16*X + 3\n",
      "11\n",
      "Le reste est: 3*X + 16\n",
      "12\n",
      "Le reste est: 9*X + 10\n",
      "13\n",
      "Le reste est: 15*X + 4\n",
      "14\n",
      "Le reste est: 2*X + 17\n",
      "15\n",
      "Le reste est: 8*X + 11\n",
      "16\n",
      "Le reste est: 14*X + 5\n",
      "17\n",
      "Le reste est: X + 18\n",
      "18\n",
      "Le reste est: 7*X + 12\n",
      "Erreur\n"
     ]
    }
   ],
   "source": [
    "# Votre réponse ici\n",
    "def berlekamp_welch(y):\n",
    "    #=M.right.kernel()\n",
    "    \n",
    "    M=construit_matrice(y)\n",
    "  \n",
    "    noyau = M.right_kernel()\n",
    "    \n",
    "    if len(noyau)== 1:\n",
    "        raise ValueError(\"La matrice n'a qu'un seul élément dans son noyau\")  #Je fais ça parce que sinon on ne pourra pas faire la division mentionné dans l'étape 4 de l'algorithme, (dans le noyau on a toujours 0,..,0 donc si il y'a qu'un unique element dans le noyau c'est forcement lui )\n",
    "    i=1\n",
    "    vecteur_noyau=noyau[1]\n",
    "    while vecteur_noyau[:t]==[0 for i in range (0,t)]  :\n",
    "        vecteur_noyau= M.right_kernel()[i]\n",
    "        i=i+1\n",
    "    reste=1\n",
    "    print('len',len(noyau))\n",
    "    for j in range(i,len(noyau)):\n",
    "        Coeff_Polynome_localisateur=vecteur_noyau[:t]\n",
    "        Coeff_Polynome_N=vecteur_noyau[t:]\n",
    "        Polynome_localisateur=0\n",
    "        for i in range(0,t-1):\n",
    "            Polynome_localisateur=Polynome_localisateur+Coeff_Polynome_localisateur[i]*(X**i) #variable X=commande\"\n",
    "            Polynome_N=0\n",
    "        for i in range(0,len(Coeff_Polynome_N)):\n",
    "            Polynome_N=Polynome_N+Coeff_Polynome_N[i]*(X**i)\n",
    "\n",
    "        quotient,reste=Polynome_N.quo_rem(Polynome_localisateur)\n",
    "        if reste==0 :\n",
    "            break\n",
    "        print(j)\n",
    "        print(\"Le reste est:\",reste)\n",
    "        vecteur_noyau= M.right_kernel()[j]\n",
    "\n",
    "    if reste==0:    #Conditon pour le dernier test si on a finit la boucle for\n",
    "        f=quotient\n",
    "        L=[]\n",
    "        for i in range(0,len(points)):\n",
    "            L.append(f.substitute(X=points[i]))\n",
    "            \n",
    "\n",
    "        return f,L\n",
    "\n",
    "    else :\n",
    "        print(\"Erreur\")\n",
    "\n",
    "\n",
    "y=encode(polynome_aleatoire())\n",
    "mot_bruite=introduit_erreurs(y,3)\n",
    "print(mot_bruite)\n",
    "berlekamp_welch(mot_bruite)"
   ]
  },
  {
   "cell_type": "markdown",
   "metadata": {
    "collapsed": false
   },
   "source": [
    "**Question 8.-** Tester l'algorithme d'interpolation de la **question 4** et l'algorithme de décodage de la **question 7** sur plusieurs exemples tirés aléatoirement."
   ]
  },
  {
   "cell_type": "code",
   "execution_count": 264,
   "metadata": {
    "collapsed": false
   },
   "outputs": [
    {
     "name": "stdout",
     "output_type": "stream",
     "text": [
      "La fonction d'interpolation est bonne\n",
      "[7, 9, 17, 11, 15, 4, 11, 18, 2, 14, 3, 1, 11, 18]\n"
     ]
    },
    {
     "ename": "ValueError",
     "evalue": "La matrice n'a qu'un seul élément dans son noyau",
     "output_type": "error",
     "traceback": [
      "\u001b[0;31m---------------------------------------------------------------------------\u001b[0m",
      "\u001b[0;31mValueError\u001b[0m                                Traceback (most recent call last)",
      "Cell \u001b[0;32mIn[264], line 50\u001b[0m\n\u001b[1;32m     47\u001b[0m                 \u001b[38;5;28mprint\u001b[39m(\u001b[38;5;124m\"\u001b[39m\u001b[38;5;124mLe test\u001b[39m\u001b[38;5;124m\"\u001b[39m,i, \u001b[38;5;124m\"\u001b[39m\u001b[38;5;124ma fonctionner\u001b[39m\u001b[38;5;124m\"\u001b[39m )\n\u001b[1;32m     49\u001b[0m mot_bruite\u001b[38;5;241m=\u001b[39mintroduit_erreurs(y,Integer(\u001b[38;5;241m1\u001b[39m))\n\u001b[0;32m---> 50\u001b[0m \u001b[43mtest_decodage\u001b[49m\u001b[43m(\u001b[49m\u001b[43mpoints\u001b[49m\u001b[43m)\u001b[49m\n",
      "Cell \u001b[0;32mIn[264], line 32\u001b[0m, in \u001b[0;36mtest_decodage\u001b[0;34m(points)\u001b[0m\n\u001b[1;32m     30\u001b[0m mot_bruite\u001b[38;5;241m=\u001b[39mintroduit_erreurs(mot_de_code,t)\n\u001b[1;32m     31\u001b[0m \u001b[38;5;28mprint\u001b[39m(mot_bruite)\n\u001b[0;32m---> 32\u001b[0m message\u001b[38;5;241m=\u001b[39m\u001b[43mberlekamp_welch\u001b[49m\u001b[43m(\u001b[49m\u001b[43mmot_bruite\u001b[49m\u001b[43m)\u001b[49m\n\u001b[1;32m     35\u001b[0m \u001b[38;5;28;01mif\u001b[39;00m(message\u001b[38;5;241m.\u001b[39mdegree()\u001b[38;5;241m>\u001b[39m\u001b[38;5;241m=\u001b[39mk):\n\u001b[1;32m     36\u001b[0m     \u001b[38;5;28mprint\u001b[39m(\u001b[38;5;124m\"\u001b[39m\u001b[38;5;124merreur\u001b[39m\u001b[38;5;124m\"\u001b[39m)\n",
      "Cell \u001b[0;32mIn[263], line 10\u001b[0m, in \u001b[0;36mberlekamp_welch\u001b[0;34m(y)\u001b[0m\n\u001b[1;32m      7\u001b[0m noyau \u001b[38;5;241m=\u001b[39m M\u001b[38;5;241m.\u001b[39mright_kernel()\n\u001b[1;32m      9\u001b[0m \u001b[38;5;28;01mif\u001b[39;00m \u001b[38;5;28mlen\u001b[39m(noyau)\u001b[38;5;241m==\u001b[39m Integer(\u001b[38;5;241m1\u001b[39m):\n\u001b[0;32m---> 10\u001b[0m     \u001b[38;5;28;01mraise\u001b[39;00m \u001b[38;5;167;01mValueError\u001b[39;00m(\u001b[38;5;124m\"\u001b[39m\u001b[38;5;124mLa matrice n\u001b[39m\u001b[38;5;124m'\u001b[39m\u001b[38;5;124ma qu\u001b[39m\u001b[38;5;124m'\u001b[39m\u001b[38;5;124mun seul élément dans son noyau\u001b[39m\u001b[38;5;124m\"\u001b[39m)  \u001b[38;5;66;03m#Je fais ça parce que sinon on ne pourra pas faire la division mentionné dans l'étape 4 de l'algorithme, (dans le noyau on a toujours 0,..,0 donc si il y'a qu'un unique element dans le noyau c'est forcement lui )\u001b[39;00m\n\u001b[1;32m     11\u001b[0m i\u001b[38;5;241m=\u001b[39mInteger(\u001b[38;5;241m1\u001b[39m)\n\u001b[1;32m     12\u001b[0m vecteur_noyau\u001b[38;5;241m=\u001b[39mnoyau[Integer(\u001b[38;5;241m1\u001b[39m)]\n",
      "\u001b[0;31mValueError\u001b[0m: La matrice n'a qu'un seul élément dans son noyau"
     ]
    }
   ],
   "source": [
    "# Votre réponse ici\n",
    "\n",
    "def test_interpolation(points,nombre_de_test):\n",
    "    L=[]\n",
    "    Compteur=0\n",
    "    for i in range(0,nombre_de_test):\n",
    "        L=[]\n",
    "        mot=encode(polynome_aleatoire())\n",
    "        \n",
    "        polynome=interpole(mot)\n",
    "        \n",
    "        for j in range(0,len(points)):\n",
    "            L.append(polynome.substitute(X=points[j]))\n",
    "            \n",
    "        if (L==mot) :\n",
    "            Compteur=Compteur+1\n",
    "    if Compteur==nombre_de_test :\n",
    "        print(\"La fonction d'interpolation est bonne\")\n",
    "    elif Compteur>(nombre_de_test)/2 :\n",
    "        print(\"La fonction d'interpolation n'est pas assez bonne\")\n",
    "        \n",
    "    else :\n",
    "        print(\"La fonction d'interpolation n'est pas bonne\")\n",
    "        \n",
    "test_interpolation(points,10)\n",
    "    \n",
    "def test_decodage(points):\n",
    "    for i in range(0,5):\n",
    "        mot_de_code=encode(polynome_aleatoire())\n",
    "        mot_bruite=introduit_erreurs(mot_de_code,t)\n",
    "        print(mot_bruite)\n",
    "        message=berlekamp_welch(mot_bruite)\n",
    "        \n",
    "        \n",
    "        if(message.degree()>=k):\n",
    "            print(\"erreur\")\n",
    "        else:\n",
    "            \n",
    "            for j in range(0,len(points)):\n",
    "                L.append(message.subs(X,points[j]))\n",
    "            distance_entre_mot_mot_bruite=0\n",
    "            for g in range(0,len(mot_bruite)):\n",
    "                if L[g]==points[g] :\n",
    "                    distance_entre_mot_mot_bruite=+1\n",
    "                    \n",
    "            if distance_entre_mot_mot_bruite<=int(math.floor((n-k)/2)) :\n",
    "                print(\"Le test\",i, \"a fonctionner\" )\n",
    "\n",
    "mot_bruite=introduit_erreurs(y,1)\n",
    "test_decodage(points)\n",
    "            "
   ]
  },
  {
   "cell_type": "code",
   "execution_count": 0,
   "metadata": {
    "collapsed": false
   },
   "outputs": [
   ],
   "source": [
   ]
  }
 ],
 "metadata": {
  "kernelspec": {
   "argv": [
    "sage-10.3",
    "--python",
    "-m",
    "sage.repl.ipython_kernel",
    "--matplotlib=inline",
    "-f",
    "{connection_file}"
   ],
   "display_name": "SageMath 10.3",
   "env": {
   },
   "language": "sagemath",
   "metadata": {
    "cocalc": {
     "description": "Open-source mathematical software system",
     "priority": 10,
     "url": "https://www.sagemath.org/"
    }
   },
   "name": "sage-10.3",
   "resource_dir": "/ext/jupyter/kernels/sage-10.3"
  },
  "language_info": {
   "codemirror_mode": {
    "name": "ipython",
    "version": 3
   },
   "file_extension": ".py",
   "mimetype": "text/x-python",
   "name": "python",
   "nbconvert_exporter": "python",
   "pygments_lexer": "ipython3",
   "version": "3.11.1"
  }
 },
 "nbformat": 4,
 "nbformat_minor": 4
}