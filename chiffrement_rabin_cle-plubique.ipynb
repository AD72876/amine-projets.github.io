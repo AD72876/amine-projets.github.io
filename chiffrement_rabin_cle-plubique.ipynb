{
 "cells": [
  {
   "cell_type": "code",
   "execution_count": null,
   "metadata": {},
   "outputs": [],
   "source": [
    "from random import *\n",
    "from Crypto.Util.number import getPrime, isPrime\n",
    "from math import gcd\n",
    "from math import log2"
   ]
  },
  {
   "cell_type": "markdown",
   "metadata": {},
   "source": [
    "### Question 1.– \n",
    "Implanter une fonction xgcd(p, q) qui retourne les coefficients de Bezout associés à deux\n",
    "entiers p et q (autrement dit, des entiers u et v tels que up + vq = pgcd(p, q)).\n",
    "On rappelle que pour p ≡ 3 mod 4, les racines carrées d’un carré x ∈ Z/pZ sont ±x\n",
    "(p+1)/4. On rappelle\n",
    "également que l’on peut déduire les racines carrées modulo n = pq de celles modulo p et q au moyen de\n",
    "l’isomorphisme des restes chinois."
   ]
  },
  {
   "cell_type": "code",
   "execution_count": null,
   "metadata": {},
   "outputs": [],
   "source": [
    "def xgcd(a,b):\n",
    "  x,y=1,0\n",
    "  u,v=0,1\n",
    "  while b != 0:\n",
    "   q,r=a//b,a%b\n",
    "   m,n=x-u*q,y-v*q #On fait l'opération L1-q*L2 (1)\n",
    "   a,b=b,r #On fait un décalage car la technique le veut. Le quotient devant le numérateur et le reste devient le quotient \n",
    "   x,y=u,v #Maintenant comme on fait L2-L3 les coefficients ne sont plus les mêmes pour la ligne de calcul(1), \n",
    "   u,v=m,n #donc on va echanger.\n",
    "  reste=a\n",
    "  return [reste,x,y] #a est le reste b "
   ]
  },
  {
   "cell_type": "markdown",
   "metadata": {},
   "source": [
    "### Question 2.– \n",
    "Implanter une fonction square_roots(x, p, q, n, u, v) qui retourne la liste des racines\n",
    "carrées de x modulo n, où n = pq, avec p et q deux nombres premiers distincts congrus à 3 modulo 4, et\n",
    "où u et v sont les coefficients de Bezout associés à p et q. On supposera que x est bien un carré modulo n."
   ]
  },
  {
   "cell_type": "code",
   "execution_count": null,
   "metadata": {},
   "outputs": [],
   "source": [
    "def square_roots(x, p, q, n, u, v):\n",
    "    if p % 4 == 3 and q % 4 == 3:\n",
    "        RacineCarre1 = (p + 1) // 4  #=1\n",
    "        RacineCarre2 = (q + 1) // 4  #=1 Je sais pas si je devais quand même les ecrire ou pas \n",
    "        a = pow(x, RacineCarre1, p)\n",
    "        b = pow(x, RacineCarre2, q)\n",
    "        c1 = (a * v * q + b * u * p) % n # formule finale du thoereme des restes chinois. v= inverse modulaire de q modulo p et u inverse modulaire de p modulo q\n",
    "        c2 = (-a * v * q + b * u * p) % n #racine 2 \n",
    "        c3 = (a * v * q - b * u * p) % n #racine 3\n",
    "        c4 = (-a * v * q - b * u * p) % n #racine 4\n",
    "        return [c1, c2, c3, c4]\n",
    "    else:\n",
    "        print(\"Erreur: p et q ne sont pas congrus à 3 modulo 4.\")\n",
    "        return []  # Retourne une liste vide"
   ]
  },
  {
   "cell_type": "markdown",
   "metadata": {},
   "source": [
    "### Question 3.– \n",
    "Implanter une fonction keygen_rabin(t) qui engendre une paire de clés pour le cryptosystème de Rabin, dont le module n est un entier de taille au moins t bits."
   ]
  },
  {
   "cell_type": "code",
   "execution_count": null,
   "metadata": {},
   "outputs": [],
   "source": [
    "\n",
    "\n",
    "def keygen_rabin(t):   # On genere les clés\n",
    "   Taille_p_q=t//2 #ici ce que je veux faire c'est initialiser des p et des q qui sont des nombres de taille  inferieur a celle de t tel que taille(p*q)=taille(n).\n",
    "   Taille_t=t//1 # La je définis qu'elle est la taille de t en bits\n",
    "   p=getPrime(Taille_p_q) #ici je veux des nombres premier de taille p et q \n",
    "   q=getPrime(Taille_p_q) \n",
    "   n=p*q                  \n",
    "   Taille_n=(int(log2(n))//1)+1 #Taille de n en bits\n",
    "   while p%4!=3 or q%4!=3: #Si tous ce passe bien comme on le voudrait alors on rentre pas dans la boucle. \n",
    "        p=getPrime(Taille_p_q) \n",
    "        q=getPrime(Taille_p_q)\n",
    "        n=p*q\n",
    "    #while int(log2(n)//1)+1<Taille_p_q+1:, n=n*2\n",
    "   u,v=xgcd(p,q)[1],xgcd(p,q)[2] #Je lance ma fonction qui calcule les coefficients de bezout de p et q.\n",
    "   return [n,p,q,u,v] "
   ]
  },
  {
   "cell_type": "markdown",
   "metadata": {},
   "source": [
    "### Question 4.– \n",
    "Implanter les fonctions de chiffrement encrypt_rabin_1(plaintext, pk) et de déchiffrement decrypt_rabin_1(ciphertext, sk) du cryptosystème initial de Rabin. On stockera dans les\n",
    "variables pk et sk les clés publique et privée, et dans les variables plaintext et ciphertext le clair et le\n",
    "chiffré."
   ]
  },
  {
   "cell_type": "code",
   "execution_count": null,
   "metadata": {},
   "outputs": [],
   "source": [
    "def encrypt_rabin_1(plaintext, pk):  #n=pk clé publique et plainText message clair\n",
    "      c=pow(plaintext,2,pk)\n",
    "      return c"
   ]
  },
  {
   "cell_type": "code",
   "execution_count": null,
   "metadata": {},
   "outputs": [],
   "source": [
    "def decrypt_rabin_1(ciphertext, sk):\n",
    "   p, q, u, v = sk[1:] #On fait ça pour mieux utiliser square_roots\n",
    "   roots = square_roots(ciphertext, p, q, p * q, u, v)\n",
    "   if roots is not None:\n",
    "      return roots\n",
    "   else:\n",
    "      return print(\"Erreur: Impossible de trouver les racines carrées.\")"
   ]
  },
  {
   "cell_type": "markdown",
   "metadata": {},
   "source": [
    "### Question 5.– \n",
    "Écrire une procédure de test TEST1(t) qui s’assure, sur plusieurs exemples, que votre\n",
    "implantation est valide pour la taille de module t. On vérifiera donc que le message d’origine plaintext\n",
    "figure dans la liste retournée par decrypt_rabin_1(ciphertext, sk)."
   ]
  },
  {
   "cell_type": "code",
   "execution_count": null,
   "metadata": {},
   "outputs": [],
   "source": [
    "def TEST1(t):\n",
    "    c=0\n",
    "    m=randint(0, 100)\n",
    "    keygen_rabin(t)\n",
    "    Cle_Secrete = keygen_rabin(t)  # Stockez la nouvelle clé secrète générée dans Cle_Secrete\n",
    "    pk = Cle_Secrete[0]      #On dit que pk est n\n",
    "    c = encrypt_rabin_1(m, pk)\n",
    "    Message_eventuel = decrypt_rabin_1(c, Cle_Secrete) #On cherche le mot eventuelle c'est à dire qu'on regarde une liste ou notre mot devrait normalmeent se trouver\n",
    "    Testeur = 0\n",
    "    for i in range(0, len(Message_eventuel)): #La on teste seulement l'existence et l'unicité du mot m dans notre liste.\n",
    "        if Message_eventuel[i] == m:\n",
    "            Testeur += 1\n",
    "            \n",
    "    if Testeur != 1:\n",
    "        return print(\"Erreur\")\n",
    "    else:\n",
    "        return print(\"Succès\") # Ça montre qu'il est unique et qu'il existe bien."
   ]
  },
  {
   "cell_type": "code",
   "execution_count": null,
   "metadata": {},
   "outputs": [],
   "source": [
    "def encrypt_rabin2(m, pk, padding):\n",
    "      message_padding=m*pow(2,padding,pk)\n",
    "      c=encrypt_rabin_1(message_padding,pk)  # 10 = 2^1 on passe de 100 car 2*2^3=16 et 16 s'ecrit en binaire 10000\n",
    "      return c \n"
   ]
  },
  {
   "cell_type": "markdown",
   "metadata": {},
   "source": [
    "### Question 6.– \n",
    "Implanter les fonctions de chiffrement encrypt_rabin_2(m, pk, padding) et de déchiffrement decrypt_rabin_2(c, sk, padding) du cryptosystème de Rabin avec padding."
   ]
  },
  {
   "cell_type": "code",
   "execution_count": null,
   "metadata": {},
   "outputs": [],
   "source": [
    "def decrypt_rabin2(c, sk, padding):\n",
    "    Liste_message_eventuel = decrypt_rabin_1(c, sk) \n",
    "    s=0\n",
    "    for i in range(0,len(Liste_message_eventuel)): #on parcourt notre Liste de message eventuel\n",
    "        if Liste_message_eventuel[i]%pow(2,padding)== 0: #On detecte la position de où se trouve celui qui est divisible par 2^padding.\n",
    "            L=Liste_message_eventuel[i] // pow(2,padding) #On veut le quotient\n",
    "            s=s+1\n",
    "    if s!=1:\n",
    "        return print(s)\n",
    "    else:\n",
    "        return L"
   ]
  },
  {
   "cell_type": "markdown",
   "metadata": {},
   "source": [
    "### Question 7.– \n",
    "Écrire une procédure de test TEST2(t) qui teste lorsque le déchiffrement de Rabin avec\n",
    "padding est correct. En pratique, on prendra comme padding la valeur ⌊t/2⌋, où t est le paramètre qui a\n",
    "été choisi pour engendrer les clés.\n",
    "Pour de petites valeurs de t (disons, inférieures à 10), observez-vous parfois des erreurs de déchiffrement ?\n",
    "Si oui, commentez."
   ]
  },
  {
   "cell_type": "code",
   "execution_count": null,
   "metadata": {},
   "outputs": [],
   "source": [
    "def TEST2(t):  \n",
    "      padding=t//2  #On veut le quotient par 2 pour avoir la partie inferieur divisée par 2\n",
    "      m=randint(1,1024) \n",
    "      Cle_Secrete=keygen_rabin(t) #Notre clé secrete = toute la liste\n",
    "      Cle_Publique=Cle_Secrete[0] #Notre clé publique = n qui est le premier element qu'affiche keygen_rabin\n",
    "      message_padding=m*pow(2,padding,Cle_Publique)\n",
    "      if message_padding> Cle_Publique :\n",
    "          return print(\"Rentrer t plus petit\")\n",
    "      else :\n",
    "          c=encrypt_rabin2(m,Cle_Publique,padding)\n",
    "          Message_eventuel=decrypt_rabin2(c,Cle_Secrete,padding)\n",
    "          if m==Message_eventuel: #Si ça fonctionne alors le quotient va nous donner m\n",
    "              return print(\"Succès\") \n",
    "          else :\n",
    "              return print(\"Echec\")"
   ]
  }
 ],
 "metadata": {
  "language_info": {
   "name": "python"
  }
 },
 "nbformat": 4,
 "nbformat_minor": 2
}
