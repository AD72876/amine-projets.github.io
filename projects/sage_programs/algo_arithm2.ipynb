{
 "cells": [
  {
   "cell_type": "markdown",
   "id": "c43451",
   "metadata": {
    "collapsed": false
   },
   "source": [
   ]
  },
  {
   "cell_type": "markdown",
   "id": "fe3316",
   "metadata": {
    "collapsed": false
   },
   "source": [
    "# Fichier notebook devoir\n",
    "\n"
   ]
  },
  {
   "cell_type": "markdown",
   "id": "52b595",
   "metadata": {
    "collapsed": false
   },
   "source": [
    "## 1- Fonctions annexes"
   ]
  },
  {
   "cell_type": "markdown",
   "id": "9ae790",
   "metadata": {
    "collapsed": false
   },
   "source": [
    "Fonction qui calcule les mutliplications à gauche d'une matrice par un vecteur. "
   ]
  },
  {
   "cell_type": "code",
   "execution_count": 3,
   "id": "7f92c2",
   "metadata": {
    "collapsed": false
   },
   "outputs": [
   ],
   "source": [
    "#import numpy as np #Utlisation de libraire numpy pour les matrices\n",
    "from sympy import Matrix, GF #On importe les concepts de corps finis, et de matrice depuis la librairie sympy\n",
    "matrice= Matrix([[1,1,0,1,0,0],[1, 0,1,0,1,0],[0,1,1,0,0,1]])\n",
    "\n",
    "\n",
    "\n",
    "\n",
    "def mult_vecteur_matrice(vecteur, matrix, q):\n",
    "    \"\"\"\n",
    "    Multiplie un vecteur (par la gauche) par une matrice dans un corps fini F_q^n.\n",
    "    \"\"\"\n",
    "    # Convertir le vecteur et la matrice en objets sympy\n",
    "    vecteur = Matrix([vecteur])  # Créer une matrice ligne\n",
    "    matrice = Matrix(matrix)\n",
    "\n",
    "    Fq= GF(q)\n",
    "\n",
    "    # Vérifier la compatibilité pour la multiplication\n",
    "    if vecteur.cols != matrice.rows:\n",
    "        raise ValueError(\"Les dimensions ne permettent pas la multiplication (taille vector x matrice incompatible).\")\n",
    "\n",
    "    # Effectuer la multiplication dans le corps fini\n",
    "    resultat = (vecteur * matrice).applyfunc(lambda x: Fq(x))\n",
    "\n",
    "    return resultat\n"
   ]
  },
  {
   "cell_type": "markdown",
   "id": "160900",
   "metadata": {
    "collapsed": false
   },
   "source": [
    "Fonction qui calcule les mots d'un code en faisant des multiplications à gauche de tous les vecteurs de l'espace ambiant de longueur k (dimension) avec la matrice génératrice."
   ]
  },
  {
   "cell_type": "code",
   "execution_count": 4,
   "id": "b28b9f",
   "metadata": {
    "collapsed": false
   },
   "outputs": [
   ],
   "source": [
    "def calcul_mot_de_code(matrice,liste_espace_ambiant,q):\n",
    "    Liste_mot_code=[]\n",
    "    for i in range(len(liste_espace_ambiant)):\n",
    "        mot_de_code=matrice*liste_espace_ambiant[i]\n",
    "        Liste_mot_code.append(mot_de_code)\n",
    "    return Liste_mot_code\n",
    "    "
   ]
  },
  {
   "cell_type": "markdown",
   "id": "919032",
   "metadata": {
    "collapsed": false
   },
   "source": [
    "Fonction qui calcule tous les mots de l'espace ambiant d'un code de longueur n. "
   ]
  },
  {
   "cell_type": "code",
   "execution_count": 5,
   "id": "4a9a7f",
   "metadata": {
    "collapsed": false
   },
   "outputs": [
    {
     "name": "stdout",
     "output_type": "stream",
     "text": [
      "[[0, 0, 0], [0, 0, 1], [0, 0, 2], [0, 0, 3], [0, 1, 0], [0, 1, 1], [0, 1, 2], [0, 1, 3], [0, 2, 0], [0, 2, 1], [0, 2, 2], [0, 2, 3], [0, 3, 0], [0, 3, 1], [0, 3, 2], [0, 3, 3], [1, 0, 0], [1, 0, 1], [1, 0, 2], [1, 0, 3], [1, 1, 0], [1, 1, 1], [1, 1, 2], [1, 1, 3], [1, 2, 0], [1, 2, 1], [1, 2, 2], [1, 2, 3], [1, 3, 0], [1, 3, 1], [1, 3, 2], [1, 3, 3], [2, 0, 0], [2, 0, 1], [2, 0, 2], [2, 0, 3], [2, 1, 0], [2, 1, 1], [2, 1, 2], [2, 1, 3], [2, 2, 0], [2, 2, 1], [2, 2, 2], [2, 2, 3], [2, 3, 0], [2, 3, 1], [2, 3, 2], [2, 3, 3], [3, 0, 0], [3, 0, 1], [3, 0, 2], [3, 0, 3], [3, 1, 0], [3, 1, 1], [3, 1, 2], [3, 1, 3], [3, 2, 0], [3, 2, 1], [3, 2, 2], [3, 2, 3], [3, 3, 0], [3, 3, 1], [3, 3, 2], [3, 3, 3]]\n"
     ]
    }
   ],
   "source": [
    "from itertools import product\n",
    "\n",
    "def enumeration_espace_ambiant(n, q):\n",
    "    if q < 2:\n",
    "        raise ValueError(\"q doit être un entier supérieur ou égal à 2.\")\n",
    "    elements = GF(q)  # Corps fini GF(q)\n",
    "    return [list(combinaison) for combinaison in product(elements, repeat=n)]\n",
    "\n",
    "# Exemple d'utilisation\n",
    "n = 3\n",
    "q = 4\n",
    "resultat = enumeration_espace_ambiant(n, q)\n",
    "print(resultat)\n",
    "_ambiant(n, q)\n",
    "print(resultat)\n"
   ]
  },
  {
   "cell_type": "markdown",
   "id": "745e9d",
   "metadata": {
    "collapsed": false
   },
   "source": [
    "Fonction qui sert à savoir un code est linéaire en faisant les sommes de tous les couples existants du mot de code. "
   ]
  },
  {
   "cell_type": "code",
   "execution_count": 6,
   "id": "830a90",
   "metadata": {
    "collapsed": false
   },
   "outputs": [
    {
     "name": "stdout",
     "output_type": "stream",
     "text": [
      "Le code est linéaire\n"
     ]
    }
   ],
   "source": [
    "a = enumeration_espace_ambiant(3, 2)\n",
    "matrice = Matrix([[1, 1, 0, 1, 0, 0], [1, 0, 1, 0, 1, 0], [0, 1, 1, 0, 0, 1]])\n",
    "question1_liste_de_mot = calcul_mot_de_code(matrice, a, 2)\n",
    "\n",
    "def code_lineaire(liste_mot_code, q):\n",
    "    for i in range(len(liste_mot_code)):\n",
    "        for j in range(i+1, len(liste_mot_code)):\n",
    "            somme_mot_de_code = (liste_mot_code[i] + liste_mot_code[j]) % q\n",
    "            if somme_mot_de_code not in liste_mot_code:\n",
    "                return print(\"Le code n'est pas linéaire\")\n",
    "    return print(\"Le code est linéaire\")\n",
    "\n",
    "code_lineaire(question1_liste_de_mot, 2)\n"
   ]
  },
  {
   "cell_type": "markdown",
   "id": "8b41d7",
   "metadata": {
    "collapsed": false
   },
   "source": [
    "## 2. Réponses aux questions "
   ]
  },
  {
   "cell_type": "markdown",
   "id": "640e43",
   "metadata": {
    "collapsed": false
   },
   "source": [
    "--------------------\n",
    "### Question 3 :\n",
    "Ici la première fonction qu'on va définir va nous permettre de calculer le nombre de mots distants de w[i] positions pour chaque w[i] avec i compris entre 0 et len(w). "
   ]
  },
  {
   "cell_type": "markdown",
   "id": "97be97",
   "metadata": {
    "collapsed": false
   },
   "source": [
    "#### Fonction annexe :\n",
    "\n",
    "C'est la formule \n",
    "$B(n, r, q) = \\sum_{i=0}^{r} \\binom{n}{i} (q-1)^i$ vu dans le cours de code correcteur de M.Borello\n"
   ]
  },
  {
   "cell_type": "code",
   "execution_count": 0,
   "id": "aab363",
   "metadata": {
    "collapsed": false
   },
   "outputs": [
   ],
   "source": [
    "\n",
    "def limite_mot_rayon(r, n, q):\n",
    "    somme = 0\n",
    "    for i in range(0, r + 1):\n",
    "        coeff_binomial = math.factorial(n) / (math.factorial(i) * math.factorial(n - i))\n",
    "        somme += coeff_binomial * (q - 1)**i\n",
    "    return int(somme)"
   ]
  },
  {
   "cell_type": "code",
   "execution_count": 7,
   "id": "049ec5",
   "metadata": {
    "collapsed": false
   },
   "outputs": [
   ],
   "source": [
    "def taille_decodage_en_liste(liste_mot_de_code,w,mot_bruite,q):\n",
    "    distance=0\n",
    "    Liste=[] \n",
    "    for i in range(w[0],len(w)):  #On peut des fois ne pas vouloir commencer pas un rayon 0. D'où le w[0]\n",
    "        Liste_distance_satisfaisante=[]\n",
    "        for j in range(0,len(liste_mot_de_code)):\n",
    "            distance=0\n",
    "            for e in range(0,len(mot_bruite)):\n",
    "                if mot_bruite[e]%q != liste_mot_de_code[j][e]%q:\n",
    "                    distance=distance+1\n",
    "            if distance==w[i]:\n",
    "\n",
    "                Liste_distance_satisfaisante.append(liste_mot_de_code[i])\n",
    "        #print(\"Le nombre de mot distant de y avec comme distance \",w[i],\" est \",len(Liste_distance_satisfaisante))\n",
    "        Liste.append(len(Liste_distance_satisfaisante))\n",
    "    return Liste\n",
    "\n",
    "    \n",
    "\n"
   ]
  },
  {
   "cell_type": "code",
   "execution_count": 8,
   "id": "7b5010",
   "metadata": {
    "collapsed": false
   },
   "outputs": [
    {
     "name": "stdout",
     "output_type": "stream",
     "text": [
      "Le nombre de mot distant de y avec distance 0  est  0\n",
      "Le nombre de mot distant de y avec distance 1  est  1\n",
      "Le nombre de mot distant de y avec distance 2  est  15\n",
      "Le nombre de mot distant de y avec distance 3  est  155\n",
      "Le nombre de mot distant de y avec distance 4  est  925\n",
      "Le nombre de mot distant de y avec distance 5  est  3333\n",
      "Le nombre de mot distant de y avec distance 6  est  6665\n",
      "Le nombre de mot distant de y avec distance 7  est  5713\n",
      "\n"
     ]
    }
   ],
   "source": [
    "matrice_question3=Matrix([[1,1,1,1,1,1,1],[0,1,2,3,4,5,6],[0,1,4,2,2,4,1],[0,1,1,6,1,6,6],[0,1,2,4,4,2,1]])\n",
    "mot_bruite=(5,1,1,3,1,0,2)\n",
    "w=[i for i in range(0,8)]\n",
    "\n",
    "\n",
    "Espace_ambiant=enumeration_espace_ambiant(5,7)\n",
    "\n",
    "liste_mot_code=calcul_mot_de_code(matrice_question3,Espace_ambiant,7)\n",
    "reponse_question3=taille_decodage_en_liste(liste_mot_code,w,mot_bruite,7)\n",
    "\n",
    "\n",
    "for i in range(0,len(reponse_question3)):\n",
    "    print(\"Le nombre de mot distant de y avec distance\", w[i],\" est \", reponse_question3[i])\n",
    "print()\n"
   ]
  },
  {
   "cell_type": "markdown",
   "id": "6f3f9f",
   "metadata": {
    "collapsed": false
   },
   "source": [
    "----------------------\n",
    "### Question 4.1: \n",
    "Ici la fonction va nous permmettre de trouver la taille de la plus petite liste tel que le code est (r,L)-décodable. "
   ]
  },
  {
   "cell_type": "code",
   "execution_count": 11,
   "id": "f44e2c",
   "metadata": {
    "collapsed": false
   },
   "outputs": [
   ],
   "source": [
    "def zone_fertile_mot_code(liste_mot_code,n):\n",
    "    Liste_liste_distance=[]\n",
    "    for i in range(0,len(liste_mot_code)):\n",
    "        Liste_distance=[]\n",
    "        for j in range(0,len(liste_mot_code)):\n",
    "            distance=0\n",
    "            for e in range(0,n):\n",
    "                if liste_mot_code[i][e]!=liste_mot_code[j][e] :\n",
    "                    distance=distance+1\n",
    "            Liste_distance.append(distance) \n",
    "        Liste_liste_distance.append(Liste_distance)\n",
    "        \n",
    "    return Liste_liste_distance\n",
    "\n",
    "\n",
    "\n",
    "\n",
    "def trouver_centre_zone_fertile(liste_mot_code,zone_fertile_mot_code,distance_minimale):\n",
    "    Liste_mots_zone_fertile=[]\n",
    "    for i in range(0,len(zone_fertile_mot_code)):\n",
    "        compteur=0\n",
    "        for j in range(0,len(zone_fertile_mot_code)):\n",
    "            if zone_fertile_mot_code[i][j]==distance_minimale :\n",
    "                compteur=compteur+1\n",
    "            if zone_fertile_mot_code[i][j]==distance_minimale+1: #La boule est de diametre 8 alors que la distance minimale est de 7.\n",
    "                compteur=compteur+1\n",
    "        Liste_mots_zone_fertile.append(compteur)\n",
    "\n",
    "    if all(x ==x for x in Liste_mots_zone_fertile):\n",
    "        return liste_mot_code[1] #Ici on s'appercoit qu'il n'existe pas de zone fertile et que tous les mots respecte une certain agencement. \n",
    "    else :\n",
    "        i=Liste_mots_zone_fertile.index(max(Liste_mots_zone_fertile))\n",
    "        return liste_mot_code[i]\n",
    "\n",
    "\n"
   ]
  },
  {
   "cell_type": "code",
   "execution_count": 12,
   "id": "bc5553",
   "metadata": {
    "collapsed": false
   },
   "outputs": [
   ],
   "source": [
    "def rLdecodable2(liste_mot_de_code,w,rayon,n,k,q,distance_minimale) :\n",
    "    Espace_ambiant=enumeration_espace_ambiant(n,q)\n",
    "    Liste_nombre_de_mot_dans_rayon=[]\n",
    "    zone_fertile=zone_fertile_mot_code(liste_mot_de_code,n)\n",
    "    centre_mot=trouver_centre_zone_fertile(liste_mot_code,zone_fertile,distance_minimale) #Donne la zone où la concentration en mots est plus importante que les autres, si il en existe une. \n",
    "\n",
    "    \n",
    "    L=taille_decodage_en_liste(liste_mot_de_code,w[0:rayon+1],centre_mot,q)#w[:rayon] pour ne pas calculer tout les mots distant en dehors du rayon\n",
    "    nombre_mot_dans_rayon=0\n",
    "    for j in range(0,rayon):\n",
    "        nombre_mot_dans_rayon=nombre_mot_dans_rayon+L[j] #addition des groupes de mots distant de 0 ,1,2,...,  positions avec le mot bruité (mot bruité:= Espace_ambiant[i] )\n",
    "    \n",
    "    print(\"La plus petite liste tel que le code A est (\",rayon,\",L) est décodable est L=\", nombre_mot_dans_rayon)\n",
    "    return nombre_mot_dans_rayon # On utilise max parce que tout mot du code doit avoir une boule intersecté avec le code plus petite qu'une seule et même valeur."
   ]
  },
  {
   "cell_type": "markdown",
   "id": "b4f220",
   "metadata": {
    "collapsed": false
   },
   "source": [
    "Test avec les instances de la question 4"
   ]
  },
  {
   "cell_type": "code",
   "execution_count": 13,
   "id": "be7147",
   "metadata": {
    "collapsed": false
   },
   "outputs": [
    {
     "name": "stdout",
     "output_type": "stream",
     "text": [
      "La plus petite liste tel que le code A est ( 4 ,L) est décodable est L= 16\n"
     ]
    },
    {
     "data": {
      "text/plain": [
       "16"
      ]
     },
     "execution_count": 13,
     "metadata": {
     },
     "output_type": "execute_result"
    }
   ],
   "source": [
    "matrice_question4=Matrix([[1 ,1 ,1 ,0 ,1 ,1 ,0 ,0 ,1 ,0 ,1 ,0 ,0 ,0 ,0],[0 ,1 ,1 ,1 ,0 ,1 ,1 ,0 ,0 ,1 ,0 ,1 ,0 ,0 ,0],[0 ,0 ,1 ,1 ,1 ,0 ,1 ,1 ,0 ,0 ,1, 0, 1,0 ,0],[0 ,0 ,0 ,1 ,1 ,1 ,0 ,1 ,1 ,0 ,0 ,1 ,0 ,1 ,0],[0 ,0 ,0 ,0 ,1 ,1 ,1 ,0 ,1 ,1 ,0 ,0 ,1 ,0 ,1]])\n",
    "\n",
    "k_question4=5\n",
    "\n",
    "q_question4=2\n",
    "\n",
    "Espace_ambiant_question4=enumeration_espace_ambiant(k_question4,q_question4)\n",
    "\n",
    "liste_mot_code_question4=calcul_mot_de_code(matrice_question4,Espace_ambiant_question4,q_question4)\n",
    "\n",
    "zone_fertile=zone_fertile_mot_code(liste_mot_code_question4,15)\n",
    "\n",
    "trouver_centre_zone_fertile(liste_mot_code_question4,zone_fertile,7)\n",
    "w_question4=[i for i in range(0,16)]\n",
    "\n",
    "rLdecodable2(liste_mot_code_question4,w_question4,4,15,5,2,7)\n"
   ]
  },
  {
   "cell_type": "markdown",
   "id": "94b644",
   "metadata": {
    "collapsed": false
   },
   "source": [
    "### Question 4.2\n",
    "\n",
    "La fonction maximum_rayon va utiliser rL-decodable pour trouver la taille de la plus petite liste L tel que le code (r,L) est décodable.  \n",
    "\n",
    "**Condtion** : La sortie de rL-décodable doit **être plus petite que la moitié du cardinal du code** pour un rayon r si il veut prétendre être le plus grand rayon cherché. \n",
    "Comme le but est de trouver le plus grand rayon on commence par un rayon de 0 qui respectera la conditon cherchée puisque tout code est (0,L)-décodable ( Pour tout y #B(y,0)=0 ).\n",
    "\n",
    "Ainsi le plus grand rayon r veut dire le rayon tel que (r,L)-décodable avec une liste L (respectant la condition) **mais** ,au rayon r+1, même la plus petite liste L tel que le code est (r+1,L)-décodable ne respecte pas la condtion donnée."
   ]
  },
  {
   "cell_type": "code",
   "execution_count": 14,
   "id": "8865ba",
   "metadata": {
    "collapsed": false
   },
   "outputs": [
    {
     "name": "stdout",
     "output_type": "stream",
     "text": [
      "32\n"
     ]
    },
    {
     "name": "stdout",
     "output_type": "stream",
     "text": [
      "La plus petite liste tel que le code A est ( 0 ,L) est décodable est L= 0\n"
     ]
    },
    {
     "name": "stdout",
     "output_type": "stream",
     "text": [
      "La plus petite liste tel que le code A est ( 1 ,L) est décodable est L= 0\n"
     ]
    },
    {
     "name": "stdout",
     "output_type": "stream",
     "text": [
      "La plus petite liste tel que le code A est ( 2 ,L) est décodable est L= 1\n"
     ]
    },
    {
     "name": "stdout",
     "output_type": "stream",
     "text": [
      "La plus petite liste tel que le code A est ( 3 ,L) est décodable est L= 10\n"
     ]
    },
    {
     "name": "stdout",
     "output_type": "stream",
     "text": [
      "La plus petite liste tel que le code A est ( 4 ,L) est décodable est L= 16\n"
     ]
    },
    {
     "name": "stdout",
     "output_type": "stream",
     "text": [
      "La plus petite liste tel que le code A est ( 5 ,L) est décodable est L= 22\n",
      "Le rayon maximum tel que le code est (r,L)décodable pour des L inférieurs a la moitié du cardinal du code est : 4\n"
     ]
    }
   ],
   "source": [
    "def cardinal_code(k,q):\n",
    "    return q**k\n",
    "\n",
    "print(cardinal_code(5,2))\n",
    "def maximum_rayon(liste_mot_code,w,k,q,distance_minimale):\n",
    "    cardinal_moitie=(q**k)/2\n",
    "    for i in range(0,len(w)):\n",
    "        if rLdecodable2(liste_mot_code,w,i,15,k,q,distance_minimale)>cardinal_moitie :\n",
    "            print(\"Le rayon maximum tel que le code est (r,L)décodable pour des L inférieurs a la moitié du cardinal du code est :\",w[i]-1)\n",
    "            break\n",
    "        if i==w[-1] :\n",
    "            print(\"Le rayon maximum tel que le code est (r,L)décodable pour des L inférieurs a la moitié du cardinal du code est :\",w[i])\n",
    "            \n",
    "\n",
    "\n",
    "maximum_rayon(liste_mot_code_question4,w_question4,k_question4,q_question4,7)"
   ]
  },
  {
   "cell_type": "code",
   "execution_count": 0,
   "id": "1cdaa8",
   "metadata": {
    "collapsed": false
   },
   "outputs": [
   ],
   "source": [
   ]
  },
  {
   "cell_type": "code",
   "execution_count": 0,
   "id": "8044e0",
   "metadata": {
    "collapsed": false
   },
   "outputs": [
    {
     "data": {
      "text/plain": [
       "[]"
      ]
     },
     "execution_count": 0,
     "metadata": {
     },
     "output_type": "execute_result"
    }
   ],
   "source": [
    "espace_ambiant_question1=enumeration_espace_ambiant(6,2)\n",
    "\n",
    "\n",
    "def trouver_mot_distance_sup(espace_ambiant,mot_code,n,t):\n",
    "    Liste=[]\n",
    "    for i in range(0,len(espace_ambiant)):\n",
    "        compteur1=0\n",
    "        for j in range(0,len(mot_code)):\n",
    "            compteur2=0\n",
    "            for e in range(0,n):\n",
    "                if espace_ambiant[i][e]!=mot_code[j][e] :\n",
    "                    compteur2=compteur2+1\n",
    "            if compteur2==t:\n",
    "                compteur1=compteur1+1\n",
    "        if t+1>=compteur1>t:\n",
    "            Liste.append(espace_ambiant[i])\n",
    "    return Liste\n",
    "\n",
    "\n",
    "\n",
    "\n",
    "Liste_bizarre=[[1,0,0,0], [0,1,0,0]]\n",
    "trouver_mot_distance_sup(espace_ambiant_question1,question1_liste_de_mot,6,1)\n",
    "trouver_mot_distance_sup(espace_ambiant_question1,question1_liste_de_mot,6,2)\n",
    "trouver_mot_distance_sup(espace_ambiant_question1,question1_liste_de_mot,6,3)\n",
    "trouver_mot_distance_sup(espace_ambiant_question1,question1_liste_de_mot,6,4)\n",
    "trouver_mot_distance_sup(espace_ambiant_question1,question1_liste_de_mot,6,5)\n",
    "\n"
   ]
  },
  {
   "cell_type": "markdown",
   "id": "b59f22",
   "metadata": {
    "collapsed": false
   },
   "source": [
    "### Question 8.1"
   ]
  },
  {
   "cell_type": "code",
   "execution_count": 15,
   "id": "4b3239",
   "metadata": {
    "collapsed": false
   },
   "outputs": [
   ],
   "source": [
    "#créer matrice code reed solomon \n",
    "\n",
    "def matrice_reedSolomon(point_evaluation,k,p):\n",
    "    n=len(point_evaluation)\n",
    "    Liste_matrice=[]\n",
    "    Liste_ligne_matrice=[]\n",
    "    \n",
    "    for i in range(0,k):\n",
    "        for j in range(0,n):\n",
    "            Liste_ligne_matrice.append((point_evaluation**i)%q)\n",
    "        Liste_ligne_matrice[i].append(Liste_matrice)\n",
    "    return Liste_matrice\n",
    "\n",
    "\n",
    "#Remarque : On peut écrire une fonction qui va simplement stocker tous les mots du codes dans une liste. En effet le cardinal du code n'est pas grand pour des p de tailles \n",
    "#raisonnable puisque la dimension est de taille 3. p^3.\n",
    "\n",
    "#De plus le nombre de comparaison à faire pour calculer les mot distant de y est (p^3)*8 ce qui est de compléxité O(p^3)\n",
    "\n",
    "def calcul_mot_distance3(mot_bruite,p) :\n",
    "    for i in mot_bruite :\n",
    "        if i ==0 :\n",
    "            compteur=+1\n",
    "    if compteur!=5 :\n",
    "        raise ValueError(\"Le mot n'est pas de poids 3\")\n",
    "    \n",
    "    G=matrice_reedSolomon([0, 1, 2, 3, 4, 5, 6, 7],3,p)\n",
    "    Espace_ambiant=enumeration_espace_ambiant(3,p)\n",
    "    liste_mot_code=calcul_mot_de_code(G,Espace_ambiant,p)\n",
    "    compteur=0\n",
    "    \n",
    "    Liste_mot_distance3=[]\n",
    "    for i in liste_mot_code :\n",
    "        compteur=0\n",
    "        for j in range(0,len(mot_bruite)) :\n",
    "            if i[j]%p==mot_bruite[j]%p :\n",
    "                compteur=+1\n",
    "            if compteur>3 :\n",
    "                break\n",
    "        if compteur==3 :\n",
    "            Liste_mot_distance3.append(i)\n",
    "\n",
    "\n"
   ]
  },
  {
   "cell_type": "markdown",
   "id": "0f16eb",
   "metadata": {
    "collapsed": false
   },
   "source": [
    "### Question 8.2\n",
    "\n",
    "D'abord créeons une fonction qui calcule le cardinal des boules jusqu'a 1 rayon de 3 pour un mot de longueur n=8. Pour ce faire nous allons nous interesser à$ \\#\\{x \\in F_q^n \\mid Wt_H(y-x)=0 \\}=1,$ \\\n",
    "$\\#\\{x \\in F_q^n \\mid Wt_H(y-x)=1 \\}=(p-1)\\times n $\\\n",
    "$, \\#\\{x \\in F_q^n \\mid Wt_H(y-x)=2 \\}=(p-1)\\times \\Sigma^{n-1}_{i=0} i$ \\\n",
    "et $\\#\\{x \\in F_q^n \\mid Wt_H(y-x)=3 \\}=(p-1)\\times x$ une inconnue. \n",
    "\n",
    "Pour determiner cette inconnue nous créerons une autre fonctions qui calculera toutes les possibiltés combinatoires allant de 1 à 8 de vecteurs de tailles 3. (1 à 8 car il y a 3 positions) \n"
   ]
  },
  {
   "cell_type": "code",
   "execution_count": 16,
   "id": "745bdd",
   "metadata": {
    "collapsed": false
   },
   "outputs": [
    {
     "name": "stdout",
     "output_type": "stream",
     "text": [
      "35\n",
      "29\n"
     ]
    }
   ],
   "source": [
    "\n",
    "\n",
    "def combinaison_triplet_positions():\n",
    "    L=[1,2,3,4,5,6,7,8]\n",
    "    n=8\n",
    "    n_2=0\n",
    "    Liste=[]\n",
    "    for i in range(1,8):\n",
    "        for j in range(i+1,8):\n",
    "            for e in range( j+1,8):\n",
    "                Liste.append([i,j,e])\n",
    "    \n",
    "    return len(Liste)\n",
    "\n",
    "print(combinaison_triplet_positions())\n",
    "\n",
    "somme=1\n",
    "for i in range(1,8):\n",
    "    somme=somme+i\n",
    "print(somme)\n",
    "\n",
    "\n"
   ]
  },
  {
   "cell_type": "markdown",
   "id": "0c7c06",
   "metadata": {
    "collapsed": false
   },
   "source": [
    "Donc $\\#(B(y,3))=8\\times(p-1)+(p-1)\\times 29+(p-1)\\times 35=72\\times p-72$"
   ]
  },
  {
   "cell_type": "markdown",
   "id": "2cf39b",
   "metadata": {
    "collapsed": false
   },
   "source": [
    "De plus on peut si on pose l'évenement A de tomber sur un mot de distance 3 parmi $F_q^8$ et l'évenement B de tomber sur un mot du code parmi $F_q^8$ alors on peut trouver $P(A \\bigcap B)=P(B(y,r)\\bigcap RS_3(x))= P(A)\\times P(B)_A$\n",
    "\n",
    "Or $P(A)=\\frac{\\#(B(y,3))}{\\#(F_p^8)}=\\frac{72\\times p-72}{p^8}$\n",
    "et $P_A(B)=P(B)=\\frac{p^3}{p^8}=\\frac{1}{p^5}$\n",
    "\n",
    "La probabilité est donc $P(A)\\times P(B)_A=\\frac{72\\times p - 72}{p^{13}}$ mais seulement si on trouve un seul mot de code. \n",
    "\n",
    "La probabilité d'en trouver un deuxième n'est pas la même puisque on élimine le premier mot de code trouver de $RS_3(x)$ dans la formule de $P_A(B)$.\n",
    "\n",
    "$P_A(B)=P(B)=\\frac{p^3-1}{p^8}$ donc $P(A)\\times P(B)_A=\\frac{72\\times p^4-72\\times p^3-72\\times p^2-72\\times p+ 72}{p^{13}}$\n",
    "\n",
    "\n",
    "La probabilité d'obtenir exactement 2 succès parmi une suite infinie d'essais avec des probabilités variables est donnée par la formule suivante :\n",
    "\n",
    "$P(\\text{exactement 2 succès}) = \\sum_{1 \\leq i < j} p_i p_j \\prod_{k \\neq i,j} (1 - p_k)=\\frac{72\\times p^4-72\\times p^3-72\\times p^2-72\\times p+ 72}{p^{13}}\\times \\frac{72\\times p - 72}{p^{13}}\\times \\frac{1-(72p-72)}{p^21}=\\frac{5184\\times p^5-10368\\times p^4-10368\\times p-5184}{p^{21}}\\times \\frac{p^{21}-72 \\times p+72 }{p^{21}}$\n",
    "\n",
    "\n",
    "\n",
    "\n",
    "\n",
    "\n",
    "\n"
   ]
  },
  {
   "cell_type": "markdown",
   "id": "2037a7",
   "metadata": {
    "collapsed": false
   },
   "source": [
    "### Question 10 \n",
    "Le point d'évaluation sera \\{0,1,2,3,4,5,6,7\\} parce que c'est un vecteur de 8 coordonnée distincites sur $F_q^8$. "
   ]
  },
  {
   "cell_type": "code",
   "execution_count": 71,
   "id": "9fd5d1",
   "metadata": {
    "collapsed": false
   },
   "outputs": [
    {
     "name": "stdout",
     "output_type": "stream",
     "text": [
      "Matrice A après ajout des colonnes:\n",
      "Matrix([[1, 0, 0, 0, 3, 0, 0, 9, 0, 5], [1, 1, 1, 1, 3, 3, 3, 9, 9, 5], [1, 2, 4, 8, 10, 9, 7, 1, 2, 10], [1, 3, 9, 5, 6, 7, 10, 3, 9, 7], [1, 4, 5, 9, 5, 9, 3, 3, 1, 4], [1, 5, 3, 4, 9, 1, 5, 4, 9, 3], [1, 6, 3, 7, 10, 5, 8, 1, 6, 10], [1, 7, 5, 2, 2, 3, 10, 4, 6, 8]])\n",
      "[-2*X^4*Y + X^3*Y - 2*X*Y + 2*Y, X^3*Y - 2*X*Y + 2*Y, -2*X*Y + 2*Y, -2*X*Y + 2*Y]\n",
      "-2*X^4*Y + 2*X^3*Y + 3*X*Y - 3*Y\n"
     ]
    }
   ],
   "source": [
    "import math\n",
    "from sympy import Matrix, symbols\n",
    "from sympy import simplify\n",
    "\n",
    "# Paramètre du corps fini\n",
    "q = 11  # Choisir q = 11 pour le corps fini F11\n",
    "\n",
    "def construire_matriceA(y, l_degre_Qi, s_degre, point_evaluation, n, q):\n",
    "    Liste_matrice = []\n",
    "    \n",
    "    for i in range(0, n):\n",
    "        Liste_vecteur = []\n",
    "        for j in range(0, s_degre):\n",
    "            # Effectuer les calculs modulo q\n",
    "            term = ((y[i]**l_degre_Qi) * (point_evaluation[i]**j)) % q\n",
    "            Liste_vecteur.append(term)\n",
    "        Liste_matrice.append(Liste_vecteur)\n",
    "\n",
    "    return Matrix(Liste_matrice)\n",
    "\n",
    "def interpolation_polynome_sudan(y, w, k, point_evaluation, q):\n",
    "    n = len(y)\n",
    "    L = math.floor((n - w - 1) / (k - 1))\n",
    "    Liste_r = []\n",
    "    A = Matrix.zeros(n, 0)  # Initialisation correcte de A\n",
    "    Liste_polynome = []\n",
    "    Fq = GF(q)\n",
    "    R = PolynomialRing(Fq, 'X,Y')\n",
    "    \n",
    "    \n",
    "\n",
    "    X, Y = R.gens()\n",
    "    \n",
    "\n",
    "    for i in range(0, L + 1):\n",
    "        r = n - w - 1 - (k - 1) * i\n",
    "        Liste_r.append(r)\n",
    "\n",
    "        # Construire la matrice pour cette itération\n",
    "        matrice_temp = construire_matriceA(y, i, r + 1, point_evaluation, n, q)\n",
    "\n",
    "        # Vérification que la matrice construite n'est pas vide\n",
    "        A = A.row_join(matrice_temp)\n",
    "\n",
    "    print(\"Matrice A après ajout des colonnes:\")\n",
    "    print(A)\n",
    "\n",
    "    # Calcul du noyau de A\n",
    "    u = A.nullspace()\n",
    "    if u:\n",
    "        u = u[0]\n",
    "        for i in range(0, len(Liste_r)):\n",
    "            u_segment = u[:Liste_r[i] + 2]\n",
    "            Q = 0\n",
    "            for j in range(0, len(u_segment)):\n",
    "                Q = (Q + X**j * int(u_segment[j]))  \n",
    "            Q = Y* Q\n",
    "           \n",
    "            Liste_polynome.append(Q)\n",
    "    else:\n",
    "        print(\"Le noyau est vide\")\n",
    "        return None\n",
    "    print(Liste_polynome)\n",
    "    Q_total = 0\n",
    "    for q in Liste_polynome:\n",
    "        Q_total += q\n",
    "    return Q_total\n",
    "    #return sum(Liste_polynome) % q\n",
    "\n",
    "# Exemple d'appel de la fonction\n",
    "mot_bruite2 = [3, 3, 10, 6, 5, 9, 10, 2]\n",
    "point_evaluation = [i for i in range(0, 8)]\n",
    "resultat = interpolation_polynome_sudan(mot_bruite2, 4, 2, point_evaluation, 11)\n",
    "print(resultat)\n"
   ]
  },
  {
   "cell_type": "code",
   "execution_count": 0,
   "id": "2e6d47",
   "metadata": {
    "collapsed": false
   },
   "outputs": [
   ],
   "source": [
   ]
  },
  {
   "cell_type": "code",
   "execution_count": 0,
   "id": "127f31",
   "metadata": {
    "collapsed": false
   },
   "outputs": [
   ],
   "source": [
   ]
  },
  {
   "cell_type": "code",
   "execution_count": 236,
   "id": "6c82b1",
   "metadata": {
    "collapsed": false
   },
   "outputs": [
    {
     "name": "stdout",
     "output_type": "stream",
     "text": [
      "Matrix([[1, 0, 0, 0, 3, 0, 0, 9, 0, 5], [1, 1, 1, 1, 3, 3, 3, 9, 9, 5], [1, 2, 4, 8, 10, 9, 7, 1, 2, 10], [1, 3, 9, 5, 6, 7, 10, 3, 9, 7], [1, 4, 5, 9, 5, 9, 3, 3, 1, 4], [1, 5, 3, 4, 9, 1, 5, 4, 9, 3], [1, 6, 3, 7, 10, 5, 8, 1, 6, 10], [1, 7, 5, 2, 2, 3, 10, 4, 6, 8]])\n",
      "Ajout de Q: 0\n",
      "Ajout de Q: 0\n",
      "Ajout de Q: 0\n",
      "Ajout de Q: 0\n",
      "Liste_polynome avant somme: [0, 0, 0, 0]\n"
     ]
    },
    {
     "data": {
      "text/latex": [
       "$\\displaystyle 0$"
      ],
      "text/plain": [
       "0"
      ]
     },
     "execution_count": 236,
     "metadata": {
     },
     "output_type": "execute_result"
    }
   ],
   "source": [
    "import math\n",
    "from sympy import simplify\n",
    "\n",
    "\n",
    "def construire_matriceA(y,l_degre_Qi,s_degre,point_evaluation,q):\n",
    "    Liste_matrice=[]\n",
    "    n=len(point_evaluation)\n",
    "    for i in range(0,n):\n",
    "        Liste_vecteur=[]\n",
    "        for j in range(0,s_degre):\n",
    "            Liste_vecteur.append(((y[i]**l_degre_Qi) * (point_evaluation[i]**j))%q)\n",
    "        Liste_matrice.append(Liste_vecteur)\n",
    "\n",
    "    return Matrix(Liste_matrice)\n",
    "\n",
    "\n",
    "mot_bruite2=[3,3,10,6,5,9,10,2]\n",
    "point_evaluation=[i for i in range(0,8)]\n",
    "\n",
    "from sympy import symbols, Poly\n",
    "x, y = symbols('x y')\n",
    "\n",
    "def interpolation_polynome_sudan(y,w,k,q):\n",
    "    n=len(y)\n",
    "    L=math.floor((n-w-1)/(k-1))\n",
    "    Liste_r=[]\n",
    "    A = Matrix.zeros(n, 0)  # Initialisation correcte de A\n",
    "    Liste_polynome=[]\n",
    "    for i in range(0,L+1):\n",
    "        r=n-w-1-(k-1)*i\n",
    "        Liste_r.append(r)\n",
    "        A= A.row_join(construire_matriceA(y,i,r+1,point_evaluation,q))\n",
    "    print(A)\n",
    "    u=A.nullspace()[0]\n",
    "    u=u[0:Liste_r[0]+1]\n",
    "    for i in range(1,len(Liste_r)):\n",
    "        u=u[Liste_r[i-1]:Liste_r[i]+1]\n",
    "        Q=0\n",
    "        for j in range(0,len(u)):\n",
    "            Q=Q+(x**j*u[j])%q\n",
    "        Q=y*Q\n",
    "\n",
    "        # Dans la boucle où vous ajoutez Q à Liste_polynome\n",
    "    for i in range(0, len(Liste_r)):\n",
    "        u_segment = u[:Liste_r[i] + 1]\n",
    "        Q = 0\n",
    "        for j in range(0, len(u_segment)):\n",
    "            Q = Q + symbols('x')**j * u_segment[j]\n",
    "        Q = symbols('y') * Q\n",
    "        print(f\"Ajout de Q: {Q}\")  # Vérifiez Q avant de l'ajouter\n",
    "        Liste_polynome.append(Q)\n",
    "\n",
    "    # Avant de retourner la somme des polynômes\n",
    "    print(f\"Liste_polynome avant somme: {Liste_polynome}\")\n",
    "\n",
    "    return sum(Liste_polynome)\n",
    "\n",
    "\n",
    "interpolation_polynome_sudan(mot_bruite2,4,2,11)\n",
    "\n",
    "\n",
    "\n",
    "\n",
    "\n",
    "\n",
    "\n",
    "\n",
    "\n",
    "    "
   ]
  }
 ],
 "metadata": {
  "kernelspec": {
   "argv": [
    "sage-10.4",
    "--python",
    "-m",
    "sage.repl.ipython_kernel",
    "--matplotlib=inline",
    "-f",
    "{connection_file}"
   ],
   "display_name": "SageMath 10.4",
   "env": {
   },
   "language": "sagemath",
   "metadata": {
    "cocalc": {
     "description": "Open-source mathematical software system",
     "priority": 10,
     "url": "https://www.sagemath.org/"
    }
   },
   "name": "sage-10.4",
   "resource_dir": "/ext/jupyter/kernels/sage-10.4"
  },
  "language_info": {
   "codemirror_mode": {
    "name": "ipython",
    "version": 3
   },
   "file_extension": ".py",
   "mimetype": "text/x-python",
   "name": "python",
   "nbconvert_exporter": "python",
   "pygments_lexer": "ipython3",
   "version": "3.12.4"
  }
 },
 "nbformat": 4,
 "nbformat_minor": 4
}