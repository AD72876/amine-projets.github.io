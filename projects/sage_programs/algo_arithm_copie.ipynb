{
  "metadata": {
    "language_info": {
      "codemirror_mode": {
        "name": "python",
        "version": 3
      },
      "file_extension": ".py",
      "mimetype": "text/x-python",
      "name": "python",
      "nbconvert_exporter": "python",
      "pygments_lexer": "ipython3",
      "version": "3.8"
    },
    "kernelspec": {
      "name": "python",
      "display_name": "Python (Pyodide)",
      "language": "python"
    }
  },
  "nbformat_minor": 4,
  "nbformat": 4,
  "cells": [
    {
      "cell_type": "markdown",
      "source": "exo 1",
      "metadata": {}
    },
    {
      "cell_type": "code",
      "source": "def addition_scolaire(a, b):\n    max_len = max(len(a), len(b))\n    a = [0] * (max_len - len(a)) + a\n    b = [0] * (max_len - len(b)) + b\n    \n    result = []\n    retenue = 0\n\n    for i in range(max_len - 1, -1, -1):\n        somme_bit = a[i] + b[i] + retenue\n        result.insert(0, somme_bit % 2)\n        retenue = somme_bit // 2\n\n    if retenue:\n        result.insert(0, retenue)\n    \n    return result",
      "metadata": {
        "tags": [],
        "trusted": true
      },
      "execution_count": 1,
      "outputs": []
    },
    {
      "cell_type": "code",
      "source": "a = [1,0,1,0,1,0]  # 11 en binaire\nb = [1,0,0,0,1]  # 6 en binaire\naddition_scolaire(a, b)",
      "metadata": {
        "trusted": true
      },
      "execution_count": 2,
      "outputs": [
        {
          "execution_count": 2,
          "output_type": "execute_result",
          "data": {
            "text/plain": "[1, 1, 1, 0, 1, 1]"
          },
          "metadata": {}
        }
      ]
    },
    {
      "cell_type": "code",
      "source": "def soustraction_scolaire(a, b):\n    max_len = max(len(a), len(b))\n    a = [0] * (max_len - len(a)) + a\n    b = [0] * (max_len - len(b)) + b\n    \n    result = []\n    emprunt = 0\n\n    for i in range(max_len - 1, -1, -1):\n        diff_bit = a[i] - b[i] - emprunt\n        if diff_bit < 0:\n            diff_bit += 2\n            emprunt = 1\n        else:\n            emprunt = 0\n        result.insert(0, diff_bit)\n    \n    # Supprimez les zéros non significatifs à gauche du résultat\n    while len(result) > 1 and result[0] == 0:\n        result.pop(0)\n    \n    return result\n",
      "metadata": {
        "trusted": true
      },
      "execution_count": 3,
      "outputs": []
    },
    {
      "cell_type": "code",
      "source": "soustraction_scolaire([1,0,1,0,1,0],[1,0,0,0,1])",
      "metadata": {
        "trusted": true
      },
      "execution_count": 4,
      "outputs": [
        {
          "execution_count": 4,
          "output_type": "execute_result",
          "data": {
            "text/plain": "[1, 1, 0, 0, 1]"
          },
          "metadata": {}
        }
      ]
    },
    {
      "cell_type": "code",
      "source": "def division_scolaire(a, b):\n    # Assurez-vous que les deux listes ont la même longueur\n    max_len = len(a)\n    b_len = len(b)\n    \n    quotient = []\n    reste = a[:]\n\n    while len(reste) >= b_len:\n        # On décale le diviseur (b) à gauche pour qu'il ait la même longueur que le reste\n        diviseur_decale = [0] * (len(reste) - b_len) + b\n\n        # On calcule le quotient entre le diviseur décalé et le reste\n        q = 0\n        while reste >= diviseur_decale:\n            reste = soustraction_scolaire(reste, diviseur_decale)\n            q += 1\n\n        # On ajoute le quotient partiel au quotient final\n        quotient.append(q)\n\n    return quotient",
      "metadata": {
        "trusted": true
      },
      "execution_count": 5,
      "outputs": []
    },
    {
      "cell_type": "code",
      "source": "division_scolaire([1,0,1,0,1,0],[1,0,0,0,1])",
      "metadata": {
        "trusted": true
      },
      "execution_count": 6,
      "outputs": [
        {
          "execution_count": 6,
          "output_type": "execute_result",
          "data": {
            "text/plain": "[10]"
          },
          "metadata": {}
        }
      ]
    },
    {
      "cell_type": "markdown",
      "source": "Exo 2 ",
      "metadata": {}
    },
    {
      "cell_type": "code",
      "source": "def plus_grande_puissance_2(a, b):\n    k = 0\n    while (2 ** k) * b <= a:\n        k += 1\n    # Décrémentez k car il doit satisfaire la condition 2^k * b <= a\n    return k - 1\n",
      "metadata": {
        "trusted": true
      },
      "execution_count": 7,
      "outputs": []
    },
    {
      "cell_type": "code",
      "source": "plus_grande_puissance_2(32,1)",
      "metadata": {
        "trusted": true
      },
      "execution_count": 8,
      "outputs": [
        {
          "execution_count": 8,
          "output_type": "execute_result",
          "data": {
            "text/plain": "5"
          },
          "metadata": {}
        }
      ]
    },
    {
      "cell_type": "code",
      "source": "plus_grande_puissance_2(32,2)",
      "metadata": {
        "trusted": true
      },
      "execution_count": 9,
      "outputs": [
        {
          "execution_count": 9,
          "output_type": "execute_result",
          "data": {
            "text/plain": "4"
          },
          "metadata": {}
        }
      ]
    },
    {
      "cell_type": "code",
      "source": "def division_binaire(a, b):\n    if b == 0:\n        raise ValueError(\"Division by zero is not allowed.\")\n\n    # Cas particulier lorsque a est égal à 0\n    if a == 0:\n        return 0\n\n    # Convertir a et b en représentation binaire\n    a_bin = bin(a)[2:]\n    b_bin = bin(b)[2:]\n\n    # Obtenir la longueur des représentations binaires\n    len_a = len(a_bin)\n    len_b = len(b_bin)\n\n    # Initialiser le quotient à zéro\n    quotient = 0\n    reste = 0\n\n    # Boucle sur chaque bit de la représentation binaire de a\n    for i in range(len_a):\n        reste = (reste << 1) | int(a_bin[i])\n\n        if reste >= b:\n            quotient = (quotient << 1) | 1\n            reste -= b\n        else:\n            quotient = quotient << 1\n\n    return quotient",
      "metadata": {
        "trusted": true
      },
      "execution_count": 10,
      "outputs": []
    },
    {
      "cell_type": "code",
      "source": "a = 32\nb = 3\nresult = division_binaire(a, b)\nprint(result)",
      "metadata": {
        "trusted": true
      },
      "execution_count": 11,
      "outputs": [
        {
          "name": "stdout",
          "text": "10\n",
          "output_type": "stream"
        }
      ]
    },
    {
      "cell_type": "code",
      "source": "def compare_binary(a, b):\n    if len(a) > len(b):\n        return 1\n    elif len(a) < len(b):\n        return 0\n    elif a >= b:\n        return 1\n    else:\n        return 0\n\ndef addition(a, b):\n    max_len = max(len(a), len(b))\n    a = [0] * (max_len - len(a)) + a\n    b = [0] * (max_len - len(b)) + b\n    \n    result = []\n    carry = 0\n\n    if compare_binary(a, b) < 0:\n        a, b = b, a  # Assure que a est plus grand que b\n\n    for i in range(max_len - 1, -1, -1):\n        sum_bit = a[i] + b[i] + carry\n        result.insert(0, sum_bit % 2)\n        carry = sum_bit // 2\n\n    if carry:\n        result.insert(0, carry)\n    \n    return result\n\ndef soustraction(a, b):\n    max_len = max(len(a), len(b))\n    a = [0] * (max_len - len(a)) + a\n    b = [0] * (max_len - len(b)) + b\n    \n    result = []\n    borrow = 0\n\n    if compare_binary(a, b) < 0:\n        a, b = b, a  # Assure que a est plus grand que b\n\n    for i in range(max_len - 1, -1, -1):\n        diff_bit = a[i] - b[i] - borrow\n        if diff_bit < 0:\n            diff_bit += 2\n            borrow = 1\n        else:\n            borrow = 0\n        result.insert(0, diff_bit)\n    \n    while len(result) > 1 and result[0] == 0:\n        result.pop(0)\n    \n    return result\n\ndef division_scolaire(a, b):\n    max_len = len(a)\n    b_len = len(b)\n    \n    quotient = []\n    reste = a[:]\n    \n    if compare_binary(reste, b) < 0:\n        return [0]  # Si a < b, le quotient est zéro\n\n    while compare_binary(reste, b) >= 0:\n        q = [0] * (max_len - b_len + 1)\n        sub_b = b[:]\n        \n        if compare_binary(reste, sub_b) >= 0:\n            q[-1] += 1\n            reste = soustraction(reste, sub_b)\n        \n        quotient = addition(quotient, q)\n    \n    return quotient\n",
      "metadata": {
        "trusted": true
      },
      "execution_count": null,
      "outputs": []
    },
    {
      "cell_type": "code",
      "source": "",
      "metadata": {
        "tags": [],
        "trusted": true
      },
      "execution_count": null,
      "outputs": []
    },
    {
      "cell_type": "code",
      "source": "",
      "metadata": {},
      "execution_count": null,
      "outputs": []
    }
  ]
}