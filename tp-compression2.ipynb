{
 "cells": [
  {
   "cell_type": "markdown",
   "metadata": {},
   "source": [
    "# TP noté n°2 : Introduction à la compression\n",
    "\n",
    "Ce TP a pour objectif de donner une introduction pratique à certaines techniques élémentaires de compression. Il vous permettra également d'appréhender la création et la lecture d'images via python."
   ]
  },
  {
   "cell_type": "markdown",
   "metadata": {},
   "source": [
    "## Partie 1 : Présentation de la bibliothèque PIL\n",
    "\n",
    "PIL (python image library) est une bibliothèque python permettant de manipuler des images. Si PIL n'est pas installée sur votre machine, vous pouvez entrer la commande suivante (dans un terminal par exemple) pour l'installer : \n",
    "```\n",
    "pip install Pillow\n",
    "```\n",
    "\n",
    "La bibliothèque PIL contient notamment un module `Image` qui nous sera utile dans ce TP. On peut l'importer par :\n",
    "```\n",
    "from PIL import Image\n",
    "```\n",
    "\n",
    "Cette partie a pour but de vous faire manipuler quelques fonctions élémentaires de PIL afin que vous puissiez en comprendre le mécanisme. Pour plus de détails, un tutoriel assez complet est disponible à l'adresse suivante : https://pillow.readthedocs.io/en/stable/handbook/tutorial.html"
   ]
  },
  {
   "cell_type": "markdown",
   "metadata": {},
   "source": [
    "Dans ce TP, nous allons manipuler des images en noir et blanc, sous la forme de grille de pixels. Pour définir une nouvelle image, on utilise la fonction `new` du module `Image`, en précisant le format de l'image et sa taille. Le format d'une image en noir et blanc est `\"L\"`, et sa taille doit êtrte donnée comme un couple d'entiers. Par exemple, pour initialiser une image de taille $(100 \\times 100)$, on utilisera :\n",
    "```\n",
    "img = Image.new( 'L', (100, 100))\n",
    "```\n",
    "La variable `img` contiendra alors l'objet-image qui a été créé.\n",
    "\n",
    "Ensuite, pour afficher l'image `img`, on peut entrer `display(img)` qui affichera l'image sous la cellule d'exécution. On peut également afficher l'image dans un logiciel multimédia grâce à `img.show()`."
   ]
  },
  {
   "cell_type": "markdown",
   "metadata": {},
   "source": [
    "**Question 1.** En n'oubliant pas d'importer le module `Image` de la bibliothèque `PIL`, initialiser dans une variable `img` une image de taille $(200 \\times 40)$. Puis, afficher l'image à votre convenance."
   ]
  },
  {
   "cell_type": "code",
   "execution_count": 1,
   "metadata": {},
   "outputs": [],
   "source": [
    "from PIL import Image\n",
    "img=Image.new('L',(200,40))\n",
    "img.show()"
   ]
  },
  {
   "cell_type": "markdown",
   "metadata": {},
   "source": [
    "Comme l'image donne un rectangle applati horizontalement, on déduit que la première dimension correspond à la largeur de l'image, et la seconde sa hauteur.\n",
    "\n",
    "On observe également que, par défaut, les pixels de l'image sont noirs. Les pixels noirs sont représentés par la valeur entière `0`, tandis que les blanc par la valeur `255`. Les valeurs entre  $1$ et $254$ correspondent à des niveaux de gris que l'on n'utilisera pas dans ce TP.\n",
    "\n",
    "Pour modifier la valeur d'un pixel d'une image `img`, on peut utiliser\n",
    "```\n",
    "img.putpixel((i,j), x)\n",
    "```\n",
    "où `(i,j)` désigne la position du pixel à modifier, et `x` la valeur à lui affecter."
   ]
  },
  {
   "cell_type": "markdown",
   "metadata": {},
   "source": [
    "**Question 2.** Modifier en blanc le pixel de coordonnées $(50, 10)$ de l'image précédemment créée. Puis, afficher l'image."
   ]
  },
  {
   "cell_type": "code",
   "execution_count": 2,
   "metadata": {},
   "outputs": [],
   "source": [
    "img.putpixel((50,10), 255)\n",
    "img.show()"
   ]
  },
  {
   "cell_type": "markdown",
   "metadata": {},
   "source": [
    "On observe que le pixel modifié (assez petit) se situe plutôt en haut à gauche de l'image. Cela signifie que les coordonnées $(0, 0)$ correspondent au pixel tout en haut à gauche.\n",
    "\n",
    "La fonction `zoom` fournie dans la cellule suivante vous permet de créer une image \"zoomée\". Elle prend en entrée une image `image` et retourne une autre image en sortie. Elle ne modifie donc pas la variable `image`.\n",
    "\n",
    "La fonction prend également en entrée un second argument, qui correspond au facteur de zoom. Par défaut, il est initialisé à $4$, mais on peut en choisir un autre."
   ]
  },
  {
   "cell_type": "code",
   "execution_count": 3,
   "metadata": {},
   "outputs": [],
   "source": [
    "from PIL import Image\n",
    "def zoom(image, zoom_factor=4):\n",
    "    im = image\n",
    "    x, y = im.size\n",
    "    im = im.resize([zoom_factor*x, zoom_factor*y], Image.NEAREST)\n",
    "    return im"
   ]
  },
  {
   "cell_type": "markdown",
   "metadata": {},
   "source": [
    "**Question 3.** Utiliser la fonction précédemment codée pour afficher deux versions zoomées de votre image :\n",
    "1. l'une avec le facteur de zoom standard $4$ (donc, en ne donnant pas de second argument à la fonction)\n",
    "2. l'autre avec un facteur de zoom $2$"
   ]
  },
  {
   "cell_type": "code",
   "execution_count": 4,
   "metadata": {},
   "outputs": [],
   "source": [
    "def deux_zoom(a):\n",
    "    zoom(img, zoom_factor=4).show()\n",
    "    zoom(img, zoom_factor=2).show()\n",
    "    \n",
    "deux_zoom(img)\n",
    "    "
   ]
  },
  {
   "cell_type": "markdown",
   "metadata": {},
   "source": [
    "En machine, une image en noir et blanc peut être représentée par une liste de bits : $0$ si le pixel est noir et $1$ s'il est blanc. Les deux fonction suivantes vous permettent de passer d'une image à une liste de bits, et réciproquement."
   ]
  },
  {
   "cell_type": "code",
   "execution_count": 5,
   "metadata": {},
   "outputs": [],
   "source": [
    "def img_to_bits(image):\n",
    "    res = []\n",
    "    for x in range(image.height):\n",
    "        for y in range(image.width):\n",
    "            if image.getpixel((y,x)) != 0:\n",
    "                res.append(1)\n",
    "            else:\n",
    "                res.append(0)\n",
    "    return res\n",
    "\n",
    "def bits_to_img(bits, height, width):\n",
    "    img = Image.new( 'L', (width, height), \"black\")\n",
    "    for i in range(height):\n",
    "        for j in range(width):\n",
    "            if bits[i*width + j] == 1:\n",
    "                img.putpixel((j,i), 255)\n",
    "    return img\n",
    "\n",
    "# bits_to_img(img_to_bits(zoom(img)), 100, 100)"
   ]
  },
  {
   "cell_type": "markdown",
   "metadata": {},
   "source": [
    "**Question 4.** Créer la liste de bits `[0, 1, 1, 0, 1, 0, 0, 0]`, puis l'afficher sous la forme d'une image de hauteur $2$ et de largeur $4$.\n",
    "\n",
    "*Remarque : comme l'image est très petite, on pourra utiliser un zoom avec un facteur important*"
   ]
  },
  {
   "cell_type": "code",
   "execution_count": 6,
   "metadata": {},
   "outputs": [
    {
     "data": {
      "image/png": "[encoded data removed]",
      "text/plain": [
       "<PIL.Image.Image image mode=L size=400x200 at 0x7F202502C828>"
      ]
     },
     "execution_count": 6,
     "metadata": {},
     "output_type": "execute_result"
    }
   ],
   "source": [
    "L=[0, 1, 1, 0, 1, 0, 0, 0]\n",
    "b=bits_to_img(L, 2, 4)\n",
    "zoom(b, zoom_factor=100)"
   ]
  },
  {
   "cell_type": "markdown",
   "metadata": {},
   "source": [
    "Les trois fonctions suivantes vous permettent de créer des images avec des formes géométriques que l'on essaiera de compresser par la suite :\n",
    "1. la fonction `diagonal(h)` crée une diagonale blanche sur un fond carré noir de coté `h`\n",
    "2. la fonction `cross(h)` crée une croix noire sur un fond carré `blanc` de coté `h`\n",
    "3. la fonction `square(h, r)` crée un carré noir de côté `r` au centre d'un fond blanc de côté `h`\n",
    "   \n",
    "**Attention !** Ces fonctions retournent une liste de bits, et non une image."
   ]
  },
  {
   "cell_type": "code",
   "execution_count": 7,
   "metadata": {},
   "outputs": [],
   "source": [
    "def diagonal(h):\n",
    "    return [1 if i % (h+1) == 0 else 0 for i in range(h**2) ]\n",
    "\n",
    "def cross(h):\n",
    "    return [0 if (i % (h+1) == 0) or (i % (h-1) == 0) else 1 for i in range(h**2) ]\n",
    "\n",
    "def square(h, r):\n",
    "    res = []\n",
    "    t = (h-r)//2\n",
    "    for i in range(t):\n",
    "        res += [1]*h\n",
    "    for i in range(r):\n",
    "        res += [1]*t + [0]*r + [1]*(h-t-r)\n",
    "    for i in range(h-t-r):\n",
    "        res += [1]*h\n",
    "    return res\n"
   ]
  },
  {
   "cell_type": "markdown",
   "metadata": {},
   "source": [
    "**Question 5.** Afficher des exemples d'images issues de ces trois fonctions."
   ]
  },
  {
   "cell_type": "code",
   "execution_count": 8,
   "metadata": {},
   "outputs": [
    {
     "data": {
      "text/plain": [
       "[1, 0, 0, 0, 0, 1, 0, 0, 0, 0, 1, 0, 0, 0, 0, 1]"
      ]
     },
     "execution_count": 8,
     "metadata": {},
     "output_type": "execute_result"
    }
   ],
   "source": [
    "c=bits_to_img(diagonal(4),4,4)\n",
    "zoom(c, zoom_factor=20)\n",
    "diagonal(4)\n"
   ]
  },
  {
   "cell_type": "code",
   "execution_count": 9,
   "metadata": {},
   "outputs": [
    {
     "data": {
      "image/png": "[encoded data removed]",
      "text/plain": [
       "<PIL.Image.Image image mode=L size=400x400 at 0x7F200B5D87B8>"
      ]
     },
     "execution_count": 9,
     "metadata": {},
     "output_type": "execute_result"
    }
   ],
   "source": [
    "d=bits_to_img(cross(4),4,4)\n",
    "zoom(d,zoom_factor=100)"
   ]
  },
  {
   "cell_type": "code",
   "execution_count": 10,
   "metadata": {},
   "outputs": [
    {
     "data": {
      "image/png": "[encoded data removed]",
      "text/plain": [
       "<PIL.Image.Image image mode=L size=400x400 at 0x7F200B5E54A8>"
      ]
     },
     "execution_count": 10,
     "metadata": {},
     "output_type": "execute_result"
    }
   ],
   "source": [
    "e=bits_to_img(square(4,2),4,4)\n",
    "zoom(e, zoom_factor=100)"
   ]
  },
  {
   "cell_type": "markdown",
   "metadata": {},
   "source": [
    "## Partie 2 : Codage RLE brut"
   ]
  },
  {
   "cell_type": "markdown",
   "metadata": {},
   "source": [
    "On rappelle que le codage par plage, aussi nommé RLE (*run-length encoding*), d'une suite de bits $(m_1, \\dots, m_n)$ peut être défini de la sorte. On identifie d'abord le premier bit du message, puis on créer une liste d'entiers correspondant aux longueurs de plages, c'est-à-dire aux nombre de bits consécutivement égaux. Par exemple, pour le message $11000101100000001$, le premier bit est $1$, et la liste d'entiers est $(2, 3, 1, 1, 2, 7, 1)$. \n",
    "\n",
    "**Question 6.** Écrire une fonction `RLE(message)` qui prend en entrée un message binaire `message` et qui retourne un couple `(b, rle)` où\n",
    "- `b` est le premier bit de `message`\n",
    "- `rle` est une liste d'entiers décrivant les longueurs de plage"
   ]
  },
  {
   "cell_type": "code",
   "execution_count": 11,
   "metadata": {},
   "outputs": [
    {
     "data": {
      "text/plain": [
       "(1, [2, 3, 2, 1, 1])"
      ]
     },
     "execution_count": 11,
     "metadata": {},
     "output_type": "execute_result"
    }
   ],
   "source": [
    "def RLE(message):\n",
    "    # Fonction pour effectuer la compression Run-Length Encoding (RLE) sur une liste 'message'\n",
    "    rle = []  # Liste pour stocker les longueurs des séquences\n",
    "    j = 0     # Indice pour parcourir la liste 'message'\n",
    "\n",
    "    # Parcourir la liste 'message'\n",
    "    while j < len(message):\n",
    "        s = 1  # Initialiser la longueur de la séquence à 1\n",
    "\n",
    "        # Compter la longueur de la séquence identique\n",
    "        while j < len(message) - 1 and message[j] == message[j + 1]:\n",
    "            s = s + 1\n",
    "            j += 1\n",
    "\n",
    "        # Ajouter la longueur de la séquence à la liste 'rle'\n",
    "        rle.append(s)\n",
    "\n",
    "        j += 1  # Passer à l'élément suivant dans la liste\n",
    "\n",
    "    b = message[0]  # Prendre le premier élément de la liste 'message' comme base\n",
    "    return b, rle  # Retourner la base et la liste des longueurs des séquences\n",
    "\n",
    "\n",
    "m=[1,1,0,0,0,1,1,0,1]\n",
    "RLE(m)\n",
    "\n",
    "    "
   ]
  },
  {
   "cell_type": "markdown",
   "metadata": {},
   "source": [
    "**Question 7.** Écrire la fonction `inverse_RLE(b, rle)` qui effectue le procédé inverse du codage RLE. Cette fonction doit don prendre en entrée un bit `b` et une liste d'entiers `rle`, et retourner la liste de bits `message` qui a servi pour obtenir le codage RLE `(b, rle)`."
   ]
  },
  {
   "cell_type": "code",
   "execution_count": 12,
   "metadata": {},
   "outputs": [],
   "source": [
    "def inverse_RLE(b, rle):\n",
    "    # Fonction pour effectuer la décompression de Run-Length Encoding (RLE)\n",
    "    L = []  # Liste pour stocker la séquence décompressée\n",
    "    j = 0   # Indice pour parcourir la liste 'rle'\n",
    "\n",
    "    # Parcourir la liste 'rle'\n",
    "    for i in range(0, len(rle)):\n",
    "        # Ajouter 'b' à la liste 'L' autant de fois que spécifié par la longueur de la séquence 'rle[i]'\n",
    "        while rle[i] != 0:\n",
    "            L.append(b)\n",
    "            rle[i] = rle[i] - 1\n",
    "        \n",
    "        # Alterner 'b' entre 0 et 1 pour chaque nouvelle séquence\n",
    "        b = (b + 1) % 2\n",
    "\n",
    "    return L  # Retourner la séquence décompressée       \n"
   ]
  },
  {
   "cell_type": "markdown",
   "metadata": {},
   "source": [
    "**Question 8.** Tester vos deux fonctions précédentes (`RLE` et `inverse_RLE`), notamment avec l'exemple donné en début de partie 2."
   ]
  },
  {
   "cell_type": "code",
   "execution_count": 13,
   "metadata": {},
   "outputs": [
    {
     "data": {
      "text/plain": [
       "[1, 1, 0, 0, 0, 1, 1, 0, 1]"
      ]
     },
     "execution_count": 13,
     "metadata": {},
     "output_type": "execute_result"
    }
   ],
   "source": [
    "RLE([1,1,0,0,0,1,1,0,1])\n",
    "inverse_RLE(1,[2, 3, 2, 1, 1])"
   ]
  },
  {
   "cell_type": "markdown",
   "metadata": {},
   "source": [
    "**Question 9.** Quel est le code RLE de l'image diagonale de côté $20$ ?"
   ]
  },
  {
   "cell_type": "code",
   "execution_count": 14,
   "metadata": {},
   "outputs": [
    {
     "data": {
      "text/plain": [
       "(1, [1, 4, 1, 4, 1, 4, 1])"
      ]
     },
     "execution_count": 14,
     "metadata": {},
     "output_type": "execute_result"
    }
   ],
   "source": [
    "RLE(diagonal(4))"
   ]
  },
  {
   "cell_type": "markdown",
   "metadata": {},
   "source": [
    "## Partie 3 : Codage RLE avec un codage d'entiers"
   ]
  },
  {
   "cell_type": "markdown",
   "metadata": {},
   "source": [
    "Si `(b, rle)` est la sortie d'un codage RLE, les entiers stockés dans la liste `rle` ne sont pas représentés par une suite de bits. On a vu lors du cours sur le codage de source qu'il y avait plusieurs méthodes pour encoder une suite d'entier sous forme binaire. Les fonctions suivantes permettent d'utiliser le codage \"Gamma\" dont la longueur moyenne est proche de la borne entropique pour de nombreuses distributions d'entiers. Pour plus de détails, voir la page wikipedia : https://fr.wikipedia.org/wiki/Codage_gamma"
   ]
  },
  {
   "cell_type": "code",
   "execution_count": 15,
   "metadata": {},
   "outputs": [],
   "source": [
    "\n",
    "def unaire(n):\n",
    "    return [0]*n + [1]\n",
    "\n",
    "\n",
    "def decomp(n):\n",
    "    if n == 0:\n",
    "        return [0]\n",
    "    res = []\n",
    "    while n != 0:\n",
    "        res.append(n % 2)\n",
    "        n >>= 1\n",
    "    return res\n",
    "\n",
    "\n",
    "def inverse_decomp(d):\n",
    "    res = 0\n",
    "    p = 1\n",
    "    for x in d:\n",
    "        res += x*p\n",
    "        p <<= 1\n",
    "    return res\n",
    "\n",
    "def gamma(n):\n",
    "    d = decomp(n)\n",
    "    s = len(d)\n",
    "    return unaire(s) + d\n",
    "\n",
    "def inverse_gamma(c):\n",
    "    i = 0\n",
    "    while c[i] == 0:\n",
    "        i += 1\n",
    "    d = c[i+1:]\n",
    "    n = inverse_decomp(d)\n",
    "    return n\n",
    "\n",
    "# Encodage gamma d'une liste d'entiers L\n",
    "def gamma_liste(L):\n",
    "    res = []\n",
    "    for n in L:\n",
    "        res += gamma(n)\n",
    "    return res\n",
    "    \n",
    "# Décodage gamma d'une liste d'entiers codés L\n",
    "def inverse_gamma_liste(L):\n",
    "    res = []\n",
    "    N = len(L)\n",
    "    i = 0\n",
    "    s = 1\n",
    "    while i < N:\n",
    "        if L[i] == 0:\n",
    "            i += 1\n",
    "            s += 1\n",
    "        else:\n",
    "            n = inverse_decomp(L[i+1:i+1+s])\n",
    "            res.append(n)\n",
    "            i = i+s+1\n",
    "            s = 1            \n",
    "    return res"
   ]
  },
  {
   "cell_type": "markdown",
   "metadata": {},
   "source": [
    "On souhaite représenter le codage RLE d'un message binaire comme une unique liste de bits. Pour cela, on va simplement concaténer le bit `b` du codage RLE  avec la représentation binaire de la suite d'entier `rle`. Cette représentation binaire peut être obtenue avec la fonction `gamma_liste` donnée ci-dessus.\n",
    "\n",
    "Plus précisément, l'algorithme est le suivant. Pour un message `message` en entrée :\n",
    "1. Calculer `(b, rle)` le codage RLE de `message`.\n",
    "2. Notons $n_1, \\dots, n_k$ les entiers présents dans la liste `rle`. Créer la liste `L` des codages gamma des entiers $[n_1 - 1, \\dots, n_k-1]$.\n",
    "3. Retourner la concaténation de `[b]` avec la liste `L`.\n",
    "\n",
    "**Question 10.** Écrire une fonction `RLE_gamma(message)` qui retourne la représentation du codage RLE de `message` sous forme de liste de bits.\n",
    "\n",
    "*Voici quelques valeurs de tests si besoin :*\n",
    "\n",
    "message | encodage\n",
    ":---: | :---:\n",
    "`[0, 0, 0, 0]` | `[0, 0, 0, 1, 1, 1]`\n",
    "`[1]*100` | `[1, 0, 0, 0, 0, 0, 0, 0, 1, 1, 1, 0, 0, 0, 1, 1]` \n",
    "`[0, 1]*5` | `[0, 0, 1, 0, 0, 1, 0, 0, 1, 0, 0, 1, 0, 0, 1, 0, 0, 1, 0, 0, 1, 0, 0, 1, 0, 0, 1, 0, 0, 1, 0]` \n",
    "`diagonal(3)` | `[1, 0, 1, 0, 0, 0, 1, 0, 1, 0, 1, 0, 0, 0, 1, 0, 1, 0, 1, 0]` \n"
   ]
  },
  {
   "cell_type": "code",
   "execution_count": 16,
   "metadata": {},
   "outputs": [
    {
     "name": "stdout",
     "output_type": "stream",
     "text": [
      "[0, 0, 0, 1, 1, 1]\n",
      "[1, 0, 0, 0, 0, 0, 0, 0, 1, 1, 1, 0, 0, 0, 1, 1]\n",
      "[0, 0, 1, 0, 0, 1, 0, 0, 1, 0, 0, 1, 0, 0, 1, 0, 0, 1, 0, 0, 1, 0, 0, 1, 0, 0, 1, 0, 0, 1, 0]\n",
      "[1, 0, 1, 0, 0, 0, 1, 0, 1, 0, 1, 0, 0, 0, 1, 0, 1, 0, 1, 0]\n"
     ]
    }
   ],
   "source": [
    "def RLE_gamma(message):\n",
    "    # Calculer le codage RLE du message\n",
    "    rle_result = RLE(message)\n",
    "\n",
    "    if rle_result is None:\n",
    "        return None\n",
    "\n",
    "    # Extraire le premier bit et la liste rle\n",
    "    b, rle = rle_result\n",
    "\n",
    "    # Créer la liste L des codages gamma des entiers [n_1 - 1, ..., n_k - 1]\n",
    "    L = gamma_liste([n - 1 for n in rle])\n",
    "\n",
    "    # Retourner la concaténation de [b] avec la liste L\n",
    "    return [b] + L\n",
    "\n",
    "# Exemples d'utilisation\n",
    "print(RLE_gamma([0,0,0,0]))\n",
    "print(RLE_gamma([1] * 100))\n",
    "print(RLE_gamma([0, 1] * 5))\n",
    "print(RLE_gamma(diagonal(3)))\n"
   ]
  },
  {
   "cell_type": "markdown",
   "metadata": {},
   "source": [
    "**Question 11.** Écrire `inverse_RLE_gamma(L)`, la fonction inverse de la fonction demandée à la question précédente."
   ]
  },
  {
   "cell_type": "code",
   "execution_count": null,
   "metadata": {},
   "outputs": [],
   "source": []
  },
  {
   "cell_type": "markdown",
   "metadata": {},
   "source": [
    "Dorénavant, comme l'encodage est représenté comme une liste de bits, la taille de l'encodage est la longueur de la liste. On appelle **facteur de compression** le ratio entre la taille du message encodé et la taille du message originel.\n",
    "\n",
    "Une image carrée de côté $h$ a taille $h^2$. Si l'on considère le codage `RLE_gamma` des images complètement noires, les tailles et les facteurs de compression de ces images sont les suivants :\n",
    "\n",
    "Coté $h$ | Taille de l'image originale | Taille de l'image compressée | Facteur de compression\n",
    " :---: | :---: | :---: | :---:\n",
    " 10 | 100 | 16 | 0.16\n",
    " 20 | 400 | 20 | 0.050\n",
    " 50 | 2500 | 26 | 0.0104\n",
    " 100 | 10000 | 30 | 0.0030\n",
    " 1000 | 1000000 | 42 | 0.000042\n"
   ]
  },
  {
   "cell_type": "markdown",
   "metadata": {},
   "source": [
    "**Question 12.** Calculer les facteurs de compression des images \"diagonales\", pour les mêmes valeurs de $h$ que le tableau précédent. Parmi ces valeurs de $h$, lesquelles donnent une \"bonne\" compression ?"
   ]
  },
  {
   "cell_type": "code",
   "execution_count": 17,
   "metadata": {},
   "outputs": [
    {
     "name": "stdout",
     "output_type": "stream",
     "text": [
      "400\n",
      "270\n",
      "0.675\n",
      "\n",
      "2500\n",
      "788\n",
      "0.3152\n",
      "\n",
      "10000\n",
      "1786\n",
      "0.1786\n",
      "\n",
      "1000000\n",
      "23980\n",
      "0.02398\n"
     ]
    }
   ],
   "source": [
    "k2=len(diagonal(20))\n",
    "l2=len(RLE_gamma(diagonal(20)))\n",
    "print(k2)\n",
    "print(l2)\n",
    "print(l2/k2)\n",
    "print()\n",
    "k3=len(diagonal(50))\n",
    "l3=len(RLE_gamma(diagonal(50)))\n",
    "print(k3)\n",
    "print(l3)\n",
    "print(l3/k3)\n",
    "print()\n",
    "k4=len(diagonal(100))\n",
    "l4=len(RLE_gamma(diagonal(100)))\n",
    "print(k4)\n",
    "print(l4)\n",
    "print(l4/k4)\n",
    "print()\n",
    "k5=len(diagonal(1000))\n",
    "l5=len(RLE_gamma(diagonal(1000)))\n",
    "print(k5)\n",
    "print(l5)\n",
    "print(l5/k5)\n",
    "#On voit que le ratio devient de plus en plus petit donc les compressions sont bonnes"
   ]
  },
  {
   "cell_type": "markdown",
   "metadata": {},
   "source": [
    "La fonction suivante permet de créer un damier (succession de pixels blanc et noirs) de taille arbitraire"
   ]
  },
  {
   "cell_type": "code",
   "execution_count": 18,
   "metadata": {},
   "outputs": [],
   "source": [
    "def damier(h):\n",
    "    return [0 if (i+(i//h)) % 2 == 0 else 1 for i in range(h**2) ]"
   ]
  },
  {
   "cell_type": "markdown",
   "metadata": {},
   "source": [
    "**Question 13.** Reprendre la question précédente avec des damier de taille $h$. La compression est-elle toujours bonne ? Interpréter."
   ]
  },
  {
   "cell_type": "code",
   "execution_count": 19,
   "metadata": {},
   "outputs": [
    {
     "name": "stdout",
     "output_type": "stream",
     "text": [
      "400\n",
      "1144\n",
      "2.86\n",
      "\n",
      "10000\n",
      "29704\n",
      "2.9704\n",
      "\n",
      "1000000\n",
      "2997004\n",
      "2.997004\n"
     ]
    }
   ],
   "source": [
    "l2=len(RLE_gamma(damier(20)))\n",
    "k2=len(damier(20))\n",
    "print(k2)\n",
    "print(l2)\n",
    "print(l2/k2)\n",
    "print()\n",
    "l4=len(RLE_gamma(damier(100)))\n",
    "k4=len(damier(100))\n",
    "print(k4)\n",
    "print(l4)\n",
    "print(l4/k4)\n",
    "print()\n",
    "k5=len(damier(1000))\n",
    "l5=len(RLE_gamma(damier(1000)))\n",
    "print(k5)\n",
    "print(l5)\n",
    "print(l5/k5)\n",
    "#Ici on voit justement l'inverse plus le côté h devient grand et plus la compression devient mauvaise."
   ]
  },
  {
   "cell_type": "markdown",
   "metadata": {},
   "source": [
    "## Partie 4 : transformée de Burrows-Wheeler"
   ]
  },
  {
   "cell_type": "markdown",
   "metadata": {},
   "source": [
    "La transfomée de Burrows--Wheeler va nous permettre de régler le problème de la compressin du damier, apparu dans la partie précédente. On rappelle ci-dessous les différents algorithmes (vus en cours) pour opérer cette transformée.\n",
    "\n",
    "\n",
    "#### Algorithme de rotation `rotate(L, i)`\n",
    "- **Entrée :** une liste de bits $L$ de longueur $n$, et un entier `i` compris entre $0$ et $n-1$\n",
    "- **Sortie :** la liste des éléments de `L`, permutée de manière cyclique de $i$ rangs vers la droite\n",
    "1. Stocker dans `A` la liste des `i` derniers bits de `L`\n",
    "2. Stocker dans `B` le reste de la liste `L`\n",
    "3. Retourner la concaténation de `A` et de `B` (dans cet ordre)\n",
    "\n",
    "\n",
    "#### Transformée de Burrows-Wheeler `BW(L)`\n",
    "- **Entrée :** une liste de bits `L` de longueur $n$\n",
    "- **Sortie :** un entier `pos` et une liste de bits `R`  de même longueur $n$\n",
    "1. Stocker dans un tableau `Tab` la liste de toutes les rotations de `L`, en commençant par la rotation d'ordre $i = 0$, et en terminant par celle d'indice $i = n - 1$\n",
    "2. Trier `Tab`\n",
    "3. Retrouver l'indice de la liste `L` dans `Tab`, et le stocker dans `pos`\n",
    "4. Stocker dans `R` la liste des derniers bits de toutes les listes de `Tab`\n",
    "5. Retourner `pos` et `R`\n",
    "\n",
    "\n",
    "#### Transformée inverse de Burrows-Wheeler\n",
    "- **Entrée :** un entier `pos` et une liste de bits `L`  de même longueur $n$\n",
    "- **Sortie :** une liste de bits `R` de longueur $n$\n",
    "1. Initialiser un tableau `Tab` de $n$ listes vides\n",
    "2. Itérer $n$ fois :\n",
    "    1. Pour tout $i \\in \\{0, \\dots, n-1 \\}$ :\n",
    "        - Ajouter l'élément `R[i]` au début de la liste `Tab[i]`\n",
    "    2. Trier `Tab`\n",
    "3. Retourner `Tab[pos]`"
   ]
  },
  {
   "cell_type": "markdown",
   "metadata": {},
   "source": [
    "**Question 14.** Écrire la fonction de rotation `rotate(L, i)`."
   ]
  },
  {
   "cell_type": "code",
   "execution_count": 34,
   "metadata": {},
   "outputs": [
    {
     "data": {
      "text/plain": [
       "[1, 0, 1, 0, 0]"
      ]
     },
     "execution_count": 34,
     "metadata": {},
     "output_type": "execute_result"
    }
   ],
   "source": [
    "def rotate(L, i):\n",
    "    # Fonction pour effectuer une rotation circulaire à gauche sur la liste L\n",
    "    n = len(L)\n",
    "\n",
    "    # Vérifier si i est en dehors de la plage valide\n",
    "    if i > n - 1 or i < 0:\n",
    "        return print(\"Entrer un numéro compris entre 0 et la longueur de la liste\")\n",
    "\n",
    "    # Effectuer la rotation circulaire\n",
    "    A = L[n - i:]  # Partie droite de la liste après la rotation\n",
    "    B = L[:n - i]  # Partie gauche de la liste après la rotation\n",
    "\n",
    "    return A + B\n",
    "\n",
    "rotate([1,0,0,1,0],2)"
   ]
  },
  {
   "cell_type": "markdown",
   "metadata": {},
   "source": [
    "**Question 15.** Écrire une fonction `BW(L)` qui retourne la transformée de Burrows-Wheeler de `L` sous la forme d'un couple `(pos, R)`, où `pos` est un entier et `R` une liste de bits.\n",
    "\n",
    "*Indication : pour trier une liste `X`, on peut utiliser la méthode `X.sort()`*"
   ]
  },
  {
   "cell_type": "code",
   "execution_count": 21,
   "metadata": {},
   "outputs": [
    {
     "name": "stdout",
     "output_type": "stream",
     "text": [
      "L = [1, 0, 0, 1, 0]\n"
     ]
    },
    {
     "data": {
      "text/plain": [
       "([1, 1, 0, 0, 0], 3)"
      ]
     },
     "execution_count": 21,
     "metadata": {},
     "output_type": "execute_result"
    }
   ],
   "source": [
    "\n",
    "def BW(L):\n",
    "    # Fonction pour effectuer la transformation de Burrows-Wheeler sur la liste L\n",
    "\n",
    "    # Initialisation des variables\n",
    "    n = len(L)\n",
    "    R = []         # Liste  après la transformation\n",
    "    pos_list = []  # Liste pour stocker les positions où L est égale à Tab[i]\n",
    "    Tab = []       # Liste pour stocker toutes les rotations de L\n",
    "\n",
    "    print(\"L =\", L)\n",
    "\n",
    "    # Générer toutes les rotations possibles de L\n",
    "    for i in range(0, n):\n",
    "        a = rotate(L, i)\n",
    "        Tab.append(a)\n",
    "\n",
    "    # Trier les rotations\n",
    "    Tab.sort()\n",
    "\n",
    "    # Extraire le dernier éléments de chaque rotation\n",
    "    for i in range(0, len(Tab)):\n",
    "        sous_list = Tab[i]\n",
    "        R.append(sous_list[-1])\n",
    "        \n",
    "        # Vérifier si L est égale à Tab[i] et enregistrer la position\n",
    "        if L == Tab[i]:\n",
    "            pos_list.append(i)\n",
    "    \n",
    "    pos = pos_list[0]  # Prendre la première position (peut y en avoir plusieurs, mais prenons la première)\n",
    "\n",
    "    return R, pos\n",
    "\n",
    "L = [1,0,0,1,0] #exemple vu avec vous\n",
    "BW(L)\n",
    "\n"
   ]
  },
  {
   "cell_type": "markdown",
   "metadata": {},
   "source": [
    "**Question 16.** Écrire sa fonction inverse `inverse_BW(pos, L)`."
   ]
  },
  {
   "cell_type": "code",
   "execution_count": 35,
   "metadata": {},
   "outputs": [
    {
     "data": {
      "text/plain": [
       "[1, 0, 0, 1, 0]"
      ]
     },
     "execution_count": 35,
     "metadata": {},
     "output_type": "execute_result"
    }
   ],
   "source": [
    "def IBW(R, pos):\n",
    "    n=len(R)\n",
    "    Tab_final = []\n",
    "    a = sorted(R)\n",
    "    #on crée une liste où on ajoute R à Rtrié, puis on trie cette liste\n",
    "    for i in range(1, n):\n",
    "        Tab = [] #on ré initialise tab à chaque itération\n",
    "        #on ajoute R(=b) à Rtrié(=a), et on trie par ordre croissant la concaténation de cette nouvelle liste\n",
    "        for j in range(0, n):\n",
    "            list = []\n",
    "            list.append(R[j])#R est la dernière colonne, on l'ajoute à chaque fois au début de notre liste triée\n",
    "            #lorsque a possède des sous liste(=lorsqu'on a fait plus de 2 itérations) on doit parcourir les sous_list\n",
    "            if i>=2:\n",
    "                sous_list = a[j]\n",
    "                for z in range(0, len(sous_list)):\n",
    "                    list.append(sous_list[z])\n",
    "            else:\n",
    "                list.append(a[j])\n",
    "            Tab.append(list) #Tab récupère la list a à laquel on ajoute R la dernière colonne\n",
    "        #A chaquer fois on trie pour avoir le bon ordre\n",
    "        Tab.sort()\n",
    "        a = Tab #a devient la nouvelle liste triée sur laquelle on va travailler\n",
    "        Tab_final = Tab\n",
    "            \n",
    "    return Tab_final[pos]\n",
    "\n",
    "IBW([1, 1, 0, 0, 0],3)"
   ]
  },
  {
   "cell_type": "markdown",
   "metadata": {},
   "source": [
    "Pour encoder un message `message`, l'idée est maintenant d'appliquer le codage RLE sur la transformée de Burrows-Wheeler de `message`. Si l'on note `(pos, L)` la valeur de retour de cette transformée, l'encodage final sera donc la concaténation du code gamma de `pos` et du code `RLE_gamma` de la liste `bw`. \n",
    "\n",
    "**Question 17.** Écrire les fonctions `BW_RLE(message)` et `inverse_BW_RLE(L)` qui effectuent respectivement cet \"encodage final\" et le décodage associé."
   ]
  },
  {
   "cell_type": "code",
   "execution_count": 32,
   "metadata": {},
   "outputs": [
    {
     "name": "stdout",
     "output_type": "stream",
     "text": [
      "L = [1, 0, 0, 1, 0]\n",
      "Résultat de la transformation BW_RLE : [0, 0, 1, 1, 1, 1, 0, 1, 1, 0, 0, 1, 0, 1]\n"
     ]
    }
   ],
   "source": [
    "def BW_RLE(L):\n",
    "    # Appeler la fonction BW pour obtenir les résultats R et pos\n",
    "    R, pos = BW(L)\n",
    "\n",
    "    # Appliquer la transformation gamma sur la position\n",
    "    gamma_representation = gamma(pos)\n",
    "\n",
    "    # Appliquer la compression RLE sur la liste R\n",
    "    rle = RLE_gamma(R)\n",
    "\n",
    "    # Retourner la concaténation des résultats\n",
    "    return gamma_representation + rle\n",
    "result = BW_RLE([1, 0, 0, 1, 0])\n",
    "print(\"Résultat de la transformation BW_RLE :\", result)\n",
    "\n"
   ]
  },
  {
   "cell_type": "markdown",
   "metadata": {},
   "source": [
    "**Question 18.** Tester les fonctions de la question précédente, puis, calculer les facteurs de compression des damiers (on prendra des valeurs de $h$ beaucoup plus petites pour des raisons de temps de calcul : $h \\in \\{ 10, 20, 30, 40, 50 \\}$ par exemple). "
   ]
  },
  {
   "cell_type": "code",
   "execution_count": null,
   "metadata": {},
   "outputs": [],
   "source": []
  },
  {
   "cell_type": "markdown",
   "metadata": {},
   "source": [
    "##### "
   ]
  }
 ],
 "metadata": {
  "kernelspec": {
   "display_name": "Python 3",
   "language": "python",
   "name": "python3"
  },
  "language_info": {
   "codemirror_mode": {
    "name": "ipython",
    "version": 3
   },
   "file_extension": ".py",
   "mimetype": "text/x-python",
   "name": "python",
   "nbconvert_exporter": "python",
   "pygments_lexer": "ipython3",
   "version": "3.7.3"
  }
 },
 "nbformat": 4,
 "nbformat_minor": 5
}
