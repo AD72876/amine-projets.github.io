{
 "cells": [
  {
   "cell_type": "code",
   "execution_count": 2,
   "id": "536aa6f0",
   "metadata": {},
   "outputs": [],
   "source": [
    "from random import *\n",
    "from Crypto.Util.number import getPrime, isPrime\n",
    "from math import gcd\n",
    "from math import log2\n",
    "import math\n",
    "from sympy import li, log"
   ]
  },
  {
   "cell_type": "code",
   "execution_count": 3,
   "id": "332c23e5",
   "metadata": {},
   "outputs": [
    {
     "name": "stdout",
     "output_type": "stream",
     "text": [
      "TailleDateNaissance=int(log2(MaDateNaissance)//1)+1 ça je l'ai remplacer par la fonction math.ceil qui prend la partie entière inferieur \n",
      " de log2 de ma date de naissance +1\n"
     ]
    }
   ],
   "source": [
    "MaDateNaissance=26082000\n",
    "print(\"TailleDateNaissance=int(log2(MaDateNaissance)//1)+1 ça je l'ai remplacer par la fonction math.ceil qui prend la partie entière inferieur \\n de log2 de ma date de naissance +1\")"
   ]
  },
  {
   "cell_type": "markdown",
   "id": "6431395b",
   "metadata": {},
   "source": [
    "## PARTIE A : SIGNATURE RSA\n",
    "\n",
    "### Question 1 : \n",
    "\n",
    "Déterminer les deux nombres premiers de Blum p et q les plus proches (au dessus et au dessous) de votre date de naissance écrite sur huit chiffres décimaux (jour, mois et année). On pose n=pq\n"
   ]
  },
  {
   "cell_type": "code",
   "execution_count": 4,
   "id": "3e77dfe2",
   "metadata": {},
   "outputs": [],
   "source": [
    "def NombreBlumInferieur3(MaDateNaissance):\n",
    "    L=0\n",
    "    s=0\n",
    "    i=MaDateNaissance\n",
    "    while s!=1 :\n",
    "        if i%4==3 and isPrime(i)==True :\n",
    "            L=i\n",
    "            i=i-1\n",
    "            s=s+1\n",
    "\n",
    "            \n",
    "        else:\n",
    "            i=i-1\n",
    "            #print(i)\n",
    "    return [L,MaDateNaissance-L]\n"
   ]
  },
  {
   "cell_type": "code",
   "execution_count": 5,
   "id": "d1ed9cb2",
   "metadata": {},
   "outputs": [
    {
     "name": "stdout",
     "output_type": "stream",
     "text": [
      "Voici le nombre de blum inferieur le plus proche de ma date de naissance et le deuxieme element de la liste est ce qu'il y'a comme difference\n"
     ]
    },
    {
     "data": {
      "text/plain": [
       "[26081987, 13]"
      ]
     },
     "execution_count": 5,
     "metadata": {},
     "output_type": "execute_result"
    }
   ],
   "source": [
    "\n",
    "print(\"Voici le nombre de blum inferieur le plus proche de ma date de naissance et le deuxieme element de la liste est ce qu'il y'a comme difference\")\n",
    "NombreBlumInferieur3(MaDateNaissance)\n"
   ]
  },
  {
   "cell_type": "code",
   "execution_count": 6,
   "id": "33384e85",
   "metadata": {},
   "outputs": [],
   "source": [
    "def NombreBlumSuperieur3(MaDateNaissance):\n",
    "    L=[]\n",
    "    i=MaDateNaissance\n",
    "    s=0\n",
    "    while s!=1 :\n",
    "        if i%4==3 and isPrime(i)==True:\n",
    "            L=i\n",
    "            i=i+1\n",
    "            s=s+1\n",
    "        else :\n",
    "            i=i+1\n",
    "    return [L,L-MaDateNaissance]\n",
    "\n",
    "\n"
   ]
  },
  {
   "cell_type": "code",
   "execution_count": 7,
   "id": "81f211c8",
   "metadata": {},
   "outputs": [
    {
     "name": "stdout",
     "output_type": "stream",
     "text": [
      "Voici le nombre de blum superieur a ma date de naissance qui est le plus proche et le deuxieme element de la liste est la differnece\n"
     ]
    },
    {
     "data": {
      "text/plain": [
       "[26082019, 19]"
      ]
     },
     "execution_count": 7,
     "metadata": {},
     "output_type": "execute_result"
    }
   ],
   "source": [
    "print(\"Voici le nombre de blum superieur a ma date de naissance qui est le plus proche et le deuxieme element de la liste est la differnece\")\n",
    "NombreBlumSuperieur3(MaDateNaissance)\n"
   ]
  },
  {
   "cell_type": "code",
   "execution_count": 8,
   "id": "7190b272",
   "metadata": {},
   "outputs": [],
   "source": [
    "p=NombreBlumInferieur3(MaDateNaissance)[0]\n",
    "q=NombreBlumSuperieur3(MaDateNaissance)[0]\n",
    "n=p*q"
   ]
  },
  {
   "cell_type": "code",
   "execution_count": 9,
   "id": "e0573a17",
   "metadata": {},
   "outputs": [
    {
     "name": "stdout",
     "output_type": "stream",
     "text": [
      "p et q sont probablement les nombres plus proches \n"
     ]
    }
   ],
   "source": [
    "def procedure_test_Blum(MaDateNaissance):   # J'ai fait une procèdure de test pour m'assurer que tout était bon\n",
    "    p,q=NombreBlumInferieur3(MaDateNaissance)[0],NombreBlumSuperieur3(MaDateNaissance)[0]\n",
    "    if isPrime(p) and p%4==3 and MaDateNaissance-p<50 and MaDateNaissance-q<50:\n",
    "            return print(\"p et q sont probablement les nombres plus proches \")\n",
    "    else :\n",
    "        return print(\"p et q ne satisfont pas les equations\")\n",
    "    \n",
    "procedure_test_Blum(MaDateNaissance)"
   ]
  },
  {
   "cell_type": "markdown",
   "id": "d1164179",
   "metadata": {},
   "source": [
    " *Déterminer le plus petit entier e premier à phi_N*\n"
   ]
  },
  {
   "cell_type": "code",
   "execution_count": 10,
   "id": "024b50c0",
   "metadata": {},
   "outputs": [],
   "source": [
    "def plusPetitEntier(p, q):\n",
    "    compteur_p = 0\n",
    "    compteur_q = 0\n",
    "    for i in range(2, p):#Debut: test pour savoir si p et q sont premiers\n",
    "        if p % i == 0:\n",
    "            compteur_p += 1\n",
    "    for i in range(2, q):\n",
    "        if q % i == 0:\n",
    "            compteur_q += 1  #Fin : test pour savoir si p et q sont premiers\n",
    "    if compteur_p != 0 or compteur_q != 0:\n",
    "        return print(\"Veuillez rentrer p et q premiers\") #On retourne un message d'erreur si p et q ne sont pas premiers \n",
    "    else :\n",
    "        phi_n = (p - 1) * (q - 1)\n",
    "        e = 2 \n",
    "        for e in range(2, phi_n):\n",
    "            if gcd(phi_n, e)== 1:\n",
    "                break\n",
    "        #print(xgcd(phi_n, e)[0])\n",
    "        return e"
   ]
  },
  {
   "cell_type": "code",
   "execution_count": 11,
   "id": "4229cec3",
   "metadata": {},
   "outputs": [
    {
     "name": "stdout",
     "output_type": "stream",
     "text": [
      "5\n"
     ]
    }
   ],
   "source": [
    "e=plusPetitEntier(p,q)\n",
    "print(e)"
   ]
  },
  {
   "cell_type": "code",
   "execution_count": 12,
   "id": "09b3ee1e",
   "metadata": {},
   "outputs": [
    {
     "name": "stdout",
     "output_type": "stream",
     "text": [
      "[1, -11, 6]\n"
     ]
    },
    {
     "data": {
      "text/plain": [
       "90"
      ]
     },
     "execution_count": 12,
     "metadata": {},
     "output_type": "execute_result"
    }
   ],
   "source": [
    "def xgcd(a,b): #C'est une fonction que j'ai fait moi même pour un autre dm qui trouve les coeff de bezout avec THM Euclide etendu\n",
    "  x,y=1,0\n",
    "  u,v=0,1\n",
    "  while b != 0:\n",
    "   q,r=a//b,a%b\n",
    "   m,n=x-u*q,y-v*q #On fait l'opération L1-q*L2 (1)\n",
    "   a,b=b,r #On fait un décalage car la technique le veut. Le quotient devant le numérateur et le reste devient le quotient \n",
    "   x,y=u,v #Maintenant comme on fait L2-L3 les coefficients ne sont plus les mêmes pour la ligne de calcul(1), \n",
    "   u,v=m,n #donc on va echanger.\n",
    "  reste=a\n",
    "  return [reste,x,y] #a est le reste b \n",
    "\n",
    "print(xgcd(55,101))\n",
    "pow(55,-1,101)\n"
   ]
  },
  {
   "cell_type": "markdown",
   "id": "2f5d0779",
   "metadata": {},
   "source": [
    "### Question 1.b :\n",
    "\n",
    "*l'entier d tel que de congru à 1 mod phi_n*"
   ]
  },
  {
   "cell_type": "code",
   "execution_count": 13,
   "id": "df5fd4ec",
   "metadata": {},
   "outputs": [
    {
     "name": "stdout",
     "output_type": "stream",
     "text": [
      "-272108331331099\n",
      "Il est negatif donc on va le faire mod phi_n pour le rendre positif\n"
     ]
    }
   ],
   "source": [
    "def Trouver_d(e,p,q):\n",
    "    phi_n = (p - 1) * (q - 1)\n",
    "    d=xgcd(e,phi_n)[1]\n",
    "    return d\n",
    "\n",
    "print(Trouver_d(e,p,q))\n",
    "print(\"Il est negatif donc on va le faire mod phi_n pour le rendre positif\")"
   ]
  },
  {
   "cell_type": "code",
   "execution_count": 14,
   "id": "731396c4",
   "metadata": {},
   "outputs": [
    {
     "name": "stdout",
     "output_type": "stream",
     "text": [
      "408162496996649\n",
      "-3\n"
     ]
    }
   ],
   "source": [
    "#Partie initialisation des variables ( sauf p et q ils sont defini plus haut)\n",
    "phi_n = (p - 1) * (q - 1)\n",
    "e=plusPetitEntier(p,q)\n",
    "d=Trouver_d(e,p,q)\n",
    "d_bis=d%phi_n\n",
    "v=xgcd(phi_n,e)[1]\n",
    "v_bis=v%-e\n",
    "n=p*q\n",
    "print(d_bis)\n",
    "print(v_bis)"
   ]
  },
  {
   "cell_type": "code",
   "execution_count": 15,
   "id": "b848d40d",
   "metadata": {},
   "outputs": [
    {
     "name": "stdout",
     "output_type": "stream",
     "text": [
      "1\n",
      "1\n"
     ]
    }
   ],
   "source": [
    "print(phi_n*v_bis+e*d_bis) #ça fait bien 1 donc on a reussi le trouver bon inverse qui est d, qui est donc la clé privée. Theoreme de bezout dit que le résultat de cette somme est le pgcd car p et q sont premiers.\n",
    "print(phi_n*v+e*d)\n"
   ]
  },
  {
   "cell_type": "markdown",
   "id": "001a4339",
   "metadata": {},
   "source": [
    "### Question 1.c \n",
    "* Signer votre nom puis vérifier la signature (On découpera l'empreinte numérique en sous blocs le cas échéant).*"
   ]
  },
  {
   "cell_type": "code",
   "execution_count": 16,
   "id": "1ebb013a",
   "metadata": {},
   "outputs": [],
   "source": [
    "import hashlib\n",
    "\n",
    "def signature(m, d, n):\n",
    "    hashed_m=hashlib.sha256(b\"DARWISH\").hexdigest()\n",
    "    h=int(hashed_m,16)\n",
    "    s=pow(h,d,n)\n",
    "    return s,h\n",
    "\n",
    "\n",
    "def verifSignature(m,s,e,n):\n",
    "    h_m_prim=pow(s,e,n)\n",
    "    print(h_m_prim)\n",
    "\n",
    "\n",
    "    h=hashlib.sha256(b\"DARWISH\").hexdigest()\n",
    "\n",
    "    h=int(h,16)\n",
    "    h=h%n\n",
    "    print(h)\n",
    "    if h==h_m_prim :\n",
    "        print(\"1\")\n",
    "    else :\n",
    "        print(\"2\")\n",
    "\n",
    "\n",
    "\n",
    "\n"
   ]
  },
  {
   "cell_type": "code",
   "execution_count": 17,
   "id": "f5fc51de",
   "metadata": {},
   "outputs": [
    {
     "name": "stdout",
     "output_type": "stream",
     "text": [
      "570777031519624\n",
      "570777031519624\n",
      "1\n"
     ]
    }
   ],
   "source": [
    "\n",
    "DARWISH1=\"DARWISH\"\n",
    "s=signature(DARWISH1,d_bis,n)[0]\n",
    "#print(s)\n",
    "\n",
    "verifSignature(DARWISH1,s,e,n)"
   ]
  },
  {
   "cell_type": "markdown",
   "metadata": {},
   "source": [
    "## Partie B : CHIFFREMENT DE RABIN\n"
   ]
  },
  {
   "cell_type": "markdown",
   "metadata": {},
   "source": [
    "### Question:\n",
    "Justifier la sécurité du chiffrement de Rabin\n",
    "\n",
    "### REPONSE :  \n",
    "Securisé car il repose sur le problème de factorisation d'un entier en nombre premier qui est un problème difficile. Il est donc impossible de creer un systeme d'equation modulaire avec p et q. Impossible donc pour trouver les racines carrés ou se trouve le message initial. De plus il est difficle de trouver une racine carré modulo n."
   ]
  },
  {
   "cell_type": "code",
   "execution_count": null,
   "id": "a8d7c3f7",
   "metadata": {},
   "outputs": [],
   "source": []
  },
  {
   "cell_type": "markdown",
   "metadata": {},
   "source": [
    " ### Question :\n",
    " \n",
    " Chiffrer votre nom avec le chiffre de Rabin*\n",
    "\n",
    " ### Reponse :\n",
    " Chiffrement de mon nom avec le chiffre de Rabin : DARWISH =03001722081807, après je peux l'elever a la puissance au carré mod n si c'est ce que vous voulez dire : comme je le fais en dessous"
   ]
  },
  {
   "cell_type": "markdown",
   "id": "3fa407b7",
   "metadata": {},
   "source": [
    "### Dernière question :"
   ]
  },
  {
   "cell_type": "code",
   "execution_count": 18,
   "id": "65a44767",
   "metadata": {},
   "outputs": [
    {
     "name": "stdout",
     "output_type": "stream",
     "text": [
      "Le message crypter est : 343392226789388\n"
     ]
    }
   ],
   "source": [
    "DARWISH =3001722081807 #D=03, A=00, R=17,W=22; I=08, S=18, H=07\n",
    "def keygen_rabin(n,p,q):   # On genere les clés\n",
    "   u,v=xgcd(p,q)[1],xgcd(p,q)[2] #Je lance ma fonction qui calcule les coefficients de bezout de p et q.\n",
    "   return [n,p,q,u,v]\n",
    "\n",
    "ClePublique,CleSecrete=keygen_rabin(n,p,q)[0],keygen_rabin(n,p,q) # =n et clesecrete\n",
    "\n",
    "\n",
    "def encrypt_rabin_1(plaintext, pk):  #n=pk clé publique et plainText message clair\n",
    "      c=pow(plaintext,2,pk)\n",
    "      return c\n",
    "\n",
    "Message_crypte=encrypt_rabin_1(DARWISH,ClePublique)\n",
    "print(\"Le message crypter est :\",Message_crypte)"
   ]
  },
  {
   "cell_type": "markdown",
   "id": "b716c37d",
   "metadata": {},
   "source": [
    "REPONSE: \n",
    "\n",
    "Explication comment déchiffrer : Soit x^2 mod n qu'on encodé. On sait grace au chiffre de blum que si on fait *x^p+1/2* revient a chercher le carré de x mod p (pareil pour q)car *p+1/2=2[mod 4]*. \n",
    "\n",
    "De plus on sait *x^((p+1)/2).x^(1/2)= x^((p+1)/4) =x*. \n",
    "Donc on sait trouver la racine mod p et mod q.Ce qui manque c'est de trouver la racine mod n\n",
    ". En faisant un systeme de theoreme de restes chinois x mod p et x mod q (square_roots) on arrive facilement a trouver la liste des 4 racines carrés en  et le message clair se trouve parmi eux. \n",
    "\n",
    "Après pour savoir quel racine est la bonne\n",
    "Si on fait un padding (ca veut dire rajouter des 0 au nombre binaire clair avant de le chiffrer ce qui revient a multplier par 2^padding) au dechiffrement on aura qu'a diviser par 2^padding les 4 possibiles messages clair après le decodage bien evidemment. Celui qui aura un reste nul sera le bon. (note =padding=Nombre de 0)\n",
    "\n",
    "#Si n=3 alors On a 2^2=4=1[3] et 4^2=16=1[3]"
   ]
  },
  {
   "cell_type": "markdown",
   "id": "01888492",
   "metadata": {},
   "source": [
    "*Donner une méthode pour déchiffrer utilisant les facteurs premiers p et q*"
   ]
  },
  {
   "cell_type": "code",
   "execution_count": 19,
   "id": "24751097",
   "metadata": {},
   "outputs": [
    {
     "data": {
      "text/plain": [
       "True"
      ]
     },
     "execution_count": 19,
     "metadata": {},
     "output_type": "execute_result"
    }
   ],
   "source": [
    "def square_roots(x, p, q, n, u, v): #Ca calcule les racines carrés\n",
    "    if p % 4 == 3 and q % 4 == 3:\n",
    "        RacineCarre1 = (p + 1) // 4  #=1\n",
    "        RacineCarre2 = (q + 1) // 4  #=1 Je sais pas si je devais quand même les ecrire ou pas \n",
    "        a = pow(x, RacineCarre1, p)\n",
    "        b = pow(x, RacineCarre2, q)\n",
    "        c1 = (a * v * q + b * u * p) % n # formule finale du thoereme des restes chinois. v= inverse modulaire de q modulo p et u inverse modulaire de p modulo q\n",
    "        c2 = (-a * v * q + b * u * p) % n #racine 2 \n",
    "        c3 = (a * v * q - b * u * p) % n #racine 3\n",
    "        c4 = (-a * v * q - b * u * p) % n #racine 4\n",
    "        return [c1, c2, c3, c4]\n",
    "    else:\n",
    "        print(\"Erreur: p et q ne sont pas congrus à 3 modulo 4.\")\n",
    "        return []  # Retourne une liste vide\n",
    "\n",
    "\n",
    "def ChiffrementNomPadding(m, pk, padding):\n",
    "      message_padding=m*pow(2,padding,pk)\n",
    "      c=encrypt_rabin_1(message_padding,pk)  # \n",
    "      return c \n",
    "\n",
    "\n",
    "def decrypt_rabin_1(ciphertext, sk):\n",
    "   p, q, u, v = sk[1:] #On fait ça pour mieux utiliser square_roots, \n",
    "   roots = square_roots(ciphertext, p, q, p * q, u, v)\n",
    "   if roots is not None:\n",
    "      return roots\n",
    "   else:\n",
    "      return print(\"Erreur: Impossible de trouver les racines carrées.\")\n",
    "   \n",
    "\n",
    "def decrypt_rabin2(c, sk, padding):\n",
    "    Liste_message_eventuel = decrypt_rabin_1(c, sk) \n",
    "    s=0\n",
    "    L=0\n",
    "    for i in range(0,len(Liste_message_eventuel)): #on parcourt notre Liste de message eventuel\n",
    "        if Liste_message_eventuel[i]%pow(2,padding)== 0: #On detecte la position de où se trouve celui qui est divisible par 2^padding car a l'encodage on avait mulitpler m par 2^padding donc il est divisible par ce nombre.\n",
    "            L=Liste_message_eventuel[i]//pow(2,padding) #On veut le quotient car comme on sait que c'est divisble on obtiendra  exactement m en divisant par 2^padding. m*2^padding=message_padding\n",
    "            s=s+1\n",
    "            break\n",
    "    return L\n",
    "    \"\"\"if s!=1:\n",
    "        return print(s)\n",
    "    else:\"\"\"\n",
    "\n",
    "\n",
    "def DechiffrementNom(DARWISH_chiffre_padding):\n",
    "    #padding=randint(0,100)\n",
    "    padding=3\n",
    "    MessageDecryptPadding=decrypt_rabin2(DARWISH_chiffre_padding,CleSecrete,padding)\n",
    "\n",
    "    NOM=MessageDecryptPadding\n",
    "    \n",
    "\n",
    "    return NOM==DARWISH\n",
    "\n",
    "\n",
    "DARWISH =3001722081807\n",
    "DARWISH_chiffre_padding=ChiffrementNomPadding(DARWISH,ClePublique,3) #RAPPEL ChiffremenNom= chiffrement Rabin avec du padding\n",
    "\n",
    "MessageDecryptPadding=DechiffrementNom(DARWISH_chiffre_padding)\n",
    "DechiffrementNom(DARWISH_chiffre_padding)\n",
    "#print(MessageDecryptPadding==DARWISH) #On a bien true "
   ]
  },
  {
   "cell_type": "code",
   "execution_count": null,
   "id": "c6a47598",
   "metadata": {},
   "outputs": [],
   "source": []
  },
  {
   "cell_type": "markdown",
   "metadata": {},
   "source": [
    "*Déterminer deux entiers x,y, x≠±ymodn tels que x2=y2modn.* \n",
    "\n",
    "Si on trouve un systeme d'equation tel que p+1/2=2 et q+1/2=2"
   ]
  },
  {
   "cell_type": "code",
   "execution_count": 20,
   "id": "b641d7d9",
   "metadata": {},
   "outputs": [
    {
     "name": "stdout",
     "output_type": "stream",
     "text": [
      " Version n,p,q quelconque : Ces deux nombres sont egaux a leurs carrés mod n  [2, 1010001]\n",
      "Le carre 144 et sa racine racine 510203179930317\n",
      "Le carre 144 et sa racine racine 680270880491741\n",
      "Le carre 144 et sa racine racine 12\n",
      "Le carre 144 et sa racine racine 170067700561436\n",
      "Les 4 racines au carré mod n valent bien  144  donc on peut prendre par exemple : 510203179930317 680270880491741\n"
     ]
    }
   ],
   "source": [
    "def deux_entier_meme_carre(n): #J'ai reussi a faire la fonction mais pour des nombres qu'on utilise en cryptographie qui sont très grand mon algo a une complexité expo. \n",
    "    x=1\n",
    "    y=x+1\n",
    "    while pow(x,2,n)!=pow(y,2,n) :\n",
    "        x=x+1\n",
    "        for i in range(x+1,n):\n",
    "            if pow(x,2,n)==pow(i,2,n):\n",
    "                #y=i\n",
    "                break\n",
    "        #if pow(x,2,n)!=pow(i,2,n):\n",
    "            \n",
    "            \"\"\"else:\n",
    "            for j in range(2,x):\n",
    "                if pow(x,2,n)==pow(j,2,n):\n",
    "                    y=j\n",
    "                    break\"\"\"\n",
    "    return [x,i]\n",
    "\n",
    "print(\" Version n,p,q quelconque : Ces deux nombres sont egaux a leurs carrés mod n \",deux_entier_meme_carre(1010003))\n",
    "\n",
    "CleSecrete2,=keygen_rabin(n,p,q),\n",
    "ClePublique2=CleSecrete2[0]\n",
    "#Par contre si on peut utiliser des p et q qui sont congru a 3 mod 4 on a juste a utiliser la fonction decryptRabin\n",
    "def procedure_verif_xy(carre,CleSecrete):\n",
    "    L=decrypt_rabin_1(carre,CleSecrete)\n",
    "    Lprim=[]\n",
    "    for i in range(0,len(L)):\n",
    "        Lprim.append(encrypt_rabin_1(L[i],CleSecrete[0])) #CleSecrete[0]=n dans notre fonction keygen_rabin\n",
    "        print(\"Le carre\",Lprim[i], \"et sa racine racine\",L[i])\n",
    "    \n",
    "    if all( y==carre  for y in Lprim):\n",
    "        return print(\"Les 4 racines au carré mod n valent bien \",carre,\" donc on peut prendre par exemple :\",L[0],L[1])\n",
    "    else :\n",
    "        return print(\"les racines mod n ne valent pas \",carre)\n",
    "    \n",
    "procedure_verif_xy(encrypt_rabin_1(12,ClePublique2),CleSecrete2)\n"
   ]
  },
  {
   "cell_type": "markdown",
   "metadata": {},
   "source": [
    "Partie BBS"
   ]
  },
  {
   "cell_type": "markdown",
   "metadata": {},
   "source": [
    " *Expliquer le prédicat difficile associé au chiffrement de Rabin.*\n",
    "\n",
    "\n",
    "REPONSE : Le prédicat difficile du chiffrement de Rabin est la fonction de résidus quadratiques de n en entiers premiers.Donc impossible de trouver les residu quadratiques mod n car ce problème est considère de complexité polynomiale si on a pas de p et q deux nombres premiers tel que n=p*q. \n",
    "\n",
    "Autrement dit si nos donnés sont (n,Nombre au carré mod n) \n",
    "et que notre problème est : retrouver la raciné carré mod n .\n",
    "\n",
    "Alors le problème est dans l'ensemble des problèmes difficile a resoudre.\n",
    "\n",
    "Dans un sens le probleme de la multilplication de nombres entiers est considéré facile mais le problème de la factorisation en nombre entiers est considéré difficile.\n"
   ]
  },
  {
   "cell_type": "markdown",
   "id": "8b3f0e89",
   "metadata": {},
   "source": [
    "FIN"
   ]
  },
  {
   "cell_type": "markdown",
   "id": "de29f1bc",
   "metadata": {},
   "source": []
  },
  {
   "cell_type": "markdown",
   "id": "c99775b2",
   "metadata": {},
   "source": [
    "BONUS"
   ]
  },
  {
   "cell_type": "code",
   "execution_count": 21,
   "id": "84f63b69",
   "metadata": {},
   "outputs": [],
   "source": [
    "#---------------------------------------------------------------------PARTIE BONUS-----------------------------------------------------------\n",
    "# J'ai trouvé 26081947 et la difference avec MaDateNaissance est 53 avec cette méhode \n",
    "#(autrement les codes que j'ai fais mais qui tourne lentement)"
   ]
  },
  {
   "cell_type": "code",
   "execution_count": 22,
   "id": "e80e52d7",
   "metadata": {},
   "outputs": [
    {
     "ename": "SyntaxError",
     "evalue": "EOF while scanning triple-quoted string literal (1358658215.py, line 7)",
     "output_type": "error",
     "traceback": [
      "\u001b[0;36m  Cell \u001b[0;32mIn[22], line 7\u001b[0;36m\u001b[0m\n\u001b[0;31m    print(\"Il y'a \",estimation_nombres_premiers(MaDateNaissance),\"nombre premier en dessous de ma date de Naissance\")\u001b[0m\n\u001b[0m                                                                                                                     \n^\u001b[0m\n\u001b[0;31mSyntaxError\u001b[0m\u001b[0;31m:\u001b[0m EOF while scanning triple-quoted string literal\n"
     ]
    }
   ],
   "source": [
    "\"\"\"def estimation_nombres_premiers(MaDateNaissance): #π(x) représente la fonction de compte des nombres premiers\n",
    "    li_x = li(MaDateNaissance)\n",
    "    ln_x = log(MaDateNaissance)\n",
    "    Fonction_pi_x = li_x / ln_x #estimation combien de nombre premier en dessous\n",
    "    return int(Fonction_pi_x)\n",
    "\n",
    "print(\"Il y'a \",estimation_nombres_premiers(MaDateNaissance),\"nombre premier en dessous de ma date de Naissance\")"
   ]
  },
  {
   "cell_type": "code",
   "execution_count": null,
   "id": "7098ba51",
   "metadata": {},
   "outputs": [],
   "source": [
    "\"\"\"def NombreBlumInferieur(MaDateNaissance):\n",
    "    L = []\n",
    "    TailleAnniversaire = math.ceil(math.log2(MaDateNaissance))\n",
    "    estimation_cardinal_nb_premier=estimation_nombres_premiers(MaDateNaissance)-estimation_nombres_premiers(MaDateNaissance-6000000)\n",
    "    #En fait ce que je veux faire c'est de prendre le cardinal de nb premier en dessous qui va de 2 à MaDateNaissance et le soustraire a un nombre pas si loin de ma date..\n",
    "    #.. de naissance. Je veux faire en sorte de faire une approximation du cardinal pas trop grosse pour faire que la boucle en dessous...\n",
    "    #...ne tourne pas infiniement (en cherchant en vain des nombres premiers 3mod 4 et de même taille) mais en même temps qu'elle parcourt 90% des nb premiers pour ne.\n",
    "    #...pas en manquer trop.  \n",
    "    p = MaDateNaissance + 1\n",
    "\n",
    "    while len(L)!=estimation_cardinal_nb_premier:\n",
    "        p = MaDateNaissance + 1\n",
    "        while p % 4 != 3 or MaDateNaissance - p <= 10:\n",
    "            p = getPrime(TailleAnniversaire)\n",
    "        L.append(p)\n",
    "\n",
    "    L2 = [p for p in L if MaDateNaissance - p < 1500]\n",
    "    liste_triee_decroissante = sorted(L2, reverse=True)\n",
    "\n",
    "    return [liste_triee_decroissante[:2],MaDateNaissance-liste_triee_decroissante[0]]\n",
    "\n",
    "a = NombreBlumInferieur(MaDateNaissance)\n",
    "print(a)\n",
    "\n",
    "# J'ai trouvé 26081947 et la difference avec MaDateNaissance est 53 avec cette méhode . \n",
    "\n",
    "print(isPrime(26081947) and 26081947%4==3) #Verif pour savoir si le nombre est congru a 3 mod 4 et est premier"
   ]
  },
  {
   "cell_type": "code",
   "execution_count": null,
   "id": "d1ac7725",
   "metadata": {},
   "outputs": [
    {
     "ename": "KeyboardInterrupt",
     "evalue": "",
     "output_type": "error",
     "traceback": [
      "\u001b[0;31m---------------------------------------------------------------------------\u001b[0m",
      "\u001b[0;31mKeyboardInterrupt\u001b[0m                         Traceback (most recent call last)",
      "Cell \u001b[0;32mIn[576], line 19\u001b[0m\n\u001b[1;32m     16\u001b[0m     Liste_ordre_croissant \u001b[38;5;241m=\u001b[39m \u001b[38;5;28msorted\u001b[39m(L2)\n\u001b[1;32m     17\u001b[0m     \u001b[38;5;28;01mreturn\u001b[39;00m [Liste_ordre_croissant[:\u001b[38;5;241m2\u001b[39m],Liste_ordre_croissant[\u001b[38;5;241m0\u001b[39m]\u001b[38;5;241m-\u001b[39mMaDateNaissance]\n\u001b[0;32m---> 19\u001b[0m \u001b[43mNombreBlumSuperieur\u001b[49m\u001b[43m(\u001b[49m\u001b[43mMaDateNaissance\u001b[49m\u001b[43m)\u001b[49m\n",
      "Cell \u001b[0;32mIn[576], line 11\u001b[0m, in \u001b[0;36mNombreBlumSuperieur\u001b[0;34m(MaDateNaissance)\u001b[0m\n\u001b[1;32m      9\u001b[0m p \u001b[38;5;241m=\u001b[39m MaDateNaissance \u001b[38;5;241m+\u001b[39m \u001b[38;5;241m1\u001b[39m\n\u001b[1;32m     10\u001b[0m \u001b[38;5;28;01mwhile\u001b[39;00m p \u001b[38;5;241m%\u001b[39m \u001b[38;5;241m4\u001b[39m \u001b[38;5;241m!=\u001b[39m \u001b[38;5;241m3\u001b[39m \u001b[38;5;129;01mor\u001b[39;00m p \u001b[38;5;241m-\u001b[39m MaDateNaissance \u001b[38;5;241m<\u001b[39m\u001b[38;5;241m0\u001b[39m:\n\u001b[0;32m---> 11\u001b[0m     p \u001b[38;5;241m=\u001b[39m \u001b[43mgetPrime\u001b[49m\u001b[43m(\u001b[49m\u001b[43mTailleAnniversaire\u001b[49m\u001b[43m)\u001b[49m\n\u001b[1;32m     12\u001b[0m L\u001b[38;5;241m.\u001b[39mappend(p)\n\u001b[1;32m     13\u001b[0m compteur \u001b[38;5;241m+\u001b[39m\u001b[38;5;241m=\u001b[39m \u001b[38;5;241m1\u001b[39m\n",
      "File \u001b[0;32m~/Library/Python/3.9/lib/python/site-packages/Crypto/Util/number.py:180\u001b[0m, in \u001b[0;36mgetPrime\u001b[0;34m(N, randfunc)\u001b[0m\n\u001b[1;32m    178\u001b[0m \u001b[38;5;28;01mwhile\u001b[39;00m \u001b[38;5;28;01mTrue\u001b[39;00m:\n\u001b[1;32m    179\u001b[0m     number \u001b[38;5;241m=\u001b[39m getRandomNBitInteger(N, randfunc) \u001b[38;5;241m|\u001b[39m \u001b[38;5;241m1\u001b[39m\n\u001b[0;32m--> 180\u001b[0m     \u001b[38;5;28;01mif\u001b[39;00m \u001b[43misPrime\u001b[49m\u001b[43m(\u001b[49m\u001b[43mnumber\u001b[49m\u001b[43m,\u001b[49m\u001b[43m \u001b[49m\u001b[43mrandfunc\u001b[49m\u001b[38;5;241;43m=\u001b[39;49m\u001b[43mrandfunc\u001b[49m\u001b[43m)\u001b[49m:\n\u001b[1;32m    181\u001b[0m         \u001b[38;5;28;01mbreak\u001b[39;00m\n\u001b[1;32m    182\u001b[0m \u001b[38;5;28;01mreturn\u001b[39;00m number\n",
      "File \u001b[0;32m~/Library/Python/3.9/lib/python/site-packages/Crypto/Util/number.py:395\u001b[0m, in \u001b[0;36misPrime\u001b[0;34m(N, false_positive_prob, randfunc)\u001b[0m\n\u001b[1;32m    393\u001b[0m     \u001b[38;5;28;01mif\u001b[39;00m N \u001b[38;5;241m==\u001b[39m p:\n\u001b[1;32m    394\u001b[0m         \u001b[38;5;28;01mreturn\u001b[39;00m \u001b[38;5;28;01mTrue\u001b[39;00m\n\u001b[0;32m--> 395\u001b[0m     \u001b[38;5;28;01mif\u001b[39;00m \u001b[43mN\u001b[49m\u001b[43m \u001b[49m\u001b[38;5;241;43m%\u001b[39;49m\u001b[43m \u001b[49m\u001b[43mp\u001b[49m \u001b[38;5;241m==\u001b[39m \u001b[38;5;241m0\u001b[39m:\n\u001b[1;32m    396\u001b[0m         \u001b[38;5;28;01mreturn\u001b[39;00m \u001b[38;5;28;01mFalse\u001b[39;00m\n\u001b[1;32m    398\u001b[0m rounds \u001b[38;5;241m=\u001b[39m \u001b[38;5;28mint\u001b[39m(math\u001b[38;5;241m.\u001b[39mceil(\u001b[38;5;241m-\u001b[39mmath\u001b[38;5;241m.\u001b[39mlog(false_positive_prob)\u001b[38;5;241m/\u001b[39mmath\u001b[38;5;241m.\u001b[39mlog(\u001b[38;5;241m4\u001b[39m)))\n",
      "\u001b[0;31mKeyboardInterrupt\u001b[0m: "
     ]
    }
   ],
   "source": [
    "\"\"\"def NombreBlumSuperieur(MaDateNaissance):\n",
    "    estimation_cardinal_nb_premier = estimation_nombres_premiers(MaDateNaissance + 2200000) - estimation_nombres_premiers(MaDateNaissance)\n",
    "    TailleAnniversaire = math.ceil(log2(MaDateNaissance))\n",
    "    p = MaDateNaissance + 1\n",
    "    L = []\n",
    "    compteur = 0\n",
    "\n",
    "    while compteur < estimation_cardinal_nb_premier:\n",
    "        p = MaDateNaissance + 1\n",
    "        while p % 4 != 3 or p - MaDateNaissance <0:\n",
    "            p = getPrime(TailleAnniversaire)\n",
    "        L.append(p)\n",
    "        compteur += 1\n",
    "\n",
    "    L2 = [p for p in L if p - MaDateNaissance < 100000]\n",
    "    Liste_ordre_croissant = sorted(L2)\n",
    "    return [Liste_ordre_croissant[:2],Liste_ordre_croissant[0]-MaDateNaissance]\n",
    "\n",
    "NombreBlumSuperieur(MaDateNaissance)"
   ]
  }
 ],
 "metadata": {
  "kernelspec": {
   "display_name": "Python 3",
   "language": "python",
   "name": "python3"
  },
  "language_info": {
   "codemirror_mode": {
    "name": "ipython",
    "version": 3
   },
   "file_extension": ".py",
   "mimetype": "text/x-python",
   "name": "python",
   "nbconvert_exporter": "python",
   "pygments_lexer": "ipython3",
   "version": "3.9.6"
  }
 },
 "nbformat": 4,
 "nbformat_minor": 5
}
