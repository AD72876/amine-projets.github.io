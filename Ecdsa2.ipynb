{
 "cells": [
  {
   "cell_type": "code",
   "execution_count": 1,
   "metadata": {},
   "outputs": [],
   "source": [
    "from random import *\n",
    "from Crypto.Util.number import getPrime, isPrime\n",
    "from math import gcd\n",
    "from math import log2\n",
    "#from Crypto.Hash import SHA3_256\n",
    "from hashlib import sha3_256\n",
    "from math import floor\n",
    "m=\"allo\"\n",
    "h = sha3_256(bytes(m, \"utf-8\")).hexdigest()"
   ]
  },
  {
   "cell_type": "markdown",
   "metadata": {},
   "source": [
    "Informations courbes ellipitues"
   ]
  },
  {
   "cell_type": "code",
   "execution_count": null,
   "metadata": {},
   "outputs": [],
   "source": [
    "#je met les paramétres de la courbe question 12 ici car ça me permet de tout executer\n",
    "\n",
    "a1=57896044618658097711785492504343953926634992332820282019728791901641727051837\n",
    "b1=398341948620716521344\n",
    "q1 = 2**252 + 27742317777372353535851937790883648493\n",
    "G1=(2, 2587177637973221124604506650587198648324617568965701997790174145338249409797)\n",
    "p1=(2**255-19)\n",
    "\n",
    "\n",
    "EC25519=[p1,a1,b1,G1,q1]\n",
    "\n",
    "ECbis=[23,1,2,[2,14],12]\n",
    "\n",
    "EC=[19,1,1,[16,16],21] \n",
    "\n",
    "EC_sous_groupe=[19,1,1,[14,2],7]"
   ]
  },
  {
   "cell_type": "markdown",
   "metadata": {},
   "source": [
    "Fonction qui implémente l'algorithme d'Euclide étendu.  Elle calcule le PGCD de a et b, ainsi que les coefficients de Bézout x et y."
   ]
  },
  {
   "cell_type": "code",
   "execution_count": 5,
   "metadata": {},
   "outputs": [],
   "source": [
    "#fonction outil à ne pas prendre en compte ( créer dans l'ancien dm)\n",
    "def xgcd(a,b): \n",
    "  x,y=1,0\n",
    "  u,v=0,1\n",
    "  while b != 0:\n",
    "   q,r=a//b,a%b\n",
    "   m,n=x-u*q,y-v*q #On fait l'opération L1-q*L2 (1)\n",
    "   a,b=b,r #On fait un décalage car la technique le veut. Le quotient devant le numérateur et le reste devient le quotient \n",
    "   x,y=u,v #Maintenant comme on fait L2-L3 les coefficients ne sont plus les mêmes pour la ligne de calcul(1), \n",
    "   u,v=m,n #donc on va echanger.\n",
    "  reste=a\n",
    "  return [reste,x,y] #a est le reste b "
   ]
  },
  {
   "cell_type": "markdown",
   "metadata": {},
   "source": [
    "# Début TP"
   ]
  },
  {
   "cell_type": "markdown",
   "metadata": {},
   "source": [
    "Concernant les points d’une courbe, nous en choisirons une représentation affine, à savoir un couple $(x,y) \\in F_p^2$\n",
    "satisfiant l’équation de la courbe. Le seul point qui ne rentrera pas dans le cadre de cette\n",
    "représentation est le point à l’infini, que nous représenterons par la chaîne de caractères \"ZERO\". Ainsi,\n",
    "nous devrons créer deux fonctions particulières :\n",
    "1. Une fonction ec_zero() qui retourne la représentation de ce point à l’infini (le neutre du groupe de\n",
    "points, autrement dit zéro), donc qui retourne la chaîne de caractères \"ZERO\" ;\n",
    "2. Une fonction ec_is_zero(P) qui retourne True si l’objet P passé en paramètre est égal à notre\n",
    "représentation du point à l’infini, et qui retourne False sinon."
   ]
  },
  {
   "cell_type": "markdown",
   "metadata": {},
   "source": [
    "Question 1.– Implanter les deux fonctions ec_zero() et ec_is_zero(P) décrites ci-dessus, puis vérifier\n",
    "que ec_is_zero(ec_zero()) retourne bien True."
   ]
  },
  {
   "cell_type": "code",
   "execution_count": 6,
   "metadata": {},
   "outputs": [
    {
     "data": {
      "text/plain": [
       "True"
      ]
     },
     "execution_count": 6,
     "metadata": {},
     "output_type": "execute_result"
    }
   ],
   "source": [
    "#Question 1\n",
    "\n",
    "def ec_zero():\n",
    "    return \"ZERO\"\n",
    "    \n",
    "def ec_is_zero(P):\n",
    "    if P==ec_zero():\n",
    "        return True\n",
    "    else :\n",
    "        return False\n",
    "    \n",
    "ec_is_zero(ec_zero())"
   ]
  },
  {
   "cell_type": "markdown",
   "metadata": {},
   "source": [
    "### Question 2.– \n",
    "IImplanter une fonction ec_opp(EC, P), qui prend en entrée la donnée d’une courbe elliptique EC et un point P de la courbe, et qui retourne l’opposé du point P (pour l’opération de groupe). On\n",
    "prendra garde à distinguer le cas où P est un point affine de la courbe, du cas où P est le point à l’infini."
   ]
  },
  {
   "cell_type": "code",
   "execution_count": 7,
   "metadata": {},
   "outputs": [
    {
     "data": {
      "text/plain": [
       "[1, 9]"
      ]
     },
     "execution_count": 7,
     "metadata": {},
     "output_type": "execute_result"
    }
   ],
   "source": [
    "#Question 2\n",
    "\n",
    "def ec_opp(EC,P):\n",
    "    p=EC[0]\n",
    "    if ec_is_zero(P)==True:\n",
    "        return ec_zero()\n",
    "    elif P==\"ZERO\":\n",
    "        return ec_zero()\n",
    "    else:\n",
    "        L=P.copy()\n",
    "        L[1]=-L[1]%p #Question : operation de groupe, comment faire pour distinguer dans EC l'opération de groupe.\n",
    "    return L\n",
    "\n",
    "A =[1,10]\n",
    "\n",
    "ec_opp(EC,A)\n",
    "\n",
    "\n"
   ]
  },
  {
   "cell_type": "code",
   "execution_count": null,
   "metadata": {},
   "outputs": [],
   "source": [
    "\n",
    "def inverse_modulaire(a,b):\n",
    "    coeffBezout=xgcd(a,b)\n",
    "    if coeffBezout[0]==1:\n",
    "        return coeffBezout[1]\n",
    "    else:\n",
    "        print(\"a et b ne sont pas premier entre eux\")"
   ]
  },
  {
   "cell_type": "markdown",
   "metadata": {},
   "source": [
    "### Question 3.– \n",
    "Implanter une fonction ec_double(EC, P), qui prend en entrée la donnée d’une courbe\n",
    "elliptique EC et un point P de la courbe, et qui retourne le double du point P (pour l’opération de groupe).\n",
    "On prendra garde à distinguer le cas où P est égal à son opposé des autres cas."
   ]
  },
  {
   "cell_type": "code",
   "execution_count": 10,
   "metadata": {},
   "outputs": [
    {
     "name": "stdout",
     "output_type": "stream",
     "text": [
      "[9, 13]\n"
     ]
    }
   ],
   "source": [
    "#Question 3\n",
    "def ec_double(EC, P):\n",
    "    p = EC[0]\n",
    "    if ec_is_zero(P) == True:\n",
    "        return ec_zero()\n",
    "    elif P[1] % p == -P[1] % p:\n",
    "        return ec_zero()\n",
    "\n",
    "    else:\n",
    "        inv = inverse_modulaire(2 * P[1], p)\n",
    "        u = ((3 * pow(P[0], 2, p) + EC[1]) * inv) % p\n",
    "        x3 = (pow(u, 2, p) - 2 * P[0]) % p\n",
    "        y3 = (-P[1] + u * (P[0] - x3)) % p\n",
    "        return [x3, y3]\n",
    "\n",
    "# Example usage:\n",
    "EC = [19, 1, 1, [16, 16], 21]\n",
    "P = [5, 6]\n",
    "print(ec_double(EC, P))\n"
   ]
  },
  {
   "cell_type": "code",
   "execution_count": 11,
   "metadata": {},
   "outputs": [
    {
     "data": {
      "text/plain": [
       "[3, 20]"
      ]
     },
     "execution_count": 11,
     "metadata": {},
     "output_type": "execute_result"
    }
   ],
   "source": [
    "ec_double(ECbis,[3,3])"
   ]
  },
  {
   "cell_type": "markdown",
   "metadata": {},
   "source": [
    "### Question 4.– \n",
    "Implanter une fonction ec_add(EC, P, Q), qui prend en entrée la donnée d’une courbe\n",
    "elliptique EC et deux points P et Q de la courbe, et qui retourne la somme des points P et Q (pour l’opération\n",
    "de groupe). Comme pour les questions précédentes, certains cas seront à distinguer."
   ]
  },
  {
   "cell_type": "code",
   "execution_count": 12,
   "metadata": {},
   "outputs": [
    {
     "data": {
      "text/plain": [
       "[3, 20]"
      ]
     },
     "execution_count": 12,
     "metadata": {},
     "output_type": "execute_result"
    }
   ],
   "source": [
    "#Question 4\n",
    "def ec_add(EC,P,Q) :\n",
    "    p=EC[0]\n",
    "    if ec_is_zero(P)==True and ec_is_zero(Q)==True:\n",
    "        return ec_zero()\n",
    "    elif ec_is_zero(P)==True and ec_is_zero(Q)==False:\n",
    "        return Q\n",
    "    elif ec_is_zero(P)==False and ec_is_zero(Q)==True:\n",
    "        return P\n",
    "    elif Q==ec_opp(EC,P) :\n",
    "        return ec_zero()\n",
    "    elif P==Q :\n",
    "        return ec_double(EC,P)\n",
    "    \n",
    "    else:\n",
    "        if xgcd(Q[0]-P[0],p)[0]!=1:\n",
    "            print(\"Le reste n'est pas égale à 1 mais à :\",xgcd(Q[0]-P[0],p)[0])\n",
    "        u=(Q[1]-P[1])*inverse_modulaire(Q[0]-P[0],p)\n",
    "        v=(P[1]-u*P[0])\n",
    "        x3=(u**2-P[0]-Q[0])\n",
    "        y3=(-P[1]+u*(P[0]-x3))\n",
    "        \n",
    "        return [x3%p,y3%p]\n",
    "    \n",
    "\n",
    "ec_add(ECbis,[2,14],[1,2])\n"
   ]
  },
  {
   "cell_type": "markdown",
   "metadata": {},
   "source": [
    "### Question 5.– \n",
    "Implanter une fonction ec_fast_mult(EC, P, m), qui prend en entrée la donnée d’une\n",
    "courbe elliptique EC, d’un point P de la courbe et d’un entier m, et qui retourne le point mP, c’est-à-dire le\n",
    "m-ème itéré du point P. Votre fonction devra utiliser la méthode double-and-add vue en cours, qui adapte\n",
    "la méthode d’exponentiation rapide au cas d’un groupe additif."
   ]
  },
  {
   "cell_type": "code",
   "execution_count": 13,
   "metadata": {},
   "outputs": [],
   "source": [
    "#Question 5\n",
    "def ec_fast_mult(EC, P, m):\n",
    "    if P== ec_zero() :\n",
    "        return P\n",
    "    else :\n",
    "        p=EC[0]\n",
    "        nombre_binaire = str(bin(m)[2:])\n",
    "        m_liste_binaire = [int(chiffre) for chiffre in nombre_binaire]\n",
    "        liste_binaire=m_liste_binaire[::-1]\n",
    "        R=ec_zero()\n",
    "        Q=P.copy()\n",
    "        #print(\"Q=\",Q)\n",
    "        L=[]\n",
    "        for i in range(0,len(liste_binaire)):\n",
    "            if liste_binaire[i]==1:\n",
    "                R=ec_add(EC,R,Q)\n",
    "            \n",
    "            Q=ec_add(EC,Q,Q)\n",
    "            L.append(Q)\n",
    "\n",
    "        return R"
   ]
  },
  {
   "cell_type": "markdown",
   "metadata": {},
   "source": [
    "### Question 6.– \n",
    "Créer une variable chaine_test contenant la chaîne de caractères\n",
    "\n",
    "\"Cryptographie à clé publique\"\n",
    "(sans les guillemets), et vérifier que son haché par la fonction SHA3-256 est, en écriture hexadécimale :\n",
    "2175c8e979e092c9dc9010e1c06ea490dff52f1bf5d9df8fd2b7f35b2ae58917"
   ]
  },
  {
   "cell_type": "code",
   "execution_count": null,
   "metadata": {},
   "outputs": [
    {
     "name": "stdout",
     "output_type": "stream",
     "text": [
      "True\n"
     ]
    }
   ],
   "source": [
    "from hashlib import sha3_256\n",
    "\n",
    "chaine_test=str('Cryptographie à clé publique')\n",
    "h3 = sha3_256(bytes(chaine_test, \"utf-8\")).hexdigest()\n",
    "print(h3==\"2175c8e979e092c9dc9010e1c06ea490dff52f1bf5d9df8fd2b7f35b2ae58917\")"
   ]
  },
  {
   "cell_type": "markdown",
   "metadata": {},
   "source": [
    "### Question 7.– \n",
    "\n",
    "Convertir le haché obtenu dans la question précédente en un entier, et vérifier que cet entier\n",
    "vaut\n",
    "15134431753598964768903003036524780383794702900043419402360626898381641713943"
   ]
  },
  {
   "cell_type": "code",
   "execution_count": 46,
   "metadata": {},
   "outputs": [
    {
     "name": "stdout",
     "output_type": "stream",
     "text": [
      "True\n"
     ]
    }
   ],
   "source": [
    "#Question 7\n",
    "h3_int=int(h3,16)\n",
    "print(h3_int==15134431753598964768903003036524780383794702900043419402360626898381641713943)"
   ]
  },
  {
   "cell_type": "markdown",
   "metadata": {},
   "source": [
    "### Question 8.– \n",
    "Soit q = 1000003. Hacher le contenu du fichier testfile.txt disponible à l’adresse suivante :\n",
    "https://lvzl.fr/teaching/2023-24/docs/cp/testfile.txt\n",
    "Puis, vérifier que le haché, converti en entier, puis réduit modulo q, vaut 943673."
   ]
  },
  {
   "cell_type": "code",
   "execution_count": 47,
   "metadata": {},
   "outputs": [
    {
     "name": "stdout",
     "output_type": "stream",
     "text": [
      "True\n"
     ]
    }
   ],
   "source": [
    "\n",
    "OuvrirTestFile = open(\"testfile.txt\", 'r')\n",
    "\n",
    "text_testfile = OuvrirTestFile.read()\n",
    "\n",
    "\n",
    "#Question 8\n",
    "hache_text=sha3_256(bytes(text_testfile, \"utf-8\")).hexdigest()\n",
    "\n",
    "hache_nombre=int(hache_text,16)%1000003\n",
    "print(hache_nombre==943673)"
   ]
  },
  {
   "cell_type": "markdown",
   "metadata": {},
   "source": [
    "### Question 9.– \n",
    "Implanter une fonction ecdsa_keygen(EC), qui prend en entrée la donnée d’une courbe\n",
    "elliptique EC, et qui retourne une paire de clés publique/privée du système de signature ECDSA."
   ]
  },
  {
   "cell_type": "code",
   "execution_count": 20,
   "metadata": {},
   "outputs": [],
   "source": [
    "#Question 9\n",
    "def ecdsa_keygen(EC) :\n",
    "    G,q=EC[-2:]\n",
    "    p=EC[0]\n",
    "    a=randint(1,q-1) \n",
    "\n",
    "    A=ec_fast_mult(EC,G,a)\n",
    "\n",
    "    return[A,a] #A:cle publique et a:cle secrete \n",
    "\n",
    "\n"
   ]
  },
  {
   "cell_type": "markdown",
   "metadata": {},
   "source": [
    "### Question 10.– \n",
    "Implanter une fonction ecdsa_sign(EC, message, sk), qui prend en entrée la donnée\n",
    "d’une courbe elliptique EC, une chaine de caractères message et une clé privée sk, et qui retourne une\n",
    "signature du message par la clé privée dans le système de signature ECDSA."
   ]
  },
  {
   "cell_type": "code",
   "execution_count": 21,
   "metadata": {},
   "outputs": [],
   "source": [
    "#Question 10\n",
    "\n",
    "import random \n",
    "\n",
    "def ecdsa_sign(EC,m,sk):\n",
    "    p,q,G=EC[0],EC[-1],EC[-2]\n",
    "    h = sha3_256(bytes(m, \"utf-8\")).hexdigest()\n",
    "    h1=int(h,16)%q\n",
    "    b,c=0,0\n",
    "\n",
    "    E=[]\n",
    "    while b==0 or c==0 :\n",
    "        k=randint(1,q-1) #On a suppose que q soit premier donc pas besoin de prendre un nombre inversible à\n",
    "        B=ec_fast_mult(EC,G,k)\n",
    "        \n",
    "        print(B,k)\n",
    "        b=B[0]%q\n",
    "        c=((h1+sk*b)*inverse_modulaire(k,q))%q\n",
    "    return [b,c]"
   ]
  },
  {
   "cell_type": "code",
   "execution_count": 48,
   "metadata": {},
   "outputs": [
    {
     "name": "stdout",
     "output_type": "stream",
     "text": [
      "[10, 17] 2\n",
      "[3, 6]\n"
     ]
    }
   ],
   "source": [
    "pk,sk=ecdsa_keygen(EC_sous_groupe)\n",
    "\n",
    "\n",
    "#il faut le mettre là parce que les fonctions sign ne sont pas deterministe(a cause de l'alea)\n",
    "s=ecdsa_sign(EC_sous_groupe,chaine_test,sk)\n",
    "print(s)\n"
   ]
  },
  {
   "cell_type": "code",
   "execution_count": 49,
   "metadata": {},
   "outputs": [
    {
     "name": "stdout",
     "output_type": "stream",
     "text": [
      "['ZERO', [14, 2], [10, 17], [15, 16], [15, 3], [10, 2], [14, 17], 'ZERO', [14, 2], [10, 17], [15, 16], [15, 3], [10, 2], [14, 17], 'ZERO', [14, 2], [10, 17], [15, 16], [15, 3], [10, 2], [14, 17]]\n"
     ]
    },
    {
     "data": {
      "text/plain": [
       "[14, 17]"
      ]
     },
     "execution_count": 49,
     "metadata": {},
     "output_type": "execute_result"
    }
   ],
   "source": [
    "#verification des fonctions mult et add\n",
    "\n",
    "G = EC_sous_groupe[-2]\n",
    "print([ec_fast_mult(EC_sous_groupe, G, i) for i in range(21)])\n",
    "Liste_cyclique=[(inverse_modulaire(k, 7)*k) % 7 for k in range(1,7)]\n",
    "\n",
    "ec_add(EC_sous_groupe,\"ZERO\",[14,17])\n"
   ]
  },
  {
   "cell_type": "markdown",
   "metadata": {},
   "source": [
    "### Question 11.– \n",
    "Implanter une fonction ecdsa_verif(EC, message, signature, pk), qui prend en entrée\n",
    "la donnée d’une courbe elliptique EC, une chaine de caractères message, une signature signature et une\n",
    "clé publique pk, et qui vérifie la validité de la signature vis à vis du message et de la clé, dans le système\n",
    "de signature ECDSA."
   ]
  },
  {
   "cell_type": "code",
   "execution_count": 50,
   "metadata": {},
   "outputs": [
    {
     "data": {
      "text/plain": [
       "True"
      ]
     },
     "execution_count": 50,
     "metadata": {},
     "output_type": "execute_result"
    }
   ],
   "source": [
    "#Question 11 \n",
    "def verif_signature(EC,m,s,pk):\n",
    "    q=EC[-1]\n",
    "    b,c=s.copy() #Je copie la signature s\n",
    "    G,q=EC[-2:].copy()\n",
    "    p=EC[0]\n",
    "    \n",
    "    h = sha3_256(bytes(m, \"utf-8\")).hexdigest()\n",
    "    h1=int(h,16)%q\n",
    "\n",
    "    #print(\"c=\",c, \"reste =\",xgcd(c,q)[0])\n",
    "    premiere_partie=(h1*inverse_modulaire(c,q))%q\n",
    "    deuxieme_partie=(b*inverse_modulaire(c,q))%q\n",
    "\n",
    "    P=ec_fast_mult(EC,G,premiere_partie)\n",
    "    Q=ec_fast_mult(EC,pk,deuxieme_partie)\n",
    "\n",
    "    R=ec_add(EC,P,Q)\n",
    "\n",
    "    x_r=R[0]%q\n",
    "    return x_r==b #On met return car on a besoin d'une valeur de retour pour la question 13 (sinon ça retourne aucune signature valide)\n",
    "\n",
    "\n",
    "\n",
    "EC2=[]\n",
    "\n",
    "verif_signature(EC_sous_groupe,chaine_test,s,pk)\n"
   ]
  },
  {
   "cell_type": "markdown",
   "metadata": {},
   "source": [
    "### Question 12.– \n",
    "Stocker les paramètres de la courbe Curve25519, puis vérifier que l’entier q est premier et\n",
    "que qG = O."
   ]
  },
  {
   "cell_type": "code",
   "execution_count": 51,
   "metadata": {},
   "outputs": [
    {
     "name": "stdout",
     "output_type": "stream",
     "text": [
      "True\n"
     ]
    },
    {
     "data": {
      "text/plain": [
       "'ZERO'"
      ]
     },
     "execution_count": 51,
     "metadata": {},
     "output_type": "execute_result"
    }
   ],
   "source": [
    "#Question 12\n",
    "a1=57896044618658097711785492504343953926634992332820282019728791901641727051837\n",
    "b1=398341948620716521344\n",
    "q1 = 2**252 + 27742317777372353535851937790883648493\n",
    "G1=[2, 2587177637973221124604506650587198648324617568965701997790174145338249409797]\n",
    "p1=(2**255-19)\n",
    "\n",
    "\n",
    "EC25519=[p1,a1,b1,G1,q1]\n",
    "print(isPrime(q1))\n",
    "\n",
    "\n",
    "ec_fast_mult(EC25519,G1,q1)"
   ]
  },
  {
   "cell_type": "markdown",
   "metadata": {},
   "source": [
    "Pour terminer cet exercice, dans l’archive disponible à cette adresse :\n",
    "https://lvzl.fr/teaching/2023-24/docs/cp/devoirs/devoir2.zip\n",
    "vous trouverez différents fichiers.\n",
    "1. Un fichier 4 nommé rfc8031.txt contenant une spécification de l’utilisation de la courbe\n",
    "Curve25519 en cryptographie.\n",
    "2. Un fichier nommé publickey.txt, qui contient deux lignes qui représentent les deux coordronnées\n",
    "(x et y, dans l’ordre) d’une clé publique ECDSA instanciée avec Curve25519.\n",
    "3. 100 fichiers nommés signature<ii>.txt où ii va de 00 à 99, de deux lignes chacun. Ces fichiers\n",
    "représentent chacun une signature potentielle du contenu de rfc8031.txt avec la clé privée associée\n",
    "à publickey.txt (vous n’avez pas cette clé privée, c’est normal). La première ligne de chaque fichier\n",
    "correspond à l’entier b de la signature, la seconde ligne à c.\n",
    "### Question 13.– \n",
    "Déterminer, parmi ces 100 signatures, l’unique signature valide du message consistant en\n",
    "le texte contenu dans le fichier rfc8031.txt."
   ]
  },
  {
   "cell_type": "code",
   "execution_count": 52,
   "metadata": {},
   "outputs": [
    {
     "name": "stdout",
     "output_type": "stream",
     "text": [
      "La signature 37 est valide\n"
     ]
    }
   ],
   "source": [
    "#Question 13\n",
    "\n",
    "h_long = sha3_256(bytes(chaine_test, 'utf-8')).hexdigest()\n",
    "\n",
    "with open('publickey.txt', 'r') as fichier_cle_publique:\n",
    "    # Lire les deux lignes du fichier\n",
    "    premiere_ligne =fichier_cle_publique.readline()\n",
    "    deuxieme_ligne =fichier_cle_publique.readline()\n",
    "\n",
    "pk1 = [int(premiere_ligne), int(deuxieme_ligne)]\n",
    "\n",
    "with open(\"rfc8031.txt\", 'r') as texte_rfc:\n",
    "    texte =texte_rfc.read()\n",
    "\n",
    "    \n",
    "compteur_arret=0\n",
    "for i in range(0, 100):\n",
    "    if i <= 9:\n",
    "        numero =\"0\" + str(i)\n",
    "    else:\n",
    "        numero =str(i)\n",
    "    #print(\"signature\"+a+\".txt\")\n",
    "\n",
    "    with open(\"signature\" + numero + \".txt\", 'r') as fichier_signature:\n",
    "\n",
    "        # Lire les deux lignes du fichier\n",
    "        premiere_ligne_b =fichier_signature.readline()\n",
    "        deuxieme_ligne_c =fichier_signature.readline()\n",
    "        signature_fichier =[int(premiere_ligne_b), int(deuxieme_ligne_c)]\n",
    "        #print(\"signature\" + numero + \".txt\")\n",
    "\n",
    "\n",
    "    if verif_signature(EC25519,texte,signature_fichier,pk1) == True:\n",
    "          \n",
    "        print(\"La signature\", i, \"est valide\")\n",
    "        compteur_arret=1\n",
    "        break\n",
    "    fichier_signature.close()\n",
    "\n",
    "fichier_cle_publique.close()\n",
    "texte_rfc.close()\n",
    "if compteur_arret == 0:\n",
    "    print(\"Aucune signature valide trouvée.\")\n",
    "    "
   ]
  },
  {
   "cell_type": "markdown",
   "metadata": {},
   "source": [
    "### Bonus\n",
    "\n",
    "Tentative d'appliquer la méthode décrite dans le documents RFC8031"
   ]
  },
  {
   "cell_type": "code",
   "execution_count": 28,
   "metadata": {},
   "outputs": [
    {
     "name": "stdout",
     "output_type": "stream",
     "text": [
      "taille 1111 4\n",
      "taille de random_i_1 7\n",
      "Normalement ça c'est un nombre 11111... qui  a deux bits en moins que random_i \n",
      " 0b1111\n",
      "Normalement ça c'est le même nombre que 11100... qui a la même taille que en haut mais avec deux 0 a la fin \n",
      " 0b1100\n",
      "Le nombre qu'on veut changer random_i_1 et sa taille :\n",
      " 0b1011111\n",
      "Normalement on a mis les deux bits les plus significatifs à 0\n",
      " 0b1100\n",
      "Transition \n",
      "\n",
      "taille 1111 5\n",
      "taille de random_i_2 8\n",
      "Normalement ça c'est un nombre 11111... qui  a deux bits en moins que random_i \n",
      " 0b11111\n",
      "Normalement ça c'est le même nombre que 11100... qui a la même taille que en haut mais avec deux 0 a la fin \n",
      " 0b11100\n",
      "Le nombre qu'on veut changer random_i_2 :\n",
      " 0b11110000\n",
      "Normalement on a mis les deux bits les plus significatifs à 0\n",
      " 0b10000\n"
     ]
    },
    {
     "data": {
      "text/plain": [
       "[1306240937421283857797517116128141935824328186622103880450556718206223358,\n",
       " 2065957986437284250013802122287600446644009744054476956491215597420305141]"
      ]
     },
     "execution_count": 28,
     "metadata": {},
     "output_type": "execute_result"
    }
   ],
   "source": [
    "import math\n",
    "\n",
    "\n",
    "def random_bits(bit_length):\n",
    "    # Générer un nombre aléatoire avec la taille de bits donnée\n",
    "    random_number = random.getrandbits(bit_length)\n",
    "    \n",
    "    # Convertir le nombre aléatoire en chaîne binaire et la remplir avec des zéros à gauche si nécessaire\n",
    "    binary_string = bin(random_number)[2:].zfill(bit_length)\n",
    "    \n",
    "    return int(binary_string,2)\n",
    "\n",
    "def transformation_bit():\n",
    "    random_i=random_bits(8*32)\n",
    "    random_r=random_bits(8*32)\n",
    "    #random_i,random_r=bin(random_i),bin(random_r)\n",
    "\n",
    "    liste_1111_ver1,liste_1111_ver2=1,1\n",
    "\n",
    "    random_i_1=int(bin(random_i)[0:9],2)\n",
    "    random_i_2=int(bin(random_i)[-8:],2)\n",
    "    \n",
    "    taille_random_i_1=math.ceil(log2(random_i_1))\n",
    "    taille_random_i_2=math.ceil(log2(random_i_2))\n",
    "    for i in range(0,taille_random_i_1-3-1):\n",
    "        liste_1111_ver1=(liste_1111_ver1<<1)+1\n",
    "    \n",
    "    for i in range(0,taille_random_i_2-3-1):\n",
    "        liste_1111_ver2=(liste_1111_ver2<<1)+1\n",
    "\n",
    "\n",
    "    taille_random_i=math.ceil(log2(random_i))\n",
    "   \n",
    "    print(\"taille 1111\",math.ceil(log2(liste_1111_ver1)))\n",
    "    print(\"taille de random_i_1\",int(math.log2(random_i_1)) + 1)\n",
    "\n",
    "\n",
    "    liste_1100_ver_1=liste_1111_ver1-3\n",
    "    liste_000100_ver_1=(random_i_1&liste_1100_ver_1)\n",
    "\n",
    "    liste_1100_ver_2=liste_1111_ver2-3\n",
    "    liste_000100_ver_2=(random_i_2&liste_1100_ver_2)\n",
    "\n",
    "    \n",
    "\n",
    "    print(\"Normalement ça c'est un nombre 11111... qui  a deux bits en moins que random_i \\n\",bin(liste_1111_ver1))\n",
    "    print(\"Normalement ça c'est le même nombre que 11100... qui a la même taille que en haut mais avec deux 0 a la fin \\n\",bin(liste_1100_ver_1))\n",
    "    #liste_000100_ver_1_ver_1_ver_1=liste_1100_ver_1&liste_1111\n",
    "    print(\"Le nombre qu'on veut changer random_i_1 et sa taille :\\n\",bin(random_i_1),)\n",
    "    print(\"Normalement on a mis les deux bits les plus significatifs à 0\\n\",bin(liste_000100_ver_1))\n",
    "    print(\"Transition \\n\")\n",
    " \n",
    "    print(\"taille 1111\",math.ceil(log2(liste_1111_ver2)))\n",
    "    print(\"taille de random_i_2\",int(math.log2(random_i_2)) + 1)\n",
    "\n",
    "    print(\"Normalement ça c'est un nombre 11111... qui  a deux bits en moins que random_i \\n\",bin(liste_1111_ver2))\n",
    "    print(\"Normalement ça c'est le même nombre que 11100... qui a la même taille que en haut mais avec deux 0 a la fin \\n\",bin(liste_1100_ver_2))\n",
    "    #liste_000100_ver_1_ver_1_ver_1=liste_1100_ver_1&liste_1111\n",
    "    print(\"Le nombre qu'on veut changer random_i_2 :\\n\",bin(random_i_2))\n",
    "    print(\"Normalement on a mis les deux bits les plus significatifs à 0\\n\",bin(liste_000100_ver_2))\n",
    "\n",
    "    fixed_i = liste_000100_ver_1 + int(bin(random_i)[9:-8],2) + liste_000100_ver_2\n",
    "\n",
    "    liste_1111_ver1,liste_1111_ver2=1,1\n",
    "\n",
    "    random_r_1=int(bin(random_r)[0:9],2)\n",
    "    random_r_2=int(bin(random_r)[-8:],2)\n",
    "    taille_random_r=math.ceil(log2(random_r))\n",
    "\n",
    "\n",
    "    taille_random_r_1=math.ceil(log2(random_r_1))\n",
    "    taille_random_r_2=math.ceil(log2(random_r_2))\n",
    "\n",
    "    for i in range(0,taille_random_r_1-3-1):\n",
    "        liste_1111_ver1=(liste_1111_ver1<<1)+1\n",
    "    \n",
    "    for i in range(0,taille_random_r_2-3-1):\n",
    "        liste_1111_ver2=(liste_1111_ver2<<1)+1\n",
    "\n",
    "    liste_1100_ver_1=liste_1111_ver1-3\n",
    "    liste_000100_ver_1=(random_r_1&liste_1100_ver_1)\n",
    "    liste_1100_ver_2=liste_1111_ver2-3\n",
    "    liste_000100_ver_2=(random_r_2&liste_1111_ver2)&liste_1100_ver_2\n",
    "\n",
    "    fixed_j=liste_000100_ver_1 + int(bin(random_r)[9:-8],2) +liste_000100_ver_2\n",
    "    \n",
    "\n",
    "\n",
    "    return[fixed_i,fixed_j]\n",
    "\n",
    "\n",
    "transformation_bit()\n",
    "\n",
    "\n"
   ]
  },
  {
   "cell_type": "code",
   "execution_count": 29,
   "metadata": {},
   "outputs": [
    {
     "name": "stdout",
     "output_type": "stream",
     "text": [
      "taille 1111 4\n",
      "taille de random_i_1 7\n",
      "Normalement ça c'est un nombre 11111... qui  a deux bits en moins que random_i \n",
      " 0b1111\n",
      "Normalement ça c'est le même nombre que 11100... qui a la même taille que en haut mais avec deux 0 a la fin \n",
      " 0b1100\n",
      "Le nombre qu'on veut changer random_i_1 et sa taille :\n",
      " 0b1110000\n",
      "Normalement on a mis les deux bits les plus significatifs à 0\n",
      " 0b0\n",
      "Transition \n",
      "\n",
      "taille 1111 5\n",
      "taille de random_i_2 8\n",
      "Normalement ça c'est un nombre 11111... qui  a deux bits en moins que random_i \n",
      " 0b11111\n",
      "Normalement ça c'est le même nombre que 11100... qui a la même taille que en haut mais avec deux 0 a la fin \n",
      " 0b11100\n",
      "Le nombre qu'on veut changer random_i_2 :\n",
      " 0b10001100\n",
      "Normalement on a mis les deux bits les plus significatifs à 0\n",
      " 0b1100\n"
     ]
    }
   ],
   "source": [
    "fixed_i,fixed_r=transformation_bit()\n",
    "\n",
    "def keygen_private(fixed_i,fixed_r,EC):\n",
    "    d_i = fixed_i.to_bytes(32, byteorder='little')\n",
    "    d_r= fixed_r.to_bytes(32, byteorder='little')\n",
    "    pub_i=ec_fast_mult(EC25519,EC25519[-2],d_i) #ou calculer ec_fast_mult(G,donnees_encodee1) avec les données de la courbe\n",
    "    pub_r=ec_fast_mult(EC25519,EC25519[-2],d_r)\n",
    "\n",
    "    Shared_secret=ec_fast_mult(EC25519,pub_i,d_i)\n",
    "    if Shared_secret==ec_fast_mult(EC25519,pub_r,d_r) :  #et la aussi on doit faire ec_fast_mult(G,donnees_encodee2)\n",
    "        return Shared_secret  #PROBLEME: ça ne peut pas être la clé privée\n",
    "    else:\n",
    "        print(\"Le secret n'est pas commun\")\n"
   ]
  },
  {
   "cell_type": "code",
   "execution_count": null,
   "metadata": {},
   "outputs": [],
   "source": []
  }
 ],
 "metadata": {
  "kernelspec": {
   "display_name": "Python 3",
   "language": "python",
   "name": "python3"
  },
  "language_info": {
   "codemirror_mode": {
    "name": "ipython",
    "version": 3
   },
   "file_extension": ".py",
   "mimetype": "text/x-python",
   "name": "python",
   "nbconvert_exporter": "python",
   "pygments_lexer": "ipython3",
   "version": "3.9.6"
  }
 },
 "nbformat": 4,
 "nbformat_minor": 2
}
